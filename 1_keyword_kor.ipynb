{
 "cells": [
  {
   "cell_type": "markdown",
   "metadata": {},
   "source": [
    "## 1. Keyword/Text search with Korean Analyzer\n",
    "\n",
    "### Analyzer\n",
    "\n",
    "- https://learn.microsoft.com/en-us/azure/search/search-analyzers\n",
    "- https://learn.microsoft.com/en-us/azure/search/index-add-language-analyzers"
   ]
  },
  {
   "cell_type": "code",
   "execution_count": 1,
   "metadata": {},
   "outputs": [
    {
     "data": {
      "text/plain": [
       "True"
      ]
     },
     "execution_count": 1,
     "metadata": {},
     "output_type": "execute_result"
    }
   ],
   "source": [
    "from dotenv import load_dotenv\n",
    "load_dotenv()"
   ]
  },
  {
   "cell_type": "code",
   "execution_count": 2,
   "metadata": {},
   "outputs": [],
   "source": [
    "from azure.core.credentials import AzureKeyCredential  \n",
    "from azure.search.documents import SearchClient  \n",
    "from azure.search.documents.indexes import SearchIndexClient  \n",
    "from azure.search.documents.indexes.models import (  \n",
    "    SearchIndex,  \n",
    "    SearchField,  \n",
    "    SearchFieldDataType,  \n",
    "    SimpleField,  \n",
    "    SearchableField,  \n",
    "    SearchIndex,  \n",
    ")"
   ]
  },
  {
   "cell_type": "code",
   "execution_count": 3,
   "metadata": {},
   "outputs": [],
   "source": [
    "import os\n",
    "service_endpoint = os.getenv(\"AZSCH_ENDPOINT\")  \n",
    "credential = AzureKeyCredential(os.environ[\"AZSCH_KEY\"])\n",
    "\n",
    "#print(service_endpoint)"
   ]
  },
  {
   "cell_type": "code",
   "execution_count": 4,
   "metadata": {},
   "outputs": [],
   "source": [
    "# Create a search index\n",
    "def create_search_index(index_name):\n",
    "    index_client = SearchIndexClient(\n",
    "        endpoint=service_endpoint, credential=credential)\n",
    "    fields = [\n",
    "        SimpleField(name=\"id\", type=SearchFieldDataType.String, key=True),\n",
    "        SearchableField(name=\"proverb\", type=SearchFieldDataType.String,\n",
    "                        searchable=True, retrievable=True,\n",
    "                        analyzer_name=\"ko.microsoft\"),\n",
    "        SearchableField(name=\"meaning\", type=SearchFieldDataType.String,\n",
    "                        searchable=True, retrievable=True,\n",
    "                        analyzer_name=\"ko.microsoft\"),\n",
    "        SearchableField(name=\"source\", type=SearchFieldDataType.String,\n",
    "                        searchable=False, retrievable=True,\n",
    "                        facetable=True, filterable=True),\n",
    "        SearchableField(name=\"type\", type=SearchFieldDataType.String,\n",
    "                        searchable=False, retrievable=True,\n",
    "                        facetable=True, filterable=True),\n",
    "    ]\n",
    "\n",
    "    # Create the search index\n",
    "    index = SearchIndex(name=index_name, fields=fields)\n",
    "    result = index_client.create_or_update_index(index)\n",
    "    print(f' {result.name} created')"
   ]
  },
  {
   "cell_type": "code",
   "execution_count": 5,
   "metadata": {},
   "outputs": [
    {
     "name": "stdout",
     "output_type": "stream",
     "text": [
      " korproverb-keyword-index created\n"
     ]
    }
   ],
   "source": [
    "index_name = \"korproverb-keyword-index\"\n",
    "create_search_index(index_name)"
   ]
  },
  {
   "cell_type": "code",
   "execution_count": 6,
   "metadata": {},
   "outputs": [],
   "source": [
    "search_client = SearchClient(endpoint=service_endpoint, index_name=index_name, credential=credential)"
   ]
  },
  {
   "cell_type": "code",
   "execution_count": 7,
   "metadata": {},
   "outputs": [],
   "source": [
    "import pandas as pd\n",
    "from tqdm import tqdm"
   ]
  },
  {
   "cell_type": "code",
   "execution_count": 8,
   "metadata": {},
   "outputs": [
    {
     "data": {
      "text/html": [
       "<div>\n",
       "<style scoped>\n",
       "    .dataframe tbody tr th:only-of-type {\n",
       "        vertical-align: middle;\n",
       "    }\n",
       "\n",
       "    .dataframe tbody tr th {\n",
       "        vertical-align: top;\n",
       "    }\n",
       "\n",
       "    .dataframe thead th {\n",
       "        text-align: right;\n",
       "    }\n",
       "</style>\n",
       "<table border=\"1\" class=\"dataframe\">\n",
       "  <thead>\n",
       "    <tr style=\"text-align: right;\">\n",
       "      <th></th>\n",
       "      <th>Description</th>\n",
       "      <th>Meaning</th>\n",
       "      <th>Source</th>\n",
       "      <th>Type</th>\n",
       "    </tr>\n",
       "  </thead>\n",
       "  <tbody>\n",
       "    <tr>\n",
       "      <th>0</th>\n",
       "      <td>가갸 뒤 자〔뒷다리〕도 모른다</td>\n",
       "      <td>글자를 모르는 사람을 비유적으로 이르는 말.,사리에 어두운 사람을 놀림조로 이르는 말.</td>\n",
       "      <td>고려대 한국어대사전</td>\n",
       "      <td>속담</td>\n",
       "    </tr>\n",
       "    <tr>\n",
       "      <th>1</th>\n",
       "      <td>가까운 남이 먼 일가보다 낫다</td>\n",
       "      <td>이웃끼리 서로 친하게 지내다 보면 먼 곳에 있는 일가보다 더 친하게 되어 서로 도우...</td>\n",
       "      <td>표준국어대사전</td>\n",
       "      <td>속담</td>\n",
       "    </tr>\n",
       "    <tr>\n",
       "      <th>2</th>\n",
       "      <td>가까운 데 집은 깎이고 먼 데 절은 비친다</td>\n",
       "      <td>가까운 데 있는 절이나 집은 자잘한 흠도 잘 드러나서 좋지 않아 보이고 먼 곳에 윤...</td>\n",
       "      <td>표준국어대사전</td>\n",
       "      <td>속담</td>\n",
       "    </tr>\n",
       "    <tr>\n",
       "      <th>3</th>\n",
       "      <td>가까운 무당보다 먼 데 무당이 영하다</td>\n",
       "      <td>흔히 사람은 자신이 잘 알고 가까이 있는 것보다는 잘 모르고 멀리 있는 것을 더 좋...</td>\n",
       "      <td>표준국어대사전</td>\n",
       "      <td>속담</td>\n",
       "    </tr>\n",
       "    <tr>\n",
       "      <th>4</th>\n",
       "      <td>가까운 집 며느리일수록 흉이 많다</td>\n",
       "      <td>늘 가까이 있고 잘 아는 사이일수록 상대편의 결점이 눈에 더 많이 띈다는 말.</td>\n",
       "      <td>표준국어대사전</td>\n",
       "      <td>속담</td>\n",
       "    </tr>\n",
       "  </tbody>\n",
       "</table>\n",
       "</div>"
      ],
      "text/plain": [
       "               Description                                            Meaning  \\\n",
       "0         가갸 뒤 자〔뒷다리〕도 모른다   글자를 모르는 사람을 비유적으로 이르는 말.,사리에 어두운 사람을 놀림조로 이르는 말.   \n",
       "1         가까운 남이 먼 일가보다 낫다  이웃끼리 서로 친하게 지내다 보면 먼 곳에 있는 일가보다 더 친하게 되어 서로 도우...   \n",
       "2  가까운 데 집은 깎이고 먼 데 절은 비친다  가까운 데 있는 절이나 집은 자잘한 흠도 잘 드러나서 좋지 않아 보이고 먼 곳에 윤...   \n",
       "3     가까운 무당보다 먼 데 무당이 영하다  흔히 사람은 자신이 잘 알고 가까이 있는 것보다는 잘 모르고 멀리 있는 것을 더 좋...   \n",
       "4       가까운 집 며느리일수록 흉이 많다        늘 가까이 있고 잘 아는 사이일수록 상대편의 결점이 눈에 더 많이 띈다는 말.   \n",
       "\n",
       "       Source Type  \n",
       "0  고려대 한국어대사전   속담  \n",
       "1     표준국어대사전   속담  \n",
       "2     표준국어대사전   속담  \n",
       "3     표준국어대사전   속담  \n",
       "4     표준국어대사전   속담  "
      ]
     },
     "execution_count": 8,
     "metadata": {},
     "output_type": "execute_result"
    }
   ],
   "source": [
    "df = pd.read_csv('./source/idioms.csv')\n",
    "df.head()"
   ]
  },
  {
   "cell_type": "code",
   "execution_count": 9,
   "metadata": {},
   "outputs": [
    {
     "name": "stderr",
     "output_type": "stream",
     "text": [
      "100%|██████████| 164/164 [00:32<00:00,  5.10it/s]\n"
     ]
    }
   ],
   "source": [
    "count = 0\n",
    "batch_size = 40\n",
    "for i in tqdm(range(0, len(df), batch_size)):\n",
    "    # set end position of batch\n",
    "    i_end = min(i+batch_size, len(df))\n",
    "    \n",
    "    documents = df[i:i_end].apply(\n",
    "        lambda row: {'id': str(row.name), \n",
    "                     'proverb': row['Description'], \n",
    "                     'meaning': row['Meaning'],\n",
    "                     'source': row['Source'],\n",
    "                     'type': str(row['Type'])\n",
    "                    }, axis=1).to_list()\n",
    "    \n",
    "    result = search_client.upload_documents(documents)  "
   ]
  },
  {
   "cell_type": "code",
   "execution_count": 10,
   "metadata": {},
   "outputs": [],
   "source": [
    "from azure.search.documents.models import (\n",
    "    QueryType,\n",
    "    SearchMode\n",
    ")\n",
    "\n",
    "import json\n",
    "\n",
    "def azsch_text_query(query, type=QueryType.Simple, mode=SearchMode.Any):\n",
    "\n",
    "    results = search_client.search(  \n",
    "        search_text=query,\n",
    "        query_type=type,\n",
    "        search_mode=mode,\n",
    "        search_fields=[\"meaning\"],\n",
    "        select=[\"proverb\", \"meaning\", \"source\", \"type\"],\n",
    "        query_language=\"ko-kr\",\n",
    "        top=10 # for limiting text search\n",
    "    ) \n",
    "    \n",
    "    print(\"Search Results:\")\n",
    "    for i, result in enumerate(results, 1): \n",
    "        print(f\"{i}: {result['@search.score']:.10f}: {result['proverb']} - {result['meaning']}, {result['type']}\")  \n"
   ]
  },
  {
   "cell_type": "markdown",
   "metadata": {},
   "source": [
    "## Demo\n",
    "\n",
    "- basic keyword search\n",
    "- filter\n",
    "- paging\n",
    "- faceting"
   ]
  },
  {
   "cell_type": "markdown",
   "metadata": {},
   "source": [
    "### basic search"
   ]
  },
  {
   "cell_type": "code",
   "execution_count": 11,
   "metadata": {},
   "outputs": [
    {
     "name": "stdout",
     "output_type": "stream",
     "text": [
      "Search Results:\n",
      "1: 7.9132340000: 몸부림 치다 - (사람이) 온갖 노력을 다하다., 관용구\n",
      "2: 7.5999850000: 피땀 흘리다 - 온갖 힘과 정성을 쏟아 노력하다., 관용구\n",
      "3: 6.5693436000: 소불알 떨어지면 구워 먹겠다고 소금 가지고 따라다닌다 - 노력은 안 하고 산 소의 불알이 저절로 떨어지기를 마냥 기다리기만 한다는 뜻으로, 노력 없이 요행만 바라는 헛된 짓을 비유적으로 이르는 말., 속담\n",
      "4: 6.0504380000: 양반은 물에 빠져도 개헤엄은 안 한다 - 아무리 위급한 때라도 체면을 유지하려고 노력한다는 말., 속담\n",
      "5: 5.9048786000: 하늘에서  떨어지다 - (어떠한 성과가) 별로 노력을 들이지 않았는데 저절로 얻어지다., 관용구\n",
      "6: 5.8381233000: 내 침 발라 꼰 새끼가 제일 - 자기의 노력을 들여 이룩한 성과가 귀중함을 비유적으로 이르는 말., 속담\n",
      "7: 5.8216457000: 새도 날려면 움츠린다 - 무슨 일이든 사전에 준비할 틈과 노력이 필요하다는 말. (=개구리도 옴쳐야 뛴다.), 속담\n",
      "8: 5.7526180000: 둔한 말이 열 수레를 끈다 - 미련하고 둔한 사람이라 하더라도 쉬지 않고 노력하면 큰일을 할 수 있다는 말., 속담\n",
      "9: 5.6404715000: 눈을 떠야 별을 보지 - 어떤 성과를 거두려면 그에 상당한 노력과 준비가 있어야 한다는 말., 속담\n",
      "10: 5.6404715000: 체메 들다 - 남의 사정이나 수단에 의하여 어이없이 돈이나 노력을 대신 부담하다., 관용구\n"
     ]
    }
   ],
   "source": [
    "results = azsch_text_query('노력')"
   ]
  },
  {
   "cell_type": "code",
   "execution_count": 12,
   "metadata": {},
   "outputs": [
    {
     "name": "stdout",
     "output_type": "stream",
     "text": [
      "Search Results:\n",
      "1: 12.2485750000: 눈을 떠야 별을 보지 - 어떤 성과를 거두려면 그에 상당한 노력과 준비가 있어야 한다는 말., 속담\n",
      "2: 11.0136430000: 새도 날려면 움츠린다 - 무슨 일이든 사전에 준비할 틈과 노력이 필요하다는 말. (=개구리도 옴쳐야 뛴다.), 속담\n",
      "3: 10.2823400000: 잠을 자야 꿈을 꾸지 - 어떤 성과를 거두려면 그에 상당한 노력과 준비가 있어야 한다는 말.,원인 없이 결과를 바랄 수 없음을 이르는 말., 속담\n",
      "4: 9.4363500000: 하늘을 보아야 별을 따지 - 어떤 성과를 거두려면 그에 상당한 노력과 준비가 있어야 한다는 말.,무슨 일이 이루어질 기회나 조건이 전혀 없음을 이르는 말., 속담\n",
      "5: 7.9132340000: 몸부림 치다 - (사람이) 온갖 노력을 다하다., 관용구\n",
      "6: 7.7247815000: 노루 본 놈이〔노루 보고〕 그물 짊어진다 - 무슨 일을 미리 준비하지 않고 일을 당해서야 허겁지겁 준비함을 비유적으로 이르는 말., 속담\n",
      "7: 7.5999850000: 피땀 흘리다 - 온갖 힘과 정성을 쏟아 노력하다., 관용구\n",
      "8: 7.0838730000: 신들메를 조이다 - 어떤 일을 할 준비를 든든히 하다., 관용구\n",
      "9: 6.5693436000: 소불알 떨어지면 구워 먹겠다고 소금 가지고 따라다닌다 - 노력은 안 하고 산 소의 불알이 저절로 떨어지기를 마냥 기다리기만 한다는 뜻으로, 노력 없이 요행만 바라는 헛된 짓을 비유적으로 이르는 말., 속담\n",
      "10: 6.4667630000: 이도 안 나다 - 어떤 일을 감당하기에는 수준이나 준비 정도가 적당하지 않다., 관용구\n"
     ]
    }
   ],
   "source": [
    "azsch_text_query('노력 준비')"
   ]
  },
  {
   "cell_type": "code",
   "execution_count": 13,
   "metadata": {},
   "outputs": [
    {
     "name": "stdout",
     "output_type": "stream",
     "text": [
      "Search Results:\n",
      "1: 12.2485750000: 눈을 떠야 별을 보지 - 어떤 성과를 거두려면 그에 상당한 노력과 준비가 있어야 한다는 말., 속담\n",
      "2: 11.0136430000: 새도 날려면 움츠린다 - 무슨 일이든 사전에 준비할 틈과 노력이 필요하다는 말. (=개구리도 옴쳐야 뛴다.), 속담\n",
      "3: 10.2823400000: 잠을 자야 꿈을 꾸지 - 어떤 성과를 거두려면 그에 상당한 노력과 준비가 있어야 한다는 말.,원인 없이 결과를 바랄 수 없음을 이르는 말., 속담\n",
      "4: 9.4363500000: 하늘을 보아야 별을 따지 - 어떤 성과를 거두려면 그에 상당한 노력과 준비가 있어야 한다는 말.,무슨 일이 이루어질 기회나 조건이 전혀 없음을 이르는 말., 속담\n"
     ]
    }
   ],
   "source": [
    "azsch_text_query('+노력 +준비')"
   ]
  },
  {
   "cell_type": "code",
   "execution_count": 14,
   "metadata": {},
   "outputs": [
    {
     "name": "stdout",
     "output_type": "stream",
     "text": [
      "Search Results:\n",
      "1: 14.8988640000: 누구는 날 때부터 안다더냐 - 사람이면 누구나 똑같으므로 열심히 노력하면 배울 수 있다는 말., 속담\n",
      "2: 12.1209720000: 십 년 적공이면 한 가지 성공을 한다 - 무슨 일이든지 오랫동안 꾸준히 노력하면 마침내는 성공하게 됨을 이르는 말., 속담\n",
      "3: 8.0702250000: 둔한 말이 열 수레를 끈다 - 미련하고 둔한 사람이라 하더라도 쉬지 않고 노력하면 큰일을 할 수 있다는 말., 속담\n",
      "4: 7.9132340000: 몸부림 치다 - (사람이) 온갖 노력을 다하다., 관용구\n",
      "5: 7.5999850000: 피땀 흘리다 - 온갖 힘과 정성을 쏟아 노력하다., 관용구\n",
      "6: 7.5652870000: 눈과 귀가 쏠리다 - 마음이 끌리어 열심히 듣거나 보다., 관용구\n",
      "7: 7.4523780000: 절뚝발이 말이 천리 간다 - 누구나 꾸준히 노력하면 무슨 일이든 이룰 수 있다는 말. (=둔한 말도 열흘 가면 천리를 간다.), 속담\n",
      "8: 7.1888440000: 소매가 길면 춤을 잘 추고 돈이 많으면 장사를 잘한다 - 수단이나 밑천이 든든하면 성공하기 쉽다는 말., 속담\n",
      "9: 7.1469235000: 쥐도 한몫 보면 락이 있다 - 한길로 전심전력하면 성공할 때가 있음을 비유적으로 이르는 말., 속담\n",
      "10: 6.8657455000: 소불알 떨어지면 구워 먹겠다고 소금 가지고 따라다닌다 - 노력은 안 하고 산 소의 불알이 저절로 떨어지기를 마냥 기다리기만 한다는 뜻으로, 노력 없이 요행만 바라는 헛된 짓을 비유적으로 이르는 말., 속담\n"
     ]
    }
   ],
   "source": [
    "azsch_text_query('열심히 노력하면 성공한다는 말')"
   ]
  },
  {
   "cell_type": "code",
   "execution_count": 15,
   "metadata": {},
   "outputs": [
    {
     "name": "stdout",
     "output_type": "stream",
     "text": [
      "Search Results:\n",
      "1: 11.7557430000: 십 년 적공이면 한 가지 성공을 한다 - 무슨 일이든지 오랫동안 꾸준히 노력하면 마침내는 성공하게 됨을 이르는 말., 속담\n"
     ]
    }
   ],
   "source": [
    "azsch_text_query('열심히 노력하면 +성공')"
   ]
  },
  {
   "cell_type": "markdown",
   "metadata": {},
   "source": [
    "### Advanced search\n",
    "\n",
    "- Facet\n",
    "- Filter"
   ]
  },
  {
   "cell_type": "code",
   "execution_count": 16,
   "metadata": {},
   "outputs": [],
   "source": [
    "def azsch_text_query_adv(query, type_filter=\"\", skip=0):\n",
    "\n",
    "    results = search_client.search(  \n",
    "        search_text=query,\n",
    "        query_type=QueryType.Simple,\n",
    "        search_mode=SearchMode.Any,\n",
    "        search_fields=[\"meaning\"],\n",
    "        select=[\"proverb\", \"meaning\", \"source\", \"type\"],\n",
    "        facets=[\"source\", \"type\"],\n",
    "        query_language=\"ko-kr\",\n",
    "        include_total_count=True,\n",
    "        skip=skip,\n",
    "        filter=None if type_filter == \"\" else f\"type eq '{type_filter}'\",\n",
    "        top=10 # for limiting text search\n",
    "    ) \n",
    "    \n",
    "    print(\"Search Results:\")\n",
    "    print(f\"- count: {results.get_count()}\")\n",
    "    print(f\"- facets: {json.dumps(results.get_facets(), indent=4, ensure_ascii=False)}\\n\")\n",
    "    for i, result in enumerate(results, 1):  \n",
    "        print(f\"{i}: {result['@search.score']:.10f}: {result['proverb']} - {result['meaning']}, {result['type']}\")  "
   ]
  },
  {
   "cell_type": "code",
   "execution_count": 17,
   "metadata": {},
   "outputs": [
    {
     "name": "stdout",
     "output_type": "stream",
     "text": [
      "Search Results:\n",
      "- count: 42\n",
      "- facets: {\n",
      "    \"type\": [\n",
      "        {\n",
      "            \"value\": \"속담\",\n",
      "            \"count\": 32\n",
      "        },\n",
      "        {\n",
      "            \"value\": \"관용구\",\n",
      "            \"count\": 10\n",
      "        }\n",
      "    ],\n",
      "    \"source\": [\n",
      "        {\n",
      "            \"value\": \"표준국어대사전\",\n",
      "            \"count\": 22\n",
      "        },\n",
      "        {\n",
      "            \"value\": \"고려대 한국어대사전\",\n",
      "            \"count\": 17\n",
      "        },\n",
      "        {\n",
      "            \"value\": \"우리말샘\",\n",
      "            \"count\": 3\n",
      "        }\n",
      "    ]\n",
      "}\n",
      "\n",
      "1: 7.9155335000: 몸부림 치다 - (사람이) 온갖 노력을 다하다., 관용구\n",
      "2: 7.1347523000: 피땀 흘리다 - 온갖 힘과 정성을 쏟아 노력하다., 관용구\n",
      "3: 6.7460810000: 힘을 돌리다 - 어떤 일을 이루려고 거기에 노력을 들이다., 관용구\n",
      "4: 6.5704170000: 소불알 떨어지면 구워 먹겠다고 소금 가지고 따라다닌다 - 노력은 안 하고 산 소의 불알이 저절로 떨어지기를 마냥 기다리기만 한다는 뜻으로, 노력 없이 요행만 바라는 헛된 짓을 비유적으로 이르는 말., 속담\n",
      "5: 6.0549674000: 양반은 물에 빠져도 개헤엄은 안 한다 - 아무리 위급한 때라도 체면을 유지하려고 노력한다는 말., 속담\n",
      "6: 5.9218345000: 하늘에서  떨어지다 - (어떠한 성과가) 별로 노력을 들이지 않았는데 저절로 얻어지다., 관용구\n",
      "7: 5.8526664000: 내 침 발라 꼰 새끼가 제일 - 자기의 노력을 들여 이룩한 성과가 귀중함을 비유적으로 이르는 말., 속담\n",
      "8: 5.8267465000: 힘을 넣다 - 어떤 일을 이루려고 시간, 노력, 자금 따위를 투입하다., 관용구\n",
      "9: 5.8226060000: 새도 날려면 움츠린다 - 무슨 일이든 사전에 준비할 틈과 노력이 필요하다는 말. (=개구리도 옴쳐야 뛴다.), 속담\n",
      "10: 5.7535640000: 둔한 말이 열 수레를 끈다 - 미련하고 둔한 사람이라 하더라도 쉬지 않고 노력하면 큰일을 할 수 있다는 말., 속담\n"
     ]
    }
   ],
   "source": [
    "# facets\n",
    "azsch_text_query_adv(\"노력\")"
   ]
  },
  {
   "cell_type": "code",
   "execution_count": 18,
   "metadata": {},
   "outputs": [
    {
     "name": "stdout",
     "output_type": "stream",
     "text": [
      "Search Results:\n",
      "- count: 42\n",
      "- facets: {\n",
      "    \"type\": [\n",
      "        {\n",
      "            \"value\": \"속담\",\n",
      "            \"count\": 32\n",
      "        },\n",
      "        {\n",
      "            \"value\": \"관용구\",\n",
      "            \"count\": 10\n",
      "        }\n",
      "    ],\n",
      "    \"source\": [\n",
      "        {\n",
      "            \"value\": \"표준국어대사전\",\n",
      "            \"count\": 22\n",
      "        },\n",
      "        {\n",
      "            \"value\": \"고려대 한국어대사전\",\n",
      "            \"count\": 17\n",
      "        },\n",
      "        {\n",
      "            \"value\": \"우리말샘\",\n",
      "            \"count\": 3\n",
      "        }\n",
      "    ]\n",
      "}\n",
      "\n",
      "1: 5.6500770000: 눈을 떠야 별을 보지 - 어떤 성과를 거두려면 그에 상당한 노력과 준비가 있어야 한다는 말., 속담\n",
      "2: 5.6500770000: 체메 들다 - 남의 사정이나 수단에 의하여 어이없이 돈이나 노력을 대신 부담하다., 관용구\n",
      "3: 5.5639530000: 겉보리 한 말 주고 푸닥거리하기보다 낫다 - 들인 노력에 비하여 결과가 만족스럽다는 것을 비유적으로 이르는 말., 속담\n",
      "4: 5.5639530000: 누구는 날 때부터 안다더냐 - 사람이면 누구나 똑같으므로 열심히 노력하면 배울 수 있다는 말., 속담\n",
      "5: 5.5559607000: 구르는 돌은 이끼가 안 낀다 - 부지런하고 꾸준히 노력하는 사람은 침체되지 않고 계속 발전한다는 말., 속담\n",
      "6: 5.5559607000: 도 닦다 - (사람이) 어떤 분야나 영역에 정통하고자 능력을 쌓기 위하여 노력하다., 관용구\n",
      "7: 5.2419950000: 굴을 파야 금을 얻는다 - 목적을 이루기 위하여서는 거기에 필요한 조건을 갖추거나 노력을 하여야 함을 교훈적으로 이르는 말., 속담\n",
      "8: 5.2419950000: 절뚝발이 말이 천리 간다 - 누구나 꾸준히 노력하면 무슨 일이든 이룰 수 있다는 말. (=둔한 말도 열흘 가면 천리를 간다.), 속담\n",
      "9: 5.1356535000: 빈손 털다 - (사람이) 들인 노력이 헛일이 되어 아무 소득이 없다.,(사람이) 가지고 있던 것을 몽땅 털다., 관용구\n",
      "10: 5.1356535000: 쌀 한 알 보고 뜨물 한 동이 마신다 - 적은 이익을 위하여 노력이나 경비가 지나치게 많이 들어감을 비유적으로 이르는 말., 속담\n"
     ]
    }
   ],
   "source": [
    "# paging\n",
    "azsch_text_query_adv(\"노력\", \"\", 10)"
   ]
  },
  {
   "cell_type": "code",
   "execution_count": 19,
   "metadata": {},
   "outputs": [
    {
     "name": "stdout",
     "output_type": "stream",
     "text": [
      "Search Results:\n",
      "- count: 10\n",
      "- facets: {\n",
      "    \"type\": [\n",
      "        {\n",
      "            \"value\": \"관용구\",\n",
      "            \"count\": 10\n",
      "        }\n",
      "    ],\n",
      "    \"source\": [\n",
      "        {\n",
      "            \"value\": \"고려대 한국어대사전\",\n",
      "            \"count\": 5\n",
      "        },\n",
      "        {\n",
      "            \"value\": \"표준국어대사전\",\n",
      "            \"count\": 5\n",
      "        }\n",
      "    ]\n",
      "}\n",
      "\n",
      "1: 7.9155335000: 몸부림 치다 - (사람이) 온갖 노력을 다하다., 관용구\n",
      "2: 7.1347523000: 피땀 흘리다 - 온갖 힘과 정성을 쏟아 노력하다., 관용구\n",
      "3: 6.7460810000: 힘을 돌리다 - 어떤 일을 이루려고 거기에 노력을 들이다., 관용구\n",
      "4: 5.9218345000: 하늘에서  떨어지다 - (어떠한 성과가) 별로 노력을 들이지 않았는데 저절로 얻어지다., 관용구\n",
      "5: 5.8267465000: 힘을 넣다 - 어떤 일을 이루려고 시간, 노력, 자금 따위를 투입하다., 관용구\n",
      "6: 5.6500770000: 체메 들다 - 남의 사정이나 수단에 의하여 어이없이 돈이나 노력을 대신 부담하다., 관용구\n",
      "7: 5.5559607000: 도 닦다 - (사람이) 어떤 분야나 영역에 정통하고자 능력을 쌓기 위하여 노력하다., 관용구\n",
      "8: 5.1356535000: 빈손 털다 - (사람이) 들인 노력이 헛일이 되어 아무 소득이 없다.,(사람이) 가지고 있던 것을 몽땅 털다., 관용구\n",
      "9: 5.0807540000: 손 붙이다 - (사람이) 어떤 일을 시작하다.,(사람이) 모자란 일손을 채우거나 노력을 들여 일하다., 관용구\n",
      "10: 4.8938146000: 열 번 죽었다 깨어도 - 열 번 죽었다가 살아날 만큼 온갖 노력을 다하여도.,열 번 죽었다 살아날 만큼 어려운 일을 당하여도., 관용구\n"
     ]
    }
   ],
   "source": [
    "# filter\n",
    "azsch_text_query_adv('노력', \"관용구\")"
   ]
  },
  {
   "cell_type": "markdown",
   "metadata": {},
   "source": [
    "### Hightlight"
   ]
  },
  {
   "cell_type": "code",
   "execution_count": 20,
   "metadata": {},
   "outputs": [],
   "source": [
    "def azsch_text_query_highlight(query):\n",
    "\n",
    "    results = search_client.search(  \n",
    "        search_text=query,\n",
    "        query_type=QueryType.Simple,\n",
    "        search_mode=SearchMode.Any,\n",
    "        search_fields=[\"meaning\"],\n",
    "        select=[\"proverb\", \"meaning\", \"source\", \"type\"],\n",
    "        highlight_fields=\"meaning\",\n",
    "        query_language=\"ko-kr\",\n",
    "        top=10 # for limiting text search\n",
    "    ) \n",
    "    \n",
    "    print(\"Search Results:\")\n",
    "    for i, result in enumerate(results, 1):  \n",
    "        if (result[\"@search.highlights\"]):\n",
    "            print(f\"{i}: {result['@search.score']:.10f}: {result['proverb']} - {result['@search.highlights']['meaning'][0]}, {result['type']}\")\n",
    "        else:\n",
    "            print(f\"{i}: {result['@search.score']:.10f}: {result['proverb']} - {result['meaning']}, {result['type']}\")  "
   ]
  },
  {
   "cell_type": "code",
   "execution_count": 21,
   "metadata": {},
   "outputs": [
    {
     "name": "stdout",
     "output_type": "stream",
     "text": [
      "Search Results:\n",
      "1: 7.9155335000: 몸부림 치다 - (사람이) 온갖 <em>노력을</em> 다하다., 관용구\n",
      "2: 7.1347523000: 피땀 흘리다 - 온갖 힘과 정성을 쏟아 <em>노력</em>하다., 관용구\n",
      "3: 6.7460810000: 힘을 돌리다 - 어떤 일을 이루려고 거기에 <em>노력을</em> 들이다., 관용구\n",
      "4: 6.5704170000: 소불알 떨어지면 구워 먹겠다고 소금 가지고 따라다닌다 - <em>노력은</em> 안 하고 산 소의 불알이 저절로 떨어지기를 마냥 기다리기만 한다는 뜻으로, <em>노력</em> 없이 요행만 바라는 헛된 짓을 비유적으로 이르는 말., 속담\n",
      "5: 6.0549674000: 양반은 물에 빠져도 개헤엄은 안 한다 - 아무리 위급한 때라도 체면을 유지하려고 <em>노력</em>한다는 말., 속담\n",
      "6: 5.9218345000: 하늘에서  떨어지다 - (어떠한 성과가) 별로 <em>노력을</em> 들이지 않았는데 저절로 얻어지다., 관용구\n",
      "7: 5.8526664000: 내 침 발라 꼰 새끼가 제일 - 자기의 <em>노력을</em> 들여 이룩한 성과가 귀중함을 비유적으로 이르는 말., 속담\n",
      "8: 5.8267465000: 힘을 넣다 - 어떤 일을 이루려고 시간, <em>노력</em>, 자금 따위를 투입하다., 관용구\n",
      "9: 5.8226060000: 새도 날려면 움츠린다 - 무슨 일이든 사전에 준비할 틈과 <em>노력이</em> 필요하다는 말., 속담\n",
      "10: 5.7535640000: 둔한 말이 열 수레를 끈다 - 미련하고 둔한 사람이라 하더라도 쉬지 않고 <em>노력</em>하면 큰일을 할 수 있다는 말., 속담\n"
     ]
    }
   ],
   "source": [
    "# facets\n",
    "azsch_text_query_highlight(\"노력\")"
   ]
  },
  {
   "cell_type": "code",
   "execution_count": 22,
   "metadata": {},
   "outputs": [
    {
     "name": "stdout",
     "output_type": "stream",
     "text": [
      "Search Results:\n",
      "1: 12.2678930000: 눈을 떠야 별을 보지 - 어떤 성과를 거두려면 그에 상당한 <em>노력과</em> <em>준비가</em> 있어야 한다는 말., 속담\n",
      "2: 11.0158630000: 새도 날려면 움츠린다 - 무슨 일이든 사전에 <em>준비</em>할 틈과 <em>노력이</em> 필요하다는 말., 속담\n",
      "3: 10.0445350000: 잠을 자야 꿈을 꾸지 - 어떤 성과를 거두려면 그에 상당한 <em>노력과</em> <em>준비가</em> 있어야 한다는 말., 속담\n",
      "4: 9.4706210000: 하늘을 보아야 별을 따지 - 어떤 성과를 거두려면 그에 상당한 <em>노력과</em> <em>준비가</em> 있어야 한다는 말., 속담\n",
      "5: 7.9155335000: 몸부림 치다 - (사람이) 온갖 <em>노력을</em> 다하다., 관용구\n",
      "6: 7.7387890000: 노루 본 놈이〔노루 보고〕 그물 짊어진다 - 무슨 일을 미리 <em>준비</em>하지 않고 일을 당해서야 허겁지겁 <em>준비</em>함을 비유적으로 이르는 말., 속담\n",
      "7: 7.1347523000: 피땀 흘리다 - 온갖 힘과 정성을 쏟아 <em>노력</em>하다., 관용구\n",
      "8: 7.1078250000: 신들메를 조이다 - 어떤 일을 할 <em>준비를</em> 든든히 하다., 관용구\n",
      "9: 6.7460810000: 힘을 돌리다 - 어떤 일을 이루려고 거기에 <em>노력을</em> 들이다., 관용구\n",
      "10: 6.5704170000: 소불알 떨어지면 구워 먹겠다고 소금 가지고 따라다닌다 - <em>노력은</em> 안 하고 산 소의 불알이 저절로 떨어지기를 마냥 기다리기만 한다는 뜻으로, <em>노력</em> 없이 요행만 바라는 헛된 짓을 비유적으로 이르는 말., 속담\n"
     ]
    }
   ],
   "source": [
    "azsch_text_query_highlight(\"노력 준비\")"
   ]
  },
  {
   "cell_type": "code",
   "execution_count": null,
   "metadata": {},
   "outputs": [],
   "source": []
  }
 ],
 "metadata": {
  "kernelspec": {
   "display_name": "aisearch",
   "language": "python",
   "name": "python3"
  },
  "language_info": {
   "codemirror_mode": {
    "name": "ipython",
    "version": 3
   },
   "file_extension": ".py",
   "mimetype": "text/x-python",
   "name": "python",
   "nbconvert_exporter": "python",
   "pygments_lexer": "ipython3",
   "version": "3.10.16"
  }
 },
 "nbformat": 4,
 "nbformat_minor": 2
}
