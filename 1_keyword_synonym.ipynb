{
 "cells": [
  {
   "cell_type": "markdown",
   "metadata": {},
   "source": [
    "## 1. Keyword search with synonyms\n",
    "\n",
    "### Synonyms\n",
    "\n",
    "- doc: https://learn.microsoft.com/en-us/azure/search/search-synonyms?tabs=python%2Crest-assign#create-a-synonym-map\n",
    "- sample: https://github.com/Azure/azure-sdk-for-python/blob/main/sdk/search/azure-search-documents/samples/sample_synonym_map_operations.py"
   ]
  },
  {
   "cell_type": "code",
   "execution_count": 1,
   "metadata": {},
   "outputs": [
    {
     "data": {
      "text/plain": [
       "True"
      ]
     },
     "execution_count": 1,
     "metadata": {},
     "output_type": "execute_result"
    }
   ],
   "source": [
    "from dotenv import load_dotenv\n",
    "load_dotenv()"
   ]
  },
  {
   "cell_type": "code",
   "execution_count": 2,
   "metadata": {},
   "outputs": [],
   "source": [
    "from azure.core.credentials import AzureKeyCredential  \n",
    "from azure.search.documents import SearchClient  \n",
    "from azure.search.documents.models import (\n",
    "    QueryType,\n",
    "    SearchMode\n",
    ")\n",
    "\n",
    "from azure.search.documents.indexes import SearchIndexClient  \n",
    "from azure.search.documents.indexes.models import ( \n",
    "    SynonymMap, \n",
    "    SearchIndex,  \n",
    "    SearchField,  \n",
    "    SearchFieldDataType,  \n",
    "    SimpleField,  \n",
    "    SearchableField,  \n",
    "    SearchIndex\n",
    ")"
   ]
  },
  {
   "cell_type": "code",
   "execution_count": 3,
   "metadata": {},
   "outputs": [],
   "source": [
    "import os\n",
    "service_endpoint = os.getenv(\"AZSCH_ENDPOINT\")  \n",
    "credential = AzureKeyCredential(os.environ[\"AZSCH_KEY\"])\n",
    "\n",
    "#print(service_endpoint)\n",
    "index_name = \"korproverb-keywordstd-index\""
   ]
  },
  {
   "cell_type": "code",
   "execution_count": 4,
   "metadata": {},
   "outputs": [],
   "source": [
    "index_client = SearchIndexClient(service_endpoint, credential=credential)"
   ]
  },
  {
   "cell_type": "code",
   "execution_count": 5,
   "metadata": {},
   "outputs": [],
   "source": [
    "def create_synonym_map(map_name):\n",
    "    # [START create_synonym_map]\n",
    "    synonyms = [\n",
    "        \"노력, 노력하면, 노력과, 노력을\",\n",
    "        \"Washington, Wash. => WA\",\n",
    "    ]\n",
    "    synonym_map = SynonymMap(name=map_name, synonyms=synonyms)\n",
    "\n",
    "    result = index_client.create_or_update_synonym_map(synonym_map)\n",
    "    print(\"Create new Synonym Map 'test-syn-map succeeded\")\n",
    "    # [END create_synonym_map]\n",
    "\n",
    "def delete_synonym_map(map_name):\n",
    "    index_client.delete_synonym_map(map_name)"
   ]
  },
  {
   "cell_type": "code",
   "execution_count": 6,
   "metadata": {},
   "outputs": [],
   "source": [
    "# update a search index\n",
    "def update_search_index(add_synonym=True):\n",
    "    if add_synonym:\n",
    "        meaning_field = SearchableField(name=\"meaning\", type=SearchFieldDataType.String, \n",
    "            searchable=True, retrievable=True,\n",
    "            synonym_map_names=[synonym_map_name])\n",
    "    else:\n",
    "        meaning_field = SearchableField(name=\"meaning\", type=SearchFieldDataType.String,\n",
    "            searchable=True, retrievable=True)\n",
    "    fields = [\n",
    "        SimpleField(name=\"id\", type=SearchFieldDataType.String, key=True),\n",
    "        SearchableField(name=\"proverb\", type=SearchFieldDataType.String,\n",
    "                        searchable=True, retrievable=True),\n",
    "        meaning_field,\n",
    "        SearchableField(name=\"source\", type=SearchFieldDataType.String,\n",
    "                        searchable=False, retrievable=True),\n",
    "        SearchableField(name=\"type\", type=SearchFieldDataType.String,\n",
    "                        searchable=False, retrievable=True),\n",
    "    ] \n",
    "\n",
    "    # Create the search index\n",
    "    index = SearchIndex(name=index_name, fields=fields)\n",
    "    result = index_client.create_or_update_index(index)\n",
    "    print(f' {result.name} updated')"
   ]
  },
  {
   "cell_type": "code",
   "execution_count": 7,
   "metadata": {},
   "outputs": [],
   "source": [
    "search_client = SearchClient(endpoint=service_endpoint, index_name=index_name, credential=credential)"
   ]
  },
  {
   "cell_type": "code",
   "execution_count": 8,
   "metadata": {},
   "outputs": [],
   "source": [
    "def azsch_text_query(query, type=QueryType.Simple, mode=SearchMode.Any):\n",
    "\n",
    "    results = search_client.search(  \n",
    "        search_text=query,\n",
    "        query_type=type,\n",
    "        search_mode=mode,\n",
    "        search_fields=[\"meaning\"],\n",
    "        select=[\"proverb\", \"meaning\", \"source\", \"type\"],\n",
    "        query_language=\"ko-kr\",\n",
    "        top=10 # for limiting text search\n",
    "    ) \n",
    "\n",
    "    print(\"Search Results:\")\n",
    "    for i, result in enumerate(results, 1): \n",
    "        print(f\"{i}: {result['@search.score']:.10f}: {result['proverb']} - {result['meaning']}, {result['type']}\")  "
   ]
  },
  {
   "cell_type": "code",
   "execution_count": 9,
   "metadata": {},
   "outputs": [
    {
     "name": "stdout",
     "output_type": "stream",
     "text": [
      "Search Results:\n",
      "1: 6.2826767000: 힘을 넣다 - 어떤 일을 이루려고 시간, 노력, 자금 따위를 투입하다., 관용구\n",
      "2: 3.9428840000: 소불알 떨어지면 구워 먹겠다고 소금 가지고 따라다닌다 - 노력은 안 하고 산 소의 불알이 저절로 떨어지기를 마냥 기다리기만 한다는 뜻으로, 노력 없이 요행만 바라는 헛된 짓을 비유적으로 이르는 말., 속담\n"
     ]
    }
   ],
   "source": [
    "azsch_text_query(\"노력\")"
   ]
  },
  {
   "cell_type": "code",
   "execution_count": 10,
   "metadata": {},
   "outputs": [
    {
     "name": "stdout",
     "output_type": "stream",
     "text": [
      "Create new Synonym Map 'test-syn-map succeeded\n",
      " korproverb-keywordstd-index updated\n"
     ]
    }
   ],
   "source": [
    "synonym_map_name = \"test-syn-map\"\n",
    "create_synonym_map(synonym_map_name)\n",
    "\n",
    "update_search_index(add_synonym=True)"
   ]
  },
  {
   "cell_type": "code",
   "execution_count": 11,
   "metadata": {},
   "outputs": [
    {
     "name": "stdout",
     "output_type": "stream",
     "text": [
      "Search Results:\n",
      "1: 8.1555120000: 몸부림 치다 - (사람이) 온갖 노력을 다하다., 관용구\n",
      "2: 6.5316040000: 힘을 돌리다 - 어떤 일을 이루려고 거기에 노력을 들이다., 관용구\n",
      "3: 6.5175890000: 누구는 날 때부터 안다더냐 - 사람이면 누구나 똑같으므로 열심히 노력하면 배울 수 있다는 말., 속담\n",
      "4: 6.3806940000: 하늘에서  떨어지다 - (어떠한 성과가) 별로 노력을 들이지 않았는데 저절로 얻어지다., 관용구\n",
      "5: 6.3524027000: 눈을 떠야 별을 보지 - 어떤 성과를 거두려면 그에 상당한 노력과 준비가 있어야 한다는 말., 속담\n",
      "6: 6.2826767000: 힘을 넣다 - 어떤 일을 이루려고 시간, 노력, 자금 따위를 투입하다., 관용구\n",
      "7: 6.2167478000: 십 년 적공이면 한 가지 성공을 한다 - 무슨 일이든지 오랫동안 꾸준히 노력하면 마침내는 성공하게 됨을 이르는 말., 속담\n",
      "8: 5.7782000000: 내 침 발라 꼰 새끼가 제일 - 자기의 노력을 들여 이룩한 성과가 귀중함을 비유적으로 이르는 말., 속담\n",
      "9: 5.4407950000: 쉬 더운 방이 쉬 식는다 - 힘이나 노력을 적게 들이고 빨리 해 버린 일은 그만큼 결과가 오래가지 못함을 비유적으로 이르는 말., 속담\n",
      "10: 5.4405427000: 체메 들다 - 남의 사정이나 수단에 의하여 어이없이 돈이나 노력을 대신 부담하다., 관용구\n"
     ]
    }
   ],
   "source": [
    "azsch_text_query(\"노력\")"
   ]
  },
  {
   "cell_type": "code",
   "execution_count": 12,
   "metadata": {},
   "outputs": [
    {
     "name": "stdout",
     "output_type": "stream",
     "text": [
      " korproverb-keywordstd-index updated\n"
     ]
    }
   ],
   "source": [
    "update_search_index(add_synonym=False)\n",
    "\n",
    "#delete_synonym_map(synonym_map_name)"
   ]
  },
  {
   "cell_type": "code",
   "execution_count": null,
   "metadata": {},
   "outputs": [],
   "source": []
  }
 ],
 "metadata": {
  "kernelspec": {
   "display_name": "aisearch",
   "language": "python",
   "name": "python3"
  },
  "language_info": {
   "codemirror_mode": {
    "name": "ipython",
    "version": 3
   },
   "file_extension": ".py",
   "mimetype": "text/x-python",
   "name": "python",
   "nbconvert_exporter": "python",
   "pygments_lexer": "ipython3",
   "version": "3.10.16"
  }
 },
 "nbformat": 4,
 "nbformat_minor": 2
}
