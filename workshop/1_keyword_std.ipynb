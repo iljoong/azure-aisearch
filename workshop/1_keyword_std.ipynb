{
 "cells": [
  {
   "cell_type": "markdown",
   "metadata": {},
   "source": [
    "## 1. Keyword/Text search with Standard Analyzer"
   ]
  },
  {
   "cell_type": "code",
   "execution_count": 1,
   "metadata": {},
   "outputs": [
    {
     "data": {
      "text/plain": [
       "True"
      ]
     },
     "execution_count": 1,
     "metadata": {},
     "output_type": "execute_result"
    }
   ],
   "source": [
    "from dotenv import load_dotenv\n",
    "load_dotenv(\"../.env\")"
   ]
  },
  {
   "cell_type": "code",
   "execution_count": 2,
   "metadata": {},
   "outputs": [],
   "source": [
    "from azure.core.credentials import AzureKeyCredential  \n",
    "from azure.search.documents import SearchClient  \n",
    "from azure.search.documents.indexes import SearchIndexClient  \n",
    "from azure.search.documents.indexes.models import (  \n",
    "    SearchIndex,  \n",
    "    SearchField,  \n",
    "    SearchFieldDataType,  \n",
    "    SimpleField,  \n",
    "    SearchableField,  \n",
    "    SearchIndex,  \n",
    ")"
   ]
  },
  {
   "cell_type": "code",
   "execution_count": 3,
   "metadata": {},
   "outputs": [
    {
     "name": "stdout",
     "output_type": "stream",
     "text": [
      "https://iksch.search.windows.net\n"
     ]
    }
   ],
   "source": [
    "import os\n",
    "service_endpoint = os.getenv(\"AZSCH_ENDPOINT\")  \n",
    "credential = AzureKeyCredential(os.environ[\"AZSCH_KEY\"])\n",
    "\n",
    "print(service_endpoint)"
   ]
  },
  {
   "cell_type": "code",
   "execution_count": 4,
   "metadata": {},
   "outputs": [],
   "source": [
    "# Create a search index\n",
    "def create_search_index(index_name):\n",
    "    index_client = SearchIndexClient(\n",
    "        endpoint=service_endpoint, credential=credential)\n",
    "    fields = [\n",
    "        SimpleField(name=\"id\", type=SearchFieldDataType.String, key=True),\n",
    "        SearchableField(name=\"title\", type=SearchFieldDataType.String,\n",
    "                        searchable=True, retrievable=True),\n",
    "        SearchableField(name=\"body\", type=SearchFieldDataType.String,\n",
    "                        searchable=True, retrievable=True),\n",
    "        SearchableField(name=\"date\", type=SearchFieldDataType.String,\n",
    "                        searchable=False, retrievable=True,\n",
    "                        facetable=False, filterable=True),\n",
    "        SearchableField(name=\"type\", type=SearchFieldDataType.String,\n",
    "                        searchable=False, retrievable=True,\n",
    "                        facetable=True, filterable=True),\n",
    "        SearchableField(name=\"docid\", type=SearchFieldDataType.String)\n",
    "    ]\n",
    "\n",
    "    # Create the search index\n",
    "    index = SearchIndex(name=index_name, fields=fields)\n",
    "    result = index_client.create_or_update_index(index)\n",
    "    print(f' {result.name} created')"
   ]
  },
  {
   "cell_type": "code",
   "execution_count": 5,
   "metadata": {},
   "outputs": [
    {
     "name": "stdout",
     "output_type": "stream",
     "text": [
      " ncevent-std-index created\n"
     ]
    }
   ],
   "source": [
    "index_name = \"ncevent-std-index\"\n",
    "create_search_index(index_name)"
   ]
  },
  {
   "cell_type": "code",
   "execution_count": 6,
   "metadata": {},
   "outputs": [],
   "source": [
    "search_client = SearchClient(endpoint=service_endpoint, index_name=index_name, credential=credential)"
   ]
  },
  {
   "cell_type": "code",
   "execution_count": 7,
   "metadata": {},
   "outputs": [],
   "source": [
    "import pandas as pd\n",
    "from tqdm import tqdm"
   ]
  },
  {
   "cell_type": "code",
   "execution_count": 8,
   "metadata": {},
   "outputs": [
    {
     "data": {
      "text/html": [
       "<div>\n",
       "<style scoped>\n",
       "    .dataframe tbody tr th:only-of-type {\n",
       "        vertical-align: middle;\n",
       "    }\n",
       "\n",
       "    .dataframe tbody tr th {\n",
       "        vertical-align: top;\n",
       "    }\n",
       "\n",
       "    .dataframe thead th {\n",
       "        text-align: right;\n",
       "    }\n",
       "</style>\n",
       "<table border=\"1\" class=\"dataframe\">\n",
       "  <thead>\n",
       "    <tr style=\"text-align: right;\">\n",
       "      <th></th>\n",
       "      <th>id</th>\n",
       "      <th>title</th>\n",
       "      <th>date</th>\n",
       "      <th>body</th>\n",
       "    </tr>\n",
       "  </thead>\n",
       "  <tbody>\n",
       "    <tr>\n",
       "      <th>0</th>\n",
       "      <td>520783</td>\n",
       "      <td>설날 기념 마이타임, 핫타임 이벤트</td>\n",
       "      <td>2025-01-24 12:00:00</td>\n",
       "      <td>\\n자유를 향한 검은 날개\\n안녕하세요. 나이트 크로우입니다.\\n설날 기념 마이타임...</td>\n",
       "    </tr>\n",
       "    <tr>\n",
       "      <th>1</th>\n",
       "      <td>520257</td>\n",
       "      <td>설 기념 깜짝 우편 이벤트</td>\n",
       "      <td>2025-01-22 22:10:00</td>\n",
       "      <td>\\n자유를 향한 검은 날개\\n안녕하세요. 나이트 크로우입니다.\\n2025년 설 연휴...</td>\n",
       "    </tr>\n",
       "    <tr>\n",
       "      <th>2</th>\n",
       "      <td>520255</td>\n",
       "      <td>도노반, 에스텔라 전용 이벤트</td>\n",
       "      <td>2025-01-22 22:10:00</td>\n",
       "      <td>\\n자유를 향한 검은 날개\\n안녕하세요. 나이트 크로우입니다.\\n독립된 또 다른 세...</td>\n",
       "    </tr>\n",
       "    <tr>\n",
       "      <th>3</th>\n",
       "      <td>520254</td>\n",
       "      <td>특별한 새해 떡국 이벤트</td>\n",
       "      <td>2025-01-22 22:10:00</td>\n",
       "      <td>\\n자유를 향한 검은 날개\\n안녕하세요. 나이트 크로우입니다.\\n두 번째 설을 기념...</td>\n",
       "    </tr>\n",
       "    <tr>\n",
       "      <th>4</th>\n",
       "      <td>520253</td>\n",
       "      <td>+9 밤까마귀 장비 제작 이벤트</td>\n",
       "      <td>2025-01-22 22:10:00</td>\n",
       "      <td>\\n자유를 향한 검은 날개\\n안녕하세요. 나이트 크로우입니다.\\n+9 밤까마귀 장비...</td>\n",
       "    </tr>\n",
       "  </tbody>\n",
       "</table>\n",
       "</div>"
      ],
      "text/plain": [
       "       id                title                date  \\\n",
       "0  520783  설날 기념 마이타임, 핫타임 이벤트 2025-01-24 12:00:00   \n",
       "1  520257       설 기념 깜짝 우편 이벤트 2025-01-22 22:10:00   \n",
       "2  520255     도노반, 에스텔라 전용 이벤트 2025-01-22 22:10:00   \n",
       "3  520254        특별한 새해 떡국 이벤트 2025-01-22 22:10:00   \n",
       "4  520253    +9 밤까마귀 장비 제작 이벤트 2025-01-22 22:10:00   \n",
       "\n",
       "                                                body  \n",
       "0  \\n자유를 향한 검은 날개\\n안녕하세요. 나이트 크로우입니다.\\n설날 기념 마이타임...  \n",
       "1  \\n자유를 향한 검은 날개\\n안녕하세요. 나이트 크로우입니다.\\n2025년 설 연휴...  \n",
       "2  \\n자유를 향한 검은 날개\\n안녕하세요. 나이트 크로우입니다.\\n독립된 또 다른 세...  \n",
       "3  \\n자유를 향한 검은 날개\\n안녕하세요. 나이트 크로우입니다.\\n두 번째 설을 기념...  \n",
       "4  \\n자유를 향한 검은 날개\\n안녕하세요. 나이트 크로우입니다.\\n+9 밤까마귀 장비...  "
      ]
     },
     "execution_count": 8,
     "metadata": {},
     "output_type": "execute_result"
    }
   ],
   "source": [
    "df = pd.read_json(\"./sample_events.json\")\n",
    "df.head()"
   ]
  },
  {
   "cell_type": "code",
   "execution_count": 9,
   "metadata": {},
   "outputs": [
    {
     "name": "stderr",
     "output_type": "stream",
     "text": [
      "  0%|          | 0/7 [00:00<?, ?it/s]"
     ]
    },
    {
     "name": "stderr",
     "output_type": "stream",
     "text": [
      "100%|██████████| 7/7 [00:02<00:00,  2.97it/s]\n"
     ]
    }
   ],
   "source": [
    "count = 0\n",
    "batch_size = 40\n",
    "for i in tqdm(range(0, len(df), batch_size)):\n",
    "    # set end position of batch\n",
    "    i_end = min(i+batch_size, len(df))\n",
    "    \n",
    "    documents = df[i:i_end].apply(\n",
    "        lambda row: {'id': str(row.name), \n",
    "                     'title': row['title'], \n",
    "                     'body': row['body'],\n",
    "                     'date': row['date'],\n",
    "                     'type': \"event\",\n",
    "                     \"docid\": str(row[\"id\"])\n",
    "                    }, axis=1).to_list()\n",
    "    \n",
    "    result = search_client.upload_documents(documents)  "
   ]
  },
  {
   "cell_type": "code",
   "execution_count": 11,
   "metadata": {},
   "outputs": [],
   "source": [
    "from azure.search.documents.models import (\n",
    "    QueryType,\n",
    "    SearchMode\n",
    ")\n",
    "\n",
    "import json\n",
    "\n",
    "def azsch_text_query(query, type=QueryType.Simple, mode=SearchMode.Any):\n",
    "\n",
    "    results = search_client.search(  \n",
    "        search_text=query,\n",
    "        query_type=type,\n",
    "        search_mode=mode,\n",
    "        search_fields=[\"body\", \"title\"],\n",
    "        select=[\"docid\", \"body\", \"title\", \"date\", \"type\"],\n",
    "        query_language=\"ko-kr\",\n",
    "        top=10 # for limiting text search\n",
    "    ) \n",
    "    \n",
    "    print(\"Search Results:\")\n",
    "    for i, result in enumerate(results, 1): \n",
    "        print(f\"{i}) {result['@search.score']:.10f}: {result['docid']}, {result['title']}, {result['date']}\")  "
   ]
  },
  {
   "cell_type": "markdown",
   "metadata": {},
   "source": [
    "## Demo\n",
    "\n",
    "- basic keyword search\n",
    "- filter\n",
    "- paging\n",
    "- faceting"
   ]
  },
  {
   "cell_type": "markdown",
   "metadata": {},
   "source": [
    "### basic search"
   ]
  },
  {
   "cell_type": "code",
   "execution_count": 12,
   "metadata": {},
   "outputs": [
    {
     "name": "stdout",
     "output_type": "stream",
     "text": [
      "Search Results:\n",
      "1) 4.8371290000: 214626, 던전 이벤트, 2023-12-14T03:30:00Z\n",
      "2) 4.6867366000: 474792, 던전 이벤트, 2024-11-07T09:52:00Z\n",
      "3) 4.5582650000: 439637, 던전 이벤트, 2024-09-11T19:30:00Z\n",
      "4) 4.5170830000: 264647, 출석 이벤트, 2024-03-27T18:30:00Z\n",
      "5) 4.4692607000: 336151, 던전 이벤트, 2024-05-15T18:00:00Z\n",
      "6) 4.3869390000: 344072, 출석 이벤트, 2024-05-22T18:30:00Z\n",
      "7) 4.2305055000: 224612, 던전 이벤트, 2024-01-24T18:30:00Z\n",
      "8) 4.1429367000: 234729, 던전 이벤트, 2024-03-06T18:00:00Z\n",
      "9) 3.9897876000: 376712, 던전 이벤트, 2024-06-26T18:30:00Z\n",
      "10) 3.7553036000: 406041, 던전 이벤트, 2024-08-07T18:30:00Z\n"
     ]
    }
   ],
   "source": [
    "results = azsch_text_query('산코나')"
   ]
  },
  {
   "cell_type": "code",
   "execution_count": 13,
   "metadata": {},
   "outputs": [
    {
     "name": "stdout",
     "output_type": "stream",
     "text": [
      "Search Results:\n"
     ]
    }
   ],
   "source": [
    "results = azsch_text_query('산코나유적')"
   ]
  },
  {
   "cell_type": "code",
   "execution_count": 14,
   "metadata": {},
   "outputs": [
    {
     "name": "stdout",
     "output_type": "stream",
     "text": [
      "Search Results:\n",
      "1) 9.0341660000: 264647, 출석 이벤트, 2024-03-27T18:30:00Z\n",
      "2) 8.7738780000: 344072, 출석 이벤트, 2024-05-22T18:30:00Z\n",
      "3) 7.9611910000: 234729, 던전 이벤트, 2024-03-06T18:00:00Z\n",
      "4) 6.6323414000: 328844, 출석 이벤트, 2024-05-08T18:00:00Z\n",
      "5) 6.2928300000: 336152, 부트캠프 전용 이벤트, 2024-05-15T18:00:00Z\n",
      "6) 5.2764997000: 497726, 던전 이벤트, 2024-12-18T19:00:00Z\n",
      "7) 5.0870824000: 219799, 푸른 용의 조각 이벤트, 2024-01-04T03:10:00Z\n",
      "8) 4.8371290000: 214626, 던전 이벤트, 2023-12-14T03:30:00Z\n",
      "9) 4.6867366000: 474792, 던전 이벤트, 2024-11-07T09:52:00Z\n",
      "10) 4.6788406000: 239434, 출석 이벤트, 2024-03-13T18:35:00Z\n"
     ]
    }
   ],
   "source": [
    "results = azsch_text_query('산코나 유적')"
   ]
  },
  {
   "cell_type": "markdown",
   "metadata": {},
   "source": [
    "### Hightlight"
   ]
  },
  {
   "cell_type": "code",
   "execution_count": 15,
   "metadata": {},
   "outputs": [],
   "source": [
    "def azsch_text_query_highlight(query):\n",
    "\n",
    "    results = search_client.search(  \n",
    "        search_text=query,\n",
    "        query_type=QueryType.Simple,\n",
    "        search_mode=SearchMode.Any,\n",
    "        search_fields=[\"body\", \"title\"],\n",
    "        select=[\"docid\", \"body\", \"title\", \"date\", \"type\"],\n",
    "        highlight_fields=\"body\",\n",
    "        query_language=\"ko-kr\",\n",
    "        top=5 # for limiting text search\n",
    "    ) \n",
    "    \n",
    "    print(\"Search Results:\")\n",
    "    for i, result in enumerate(results, 1):  \n",
    "        if (result[\"@search.highlights\"]):\n",
    "            print(f\"{result['docid']}: {result['@search.score']:.10f}: {result['title']}\")\n",
    "            for highlight in result['@search.highlights']['body']:\n",
    "                print(f\"    {highlight}\")\n",
    "        else:\n",
    "            print(f\"{result['docid']}: {result['@search.score']:.10f}: {result['title']} - {result['body']}\")  "
   ]
  },
  {
   "cell_type": "code",
   "execution_count": 18,
   "metadata": {},
   "outputs": [
    {
     "name": "stdout",
     "output_type": "stream",
     "text": [
      "Search Results:\n"
     ]
    }
   ],
   "source": [
    "azsch_text_query_highlight(\"산코나유적\")"
   ]
  },
  {
   "cell_type": "code",
   "execution_count": 19,
   "metadata": {},
   "outputs": [
    {
     "name": "stdout",
     "output_type": "stream",
     "text": [
      "Search Results:\n",
      "264647: 9.0341660000: 출석 이벤트\n",
      "    .* 게임 화면 상단 [이벤트] 아이콘을 통해 확인할 수 있습니다.불멸의 해방일지 II 출석 보상\n",
      "분류보상 아이템수량1일차해방의 씨앗(귀속)\n",
      "102일차[이벤트] 시간 충전 장치 - <em>산코나</em> <em>유적</em>(귀속)\n",
      "23일차해방의 결정(귀속)\n",
      "34일차해방의 씨앗(귀속)\n",
      "105일차[이벤트] 시간 충전 장치 - <em>산코나</em> <em>유적</em>(귀속)\n",
      "26일차해방의 결정(귀속)\n",
      "37일차해방의 씨앗(귀속)\n",
      "20* [이벤트] 아이템은 4월 18일(목) 08:00까지 사용할 수 있습니다.\n",
      "344072: 8.7738780000: 출석 이벤트\n",
      "    이벤트 기간: 5월 23일(목) 업데이트 후 ~ 6월 5일(수) 08:00까지이벤트 내용: 게임에 접속만 해도 성장에 도움이 되는 다양한 아이템을 획득할 수 있습니다.나이트 크로우 7일 출석 보상\n",
      "분류보상 아이템수량1일차해방의 씨앗(귀속)1002일차해방의 결정(귀속)153일차[이벤트] 시간 충전 장치 -<em>산코나</em> <em>유적</em>(귀속)14일차석양의 찬란한 탈것/무기 외형 11회 선택 상자(귀속)15일차[이벤트] 시간 충전 장치 -<em>산코나</em> <em>유적</em>(귀속)16일차해방의 결정(귀속)157일차지혜의 원천(귀속)1\n",
      "※ 이벤트 유의사항1.\n",
      "234729: 7.9611910000: 던전 이벤트\n",
      "    이벤트 기간 동안, <em>산코나</em> 유적에서 더 많은 경험치와 무기 숙련도를 얻을 수 있게 되었습니다.\n",
      "    지금 이 순간, <em>산코나</em> 유적에서 누구보다 값진 성장을 향해 여러분의 여정을 시작하세요. \n",
      "    ■ 던전 이벤트\n",
      "• <em>산코나</em> <em>유적</em> 경험치 및 무기 숙련도 효율 UP!\n",
      "    • 이벤트 기간: 3월 7일(목) 업데이트 후 ~ 3월 21일(목) 업데이트 전까지• 이벤트 내용: 이벤트 기간 동안 <em>산코나</em> 유적의 경험치 획득량, 무기 숙련도 획득량이 증가합니다.이벤트 상세 내용이벤트 대상 지역혜택산코나 유적경험치 +80%, 무기 숙련도 +100%\n",
      "\n",
      "감사합니다.\n",
      "328844: 6.6323414000: 출석 이벤트\n",
      "    이벤트 기간: 5월 9일(목) 업데이트 후 ~ 5월 23일(목) 08:00까지이벤트 내용: 게임에 접속만 해도 성장에 도움이 되는 다양한 아이템을 획득할 수 있습니다.나이트 크로우 7일 출석 보상\n",
      "분류보상 아이템수량1일차고대 장인의 합금(귀속)12일차[이벤트] 시간 충전 장치 - <em>산코나</em> <em>유적</em>(귀속)23일차골드 상자(귀속)54일차[이벤트] 엘리기오의 경험치 비약(귀속)45일차[이벤트] 시간 충전 장치 - <em>산코나</em> <em>유적</em>(귀속)26일차골드 상자(귀속)57일차고대 장인의 합금(귀속)1\n",
      "\n",
      "이벤트 기간: 5월 9일(목) 업데이트 후 ~ 5월 23일(목) 08:00까지이벤트 내용: 게임에 접속만 해도 다량의 마력 주입 재료를 획득할 수 있습니다.7일간 마력 서리 결정 출석 보상\n",
      "분류보상 아이템수량1일차마력 서리 결정 I(귀속)102일차마력 서리 결정 I(귀속)103일차[이벤트] 마력이 깃든 룬 석판(귀속)14일차마력 서리 결정 I(귀속)105일차마력 서리 결정 I(귀속)106일차마력 서리 결정 I(귀속)107일차[이벤트] 마력이 깃든 룬 석판(귀속)1\n",
      "※ 출석 이벤트 유의사항1.\n",
      "336152: 6.2928300000: 부트캠프 전용 이벤트\n",
      "    이벤트 기간: 5월 16일(목) 업데이트 후 ~ 5월 30일(목) 08:00까지이벤트 내용: 주어진 미션을 완수하면 다량의 글라이더 제작 재료를 획득할 수 있습니다.알베르토의 글라이더 훈련 상세 내용\n",
      "미션 내용\n",
      "보상 아이템\n",
      "수량50만 골드 획득낡은 비행 부품(귀속)40100만 골드 획득초정밀 비행 부품(귀속)5신 트리에스테 공국 몬스터 2,000회 처치낡은 비행 부품(귀속)40신 트리에스테 공국 몬스터 5,000회 처치초정밀 비행 부품(귀속)5장비 강화 20회낡은 비행 부품(귀속)40장비 강화 40회초정밀 비행 부품(귀속)5최종 달성 보상초정밀 비행 부품(귀속)\n",
      "10\n",
      "\n",
      "이벤트 기간: 5월 16일(목) 업데이트 후 ~ 5월 30일(목) 08:00까지이벤트 내용: 주어진 미션을 완수하면 성장에 도움이 되는 다양한 아이템과 더불어 나침반 아티팩트 선택 상자(귀속)를 획득할 수 있습니다.신병 아티팩트 지원 상세 내용\n",
      "미션 내용\n",
      "보상 아이템\n",
      "수량장비 세공 7회시간 충전 장치 - <em>산코나</em> <em>유적</em>(귀속)2장비 세공 15회시간 충전 장치 - <em>산코나</em> <em>유적</em>(귀속)4특수 및 에픽 던전 몬스터 2,000회 처치해방의 결정(귀속)5특수 및 에픽 던전 몬스터 5,000회 처치해방의 결정(귀속)15길드 기부 6회아티팩트 제작 재료 선택 상자(귀속)1길드 기부 12회아티팩트 제작 재료 선택 상자(귀속)2최종 달성 보상나침반 아티팩트 선택 상자(귀속)\n",
      "1\n",
      "\n",
      "이벤트 기간: 5월 16일(목) 업데이트 후 ~ 5월 30일(목) 08:00까지이벤트 내용: 주어진 미션을 완수하면 무기 숙련 성장에 도움이 되는 고서 및 비급서를 획득할 수 있습니다.신병 기술 특성 지원 상세 내용\n",
      "미션 내용보상 아이템수량50만 골드 소비\n",
      "중급자의 고서(귀속)\n",
      "5100만 골드 소비\n",
      "상급자의 고서(귀속)\n",
      "5일반 던전 몬스터 2,000회 처치\n",
      "중급자의 고서(귀속)\n",
      "5일반 던전 몬스터 5,000회 처치\n",
      "상급자의 고서(귀속)\n",
      "5장비 분해 15회중급자의 고서(귀속)\n",
      "5장비 분해 30회\n",
      "상급자의 고서(귀속)\n",
      "5최종 달성 보상\n",
      "찢어진 비급서\n"
     ]
    }
   ],
   "source": [
    "azsch_text_query_highlight(\"산코나 유적\")"
   ]
  },
  {
   "cell_type": "code",
   "execution_count": null,
   "metadata": {},
   "outputs": [],
   "source": []
  }
 ],
 "metadata": {
  "kernelspec": {
   "display_name": "aisearch",
   "language": "python",
   "name": "python3"
  },
  "language_info": {
   "codemirror_mode": {
    "name": "ipython",
    "version": 3
   },
   "file_extension": ".py",
   "mimetype": "text/x-python",
   "name": "python",
   "nbconvert_exporter": "python",
   "pygments_lexer": "ipython3",
   "version": "3.10.16"
  }
 },
 "nbformat": 4,
 "nbformat_minor": 2
}
