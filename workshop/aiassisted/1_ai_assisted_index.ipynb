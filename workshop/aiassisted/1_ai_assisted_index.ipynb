{
 "cells": [
  {
   "cell_type": "markdown",
   "metadata": {},
   "source": [
    "## 1. Indexing sample dataset\n",
    "\n",
    "For search metadata using filter, it must be set `filterable`"
   ]
  },
  {
   "cell_type": "code",
   "execution_count": 1,
   "metadata": {},
   "outputs": [
    {
     "data": {
      "text/plain": [
       "False"
      ]
     },
     "execution_count": 1,
     "metadata": {},
     "output_type": "execute_result"
    }
   ],
   "source": [
    "from dotenv import load_dotenv\n",
    "load_dotenv(\"../.env\")"
   ]
  },
  {
   "cell_type": "code",
   "execution_count": 2,
   "metadata": {},
   "outputs": [],
   "source": [
    "from azure.core.credentials import AzureKeyCredential  \n",
    "from azure.search.documents import SearchClient  \n",
    "from azure.search.documents.indexes import SearchIndexClient  \n",
    "from azure.search.documents.indexes.models import (  \n",
    "    SearchIndex,  \n",
    "    SearchField,  \n",
    "    SearchFieldDataType,  \n",
    "    SimpleField,  \n",
    "    SearchableField,\n",
    "    ComplexField,\n",
    "    SearchIndex,  \n",
    ")"
   ]
  },
  {
   "cell_type": "code",
   "execution_count": 3,
   "metadata": {},
   "outputs": [],
   "source": [
    "import os\n",
    "service_endpoint = os.getenv(\"AZSCH_ENDPOINT\")  \n",
    "credential = AzureKeyCredential(os.environ[\"AZSCH_KEY\"])\n",
    "\n",
    "#print(service_endpoint)"
   ]
  },
  {
   "cell_type": "code",
   "execution_count": 4,
   "metadata": {},
   "outputs": [],
   "source": [
    "# Create a search index\n",
    "def create_search_index(index_name):\n",
    "    index_client = SearchIndexClient(\n",
    "        endpoint=service_endpoint, credential=credential)\n",
    "    fields = [\n",
    "        SimpleField(name=\"id\", type=SearchFieldDataType.String, key=True),\n",
    "        SearchableField(name=\"title\", type=SearchFieldDataType.String,\n",
    "                        searchable=True, retrievable=True,\n",
    "                        analyzer_name=\"ko.microsoft\"),\n",
    "        SearchableField(name=\"content\", type=SearchFieldDataType.String,\n",
    "                        searchable=True, retrievable=True,\n",
    "                        analyzer_name=\"ko.microsoft\"),\n",
    "        SearchableField(name=\"date\", type=SearchFieldDataType.DateTimeOffset,\n",
    "                        searchable=False, retrievable=True,\n",
    "                        filterable=True, sortable=True),\n",
    "        SearchField(name=\"amount\", type=SearchFieldDataType.Int32),\n",
    "        SearchableField(name=\"category\", type=SearchFieldDataType.String,\n",
    "                        searchable=False, retrievable=True,\n",
    "                        facetable=True, filterable=True),\n",
    "        ComplexField(name=\"user\", fields=[\n",
    "            SearchableField(name=\"name\", type=SearchFieldDataType.String,\n",
    "                            filterable=True ),\n",
    "            SearchableField(name=\"dept\", type=SearchFieldDataType.String,\n",
    "                            filterable=True)\n",
    "        ])\n",
    "    ]\n",
    "\n",
    "    # Create the search index\n",
    "    index = SearchIndex(name=index_name, fields=fields)\n",
    "    result = index_client.create_or_update_index(index)\n",
    "    print(f' {result.name} created')"
   ]
  },
  {
   "cell_type": "code",
   "execution_count": 5,
   "metadata": {},
   "outputs": [
    {
     "name": "stdout",
     "output_type": "stream",
     "text": [
      " gsexpense-index created\n"
     ]
    }
   ],
   "source": [
    "index_name = \"gsexpense-index\"\n",
    "create_search_index(index_name)"
   ]
  },
  {
   "cell_type": "code",
   "execution_count": 6,
   "metadata": {},
   "outputs": [],
   "source": [
    "search_client = SearchClient(endpoint=service_endpoint, index_name=index_name, credential=credential)"
   ]
  },
  {
   "cell_type": "code",
   "execution_count": 7,
   "metadata": {},
   "outputs": [
    {
     "name": "stdout",
     "output_type": "stream",
     "text": [
      "[\n",
      "    {\n",
      "        \"id\": \"ID0001\",\n",
      "        \"title\": \"식대비\",\n",
      "        \"metadata\": {\n",
      "            \"date\": \"2024-12-14T20:00:00Z\",\n",
      "            \"amount\": 15000,\n",
      "            \"category\": \"meal\",\n",
      "            \"dept\": \"재무팀\"\n",
      "        },\n",
      "        \"content\": \"식대비 품의서입니다.\"\n",
      "    },\n",
      "    {\n",
      "        \"id\": \"ID0002\",\n",
      "        \"title\": \"교육비 품위서\",\n",
      "        \"metadata\": {\n",
      "            \"date\": \"2025-01-10T18:00:00Z\",\n",
      "            \"amount\": 300000,\n",
      "            \"category\": \"tuition\",\n",
      "            \"dept\": \"인사팀\"\n",
      "        },\n",
      "        \"content\": \"교육비 품의서입니다.\"\n",
      "    },\n",
      "    {\n",
      "        \"id\": \"ID0003\",\n",
      "        \"title\": \"교육비(회계팀) 품위서\",\n",
      "        \"metadata\": {\n",
      "            \"date\": \"2025-01-11T18:00:00Z\",\n",
      "            \"amount\": 1100000,\n",
      "            \"category\": \"tuition\",\n",
      "            \"dept\": \"회계팀\"\n",
      "        },\n",
      "        \"content\": \"교육비 품의서입니다.\"\n",
      "    },\n",
      "    {\n",
      "        \"id\": \"ID0004\",\n",
      "        \"title\": \"사무용품 품위서\",\n",
      "        \"metadata\": {\n",
      "            \"date\": \"2025-01-21T18:00:00Z\",\n",
      "            \"amount\": 30000000,\n",
      "            \"category\": \"office\",\n",
      "            \"dept\": \"R&D팀\"\n",
      "        },\n",
      "        \"content\": \"사무용품 품의서입니다.\"\n",
      "    },\n",
      "    {\n",
      "        \"id\": \"ID0005\",\n",
      "        \"title\": \"공사비 품위서\",\n",
      "        \"metadata\": {\n",
      "            \"date\": \"2025-02-03T18:00:00Z\",\n",
      "            \"amount\": 30000000,\n",
      "            \"category\": \"construction\",\n",
      "            \"dept\": \"개발1팀\"\n",
      "        },\n",
      "        \"content\": \"공사비 품의서입니다.\"\n",
      "    },\n",
      "    {\n",
      "        \"id\": \"ID0006\",\n",
      "        \"title\": \"공사비 품위서 2\",\n",
      "        \"metadata\": {\n",
      "            \"date\": \"2025-02-04T18:00:00Z\",\n",
      "            \"amount\": 10000000,\n",
      "            \"category\": \"construction\",\n",
      "            \"dept\": \"개발2팀\"\n",
      "        },\n",
      "        \"content\": \"공사비 품의서 2입니다.\"\n",
      "    },\n",
      "    {\n",
      "        \"id\": \"ID0007\",\n",
      "        \"title\": \"해외 출장비 품위서\",\n",
      "        \"metadata\": {\n",
      "            \"date\": \"2025-02-10T20:00:00Z\",\n",
      "            \"amount\": 5000000,\n",
      "            \"category\": \"travel\",\n",
      "            \"dept\": \"개발2팀\"\n",
      "        },\n",
      "        \"content\": \"해외 출장비 입니다.\"\n",
      "    }\n",
      "]\n"
     ]
    }
   ],
   "source": [
    "import json\n",
    "\n",
    "with open(\"./sample_expense.json\", \"r\") as f:\n",
    "    data = json.load(f)\n",
    "\n",
    "print(json.dumps(data, indent=4, ensure_ascii=False))"
   ]
  },
  {
   "cell_type": "code",
   "execution_count": 8,
   "metadata": {},
   "outputs": [],
   "source": [
    "for row in data:\n",
    "    documents = [{'id': row['id'], \n",
    "                     'title': row['title'], \n",
    "                     'content': row['content'],\n",
    "                     'date': row['metadata']['date'],\n",
    "                     \"amount\": row['metadata'][\"amount\"],\n",
    "                     'category': row['metadata'][\"category\"],\n",
    "                     'user': {\n",
    "                        'name': '홍길동',\n",
    "                        'dept': row['metadata'][\"dept\"]}\n",
    "                     }]\n",
    "    \n",
    "    result = search_client.upload_documents(documents)  "
   ]
  },
  {
   "cell_type": "code",
   "execution_count": 10,
   "metadata": {},
   "outputs": [],
   "source": [
    "from azure.search.documents.models import (\n",
    "    QueryType,\n",
    "    SearchMode\n",
    ")\n",
    "\n",
    "def search_query(query, filter=None):\n",
    "\n",
    "    results = search_client.search(  \n",
    "        search_text=query,\n",
    "        search_fields=[\"content\", \"title\"],\n",
    "        select=[\"id\", \"content\", \"title\", \"date\", \"category\", \"amount\", \"user\"],\n",
    "        filter=filter,\n",
    "        query_language=\"ko-kr\",\n",
    "        top=10 # for limiting text search\n",
    "    ) \n",
    "    \n",
    "    print(\"Search Results:\")\n",
    "    for i, result in enumerate(results, 1): \n",
    "        print(f\"{i}) {result['@search.score']:.3f}: {result['id']}, {result['title']}, {result['date']}, {result['amount']}, {result['category']}, {result['user']['dept']}\")  \n"
   ]
  },
  {
   "cell_type": "code",
   "execution_count": 11,
   "metadata": {},
   "outputs": [
    {
     "name": "stdout",
     "output_type": "stream",
     "text": [
      "Search Results:\n",
      "1) 1.000: ID0006, 공사비 품위서 2, 2025-02-04T18:00:00Z, 10000000, construction, 개발2팀\n",
      "2) 1.000: ID0003, 교육비(회계팀) 품위서, 2025-01-11T18:00:00Z, 1100000, tuition, 회계팀\n",
      "3) 1.000: ID0002, 교육비 품위서, 2025-01-10T18:00:00Z, 300000, tuition, 인사팀\n",
      "4) 1.000: ID0004, 사무용품 품위서, 2025-01-21T18:00:00Z, 30000000, office, R&D팀\n",
      "5) 1.000: ID0005, 공사비 품위서, 2025-02-03T18:00:00Z, 30000000, construction, 개발1팀\n",
      "6) 1.000: ID0007, 해외 출장비 품위서, 2025-02-10T20:00:00Z, 5000000, travel, 개발2팀\n"
     ]
    }
   ],
   "source": [
    "search_query(\"*\", filter=\"date gt '2025-01-01T09:00:00Z'\")"
   ]
  },
  {
   "cell_type": "code",
   "execution_count": 12,
   "metadata": {},
   "outputs": [
    {
     "name": "stdout",
     "output_type": "stream",
     "text": [
      "Search Results:\n",
      "1) 1.000: ID0001, 식대비, 2024-12-14T20:00:00Z, 15000, meal, 재무팀\n"
     ]
    }
   ],
   "source": [
    "search_query(\"*\", filter=\"category eq 'meal'\")"
   ]
  },
  {
   "cell_type": "code",
   "execution_count": 13,
   "metadata": {},
   "outputs": [
    {
     "name": "stdout",
     "output_type": "stream",
     "text": [
      "Search Results:\n",
      "1) 1.000: ID0005, 공사비 품위서, 2025-02-03T18:00:00Z, 30000000, construction, 개발1팀\n"
     ]
    }
   ],
   "source": [
    "search_query(\"*\", filter=\"user/dept eq '개발1팀'\")"
   ]
  },
  {
   "cell_type": "code",
   "execution_count": 14,
   "metadata": {},
   "outputs": [
    {
     "name": "stdout",
     "output_type": "stream",
     "text": [
      "Search Results:\n",
      "1) 1.000: ID0006, 공사비 품위서 2, 2025-02-04T18:00:00Z, 10000000, construction, 개발2팀\n",
      "2) 1.000: ID0003, 교육비(회계팀) 품위서, 2025-01-11T18:00:00Z, 1100000, tuition, 회계팀\n",
      "3) 1.000: ID0002, 교육비 품위서, 2025-01-10T18:00:00Z, 300000, tuition, 인사팀\n",
      "4) 1.000: ID0004, 사무용품 품위서, 2025-01-21T18:00:00Z, 30000000, office, R&D팀\n",
      "5) 1.000: ID0005, 공사비 품위서, 2025-02-03T18:00:00Z, 30000000, construction, 개발1팀\n",
      "6) 1.000: ID0007, 해외 출장비 품위서, 2025-02-10T20:00:00Z, 5000000, travel, 개발2팀\n"
     ]
    }
   ],
   "source": [
    "search_query(\"*\", filter=\"amount ge 100000\")"
   ]
  },
  {
   "cell_type": "code",
   "execution_count": 15,
   "metadata": {},
   "outputs": [
    {
     "name": "stdout",
     "output_type": "stream",
     "text": [
      "Search Results:\n",
      "1) 1.000: ID0006, 공사비 품위서 2, 2025-02-04T18:00:00Z, 10000000, construction, 개발2팀\n",
      "2) 1.000: ID0003, 교육비(회계팀) 품위서, 2025-01-11T18:00:00Z, 1100000, tuition, 회계팀\n",
      "3) 1.000: ID0004, 사무용품 품위서, 2025-01-21T18:00:00Z, 30000000, office, R&D팀\n",
      "4) 1.000: ID0005, 공사비 품위서, 2025-02-03T18:00:00Z, 30000000, construction, 개발1팀\n",
      "5) 1.000: ID0007, 해외 출장비 품위서, 2025-02-10T20:00:00Z, 5000000, travel, 개발2팀\n"
     ]
    }
   ],
   "source": [
    "search_query(\"*\", filter=\"date gt '2024-01-01' and amount ge 1000000\")"
   ]
  },
  {
   "cell_type": "code",
   "execution_count": 16,
   "metadata": {},
   "outputs": [
    {
     "name": "stdout",
     "output_type": "stream",
     "text": [
      "Search Results:\n",
      "1) 1.000: ID0004, 사무용품 품위서, 2025-01-21T18:00:00Z, 30000000, office, R&D팀\n"
     ]
    }
   ],
   "source": [
    "search_query(\"*\", filter=\"date gt '2024-01-01' and amount ge 1000000 and category eq 'office'\")"
   ]
  },
  {
   "cell_type": "code",
   "execution_count": 17,
   "metadata": {},
   "outputs": [
    {
     "name": "stdout",
     "output_type": "stream",
     "text": [
      "Search Results:\n",
      "1) 1.000: ID0003, 교육비(회계팀) 품위서, 2025-01-11T18:00:00Z, 1100000, tuition, 회계팀\n",
      "2) 1.000: ID0002, 교육비 품위서, 2025-01-10T18:00:00Z, 300000, tuition, 인사팀\n",
      "3) 1.000: ID0004, 사무용품 품위서, 2025-01-21T18:00:00Z, 30000000, office, R&D팀\n"
     ]
    }
   ],
   "source": [
    "search_query(\"*\", filter=\"date gt '2025-01-01' and date lt '2025-02-01T00:00:00'\")"
   ]
  },
  {
   "cell_type": "code",
   "execution_count": null,
   "metadata": {},
   "outputs": [],
   "source": []
  }
 ],
 "metadata": {
  "kernelspec": {
   "display_name": "aisearch",
   "language": "python",
   "name": "python3"
  },
  "language_info": {
   "codemirror_mode": {
    "name": "ipython",
    "version": 3
   },
   "file_extension": ".py",
   "mimetype": "text/x-python",
   "name": "python",
   "nbconvert_exporter": "python",
   "pygments_lexer": "ipython3",
   "version": "3.10.16"
  }
 },
 "nbformat": 4,
 "nbformat_minor": 2
}
