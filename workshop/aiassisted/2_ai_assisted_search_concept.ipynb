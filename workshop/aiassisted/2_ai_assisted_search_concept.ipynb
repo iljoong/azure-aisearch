{
 "cells": [
  {
   "cell_type": "markdown",
   "metadata": {},
   "source": [
    "## 2. AI-Assisted Search Concept\n",
    "\n",
    "Extract key information from NL query"
   ]
  },
  {
   "cell_type": "code",
   "execution_count": 1,
   "metadata": {},
   "outputs": [
    {
     "data": {
      "text/plain": [
       "False"
      ]
     },
     "execution_count": 1,
     "metadata": {},
     "output_type": "execute_result"
    }
   ],
   "source": [
    "from dotenv import load_dotenv\n",
    "load_dotenv(\"../.env\")"
   ]
  },
  {
   "cell_type": "code",
   "execution_count": 2,
   "metadata": {},
   "outputs": [],
   "source": [
    "from openai import AzureOpenAI\n",
    "\n",
    "import os\n",
    "\n",
    "client = AzureOpenAI(\n",
    "  api_key = os.getenv(\"AZURE_OPENAI_KEY\"),  \n",
    "  api_version = \"2025-01-01-preview\",\n",
    "  azure_endpoint = os.getenv(\"AZURE_OPENAI_ENDPOINT\")\n",
    ")"
   ]
  },
  {
   "cell_type": "code",
   "execution_count": 3,
   "metadata": {},
   "outputs": [],
   "source": [
    "def _chat_gpt(messages, model=\"gpt-4o\", temp=0, topp=0.1):\n",
    "    response = client.chat.completions.create(\n",
    "        model=model,\n",
    "        messages=messages,\n",
    "        temperature=temp,\n",
    "        max_tokens=2000,\n",
    "        top_p=topp\n",
    "    )   \n",
    "    \n",
    "    return response.choices[0].message.content"
   ]
  },
  {
   "cell_type": "code",
   "execution_count": 4,
   "metadata": {},
   "outputs": [],
   "source": [
    "import datetime\n",
    "\n",
    "today = datetime.datetime.today().strftime('%Y-%m-%d %H:%M:%S')"
   ]
  },
  {
   "cell_type": "code",
   "execution_count": null,
   "metadata": {},
   "outputs": [],
   "source": [
    "_user_message = f\"\"\"You are a helpful assistant.\n",
    "\n",
    "Today is 2025-02-10 10:00:00.\n",
    "You're task is to extract the key information from the user's search query.\n",
    "\n",
    "Valid categories are:\n",
    "- construnction: 공사, 아파트 공사, 도로 공사, 건축, 건축비\n",
    "- travel: 출장, 해외출장\n",
    "- tuition: 교육, 영어교육, 외국어 교육\n",
    "- meal: 식대, 식비\n",
    "- office: 사무용품, 사무용품 구입\n",
    "- other: 기타\n",
    "\n",
    "## Example\n",
    "Today: 2022-02-01 10:00:00\n",
    "User query: 지난 달 출장 100만원 이상 비용 품의서를 검색\n",
    "Date start: 2022-01-01\n",
    "Date end: 2022-01-31\n",
    "Amount: 1000000\n",
    "Category: travel\n",
    "\n",
    "User query: \"\"\""
   ]
  },
  {
   "cell_type": "code",
   "execution_count": 6,
   "metadata": {},
   "outputs": [],
   "source": [
    "import json\n",
    "\n",
    "with open(\"sample_query.json\", \"r\") as f:\n",
    "    samples = json.load(f)"
   ]
  },
  {
   "cell_type": "code",
   "execution_count": 7,
   "metadata": {},
   "outputs": [
    {
     "name": "stdout",
     "output_type": "stream",
     "text": [
      "이번 달 3000만원 이상의 품의서를 찾아줘\n",
      "Date start: 2025-02-01  \n",
      "Date end: 2025-02-10  \n",
      "Amount: 30000000  \n",
      "Category: other\n",
      "\n",
      "지난 달 100만원 이상의 영어 교육비 품의서를 찾아줘\n",
      "Date start: 2025-01-01  \n",
      "Date end: 2025-01-31  \n",
      "Amount: 1000000  \n",
      "Category: tuition\n",
      "\n",
      "오늘 작성된 품의서를 찾아줘\n",
      "Date start: 2025-02-10  \n",
      "Date end: 2025-02-10  \n",
      "Amount: Not specified  \n",
      "Category: Not specified\n",
      "\n",
      "지난 주에 작성된 500만원 이상의 품의서를 찾아줘\n",
      "Date start: 2025-02-03  \n",
      "Date end: 2025-02-09  \n",
      "Amount: 5000000  \n",
      "Category: other\n",
      "\n"
     ]
    }
   ],
   "source": [
    "for sample in samples:\n",
    "    user_query = sample[\"query\"]\n",
    "    print(user_query)\n",
    "\n",
    "    messages = [{\"role\": \"user\", \"content\": _user_message + user_query}]\n",
    "\n",
    "    response = _chat_gpt(messages)\n",
    "    print(f\"{response}\\n\")"
   ]
  },
  {
   "cell_type": "code",
   "execution_count": null,
   "metadata": {},
   "outputs": [],
   "source": []
  }
 ],
 "metadata": {
  "kernelspec": {
   "display_name": "aisearch",
   "language": "python",
   "name": "python3"
  },
  "language_info": {
   "codemirror_mode": {
    "name": "ipython",
    "version": 3
   },
   "file_extension": ".py",
   "mimetype": "text/x-python",
   "name": "python",
   "nbconvert_exporter": "python",
   "pygments_lexer": "ipython3",
   "version": "3.10.16"
  }
 },
 "nbformat": 4,
 "nbformat_minor": 2
}
