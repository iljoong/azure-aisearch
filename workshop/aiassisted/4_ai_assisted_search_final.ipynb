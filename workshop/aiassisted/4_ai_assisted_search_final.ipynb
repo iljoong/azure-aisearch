{
 "cells": [
  {
   "cell_type": "markdown",
   "metadata": {},
   "source": [
    "## 4. AI Assisted Search - Final concept\n",
    "\n",
    "Extract key information from NL query"
   ]
  },
  {
   "cell_type": "code",
   "execution_count": 1,
   "metadata": {},
   "outputs": [
    {
     "data": {
      "text/plain": [
       "False"
      ]
     },
     "execution_count": 1,
     "metadata": {},
     "output_type": "execute_result"
    }
   ],
   "source": [
    "from dotenv import load_dotenv\n",
    "load_dotenv(\"../.env\")"
   ]
  },
  {
   "cell_type": "code",
   "execution_count": 2,
   "metadata": {},
   "outputs": [],
   "source": [
    "from openai import AzureOpenAI\n",
    "\n",
    "import os\n",
    "\n",
    "client = AzureOpenAI(\n",
    "  api_key = os.getenv(\"AZURE_OPENAI_KEY\"),  \n",
    "  api_version = \"2025-01-01-preview\",\n",
    "  azure_endpoint = os.getenv(\"AZURE_OPENAI_ENDPOINT\")\n",
    ")"
   ]
  },
  {
   "cell_type": "code",
   "execution_count": 3,
   "metadata": {},
   "outputs": [],
   "source": [
    "from pydantic import BaseModel\n",
    "from typing import List, Any\n",
    "import json\n",
    "\n",
    "class QueryResponse(BaseModel):\n",
    "    date_start: str\n",
    "    date_end: str\n",
    "    amount: int\n",
    "    category: str\n",
    "    filter: str"
   ]
  },
  {
   "cell_type": "code",
   "execution_count": 4,
   "metadata": {},
   "outputs": [],
   "source": [
    "def _chat_gpt(messages, model=\"gpt-4o\", temp=0, topp=0.1):\n",
    "    response = client.beta.chat.completions.parse(\n",
    "        model=model,\n",
    "        messages=messages,\n",
    "        temperature=temp,\n",
    "        max_tokens=2000,\n",
    "        top_p=topp,\n",
    "        response_format=QueryResponse\n",
    "    )   \n",
    "    \n",
    "    return response.choices[0].message.parsed"
   ]
  },
  {
   "cell_type": "code",
   "execution_count": 5,
   "metadata": {},
   "outputs": [],
   "source": [
    "import datetime\n",
    "\n",
    "#today = datetime.datetime.today().strftime('%Y-%m-%dT%H:%M:%S')\n",
    "today = \"2025-02-10T18:00:00\""
   ]
  },
  {
   "cell_type": "code",
   "execution_count": 6,
   "metadata": {},
   "outputs": [],
   "source": [
    "_user_message = f\"\"\"You are a helpful assistant.\n",
    "\n",
    "Today is {today}.\n",
    "You're task is to extract the key information from the user's search query.\n",
    "\n",
    "## Instructions\n",
    "\n",
    "### Date\n",
    "1. Week start from sunday to saturday.\n",
    "2. If date range is not specified, set as today.\n",
    "3. Today day range of date_start and date_end is the same.\n",
    "\n",
    "### Amount\n",
    "1. If amount is not specified, set as 0.\n",
    "\n",
    "### Category\n",
    "1. Valid categories are:\n",
    "    - travel: 출장, 해외출장\n",
    "    - tuition: 교육, 영어교육, 외국어 교육\n",
    "    - meal: 식대, 식비\n",
    "    - office: 사무용품, 사무용품 구입\n",
    "    - other: 기타\n",
    "2. If category is not specified, set as empty string.\n",
    "\n",
    "### Filter\n",
    "1. Using the extracted information, generate a filter string in Azure AI Search filter format.\n",
    "2. Schema of Azure AI Search fields are:\n",
    "    - date: YYYY-MM-DDTHH:MM:SS\n",
    "    - amount: integer\n",
    "    - category: string\n",
    "3. Add UTC +09:00 to date.\n",
    "\n",
    "## Example\n",
    "Today: 2022-02-01 10:00:00\n",
    "User query: 지난 달 출장 100만원 이상 비용 품의서를 검색\n",
    "Date start: 2022-01-01\n",
    "Date end: 2022-01-31\n",
    "Amount: 1000000\n",
    "Category: travel\n",
    "Filter: \"date ge '2022-01-01T09:00:00' and date le '2022-02-01T08:59:59' and amount ge 1000000 and category eq 'travel'\"\n",
    "\n",
    "User query: \"\"\""
   ]
  },
  {
   "cell_type": "code",
   "execution_count": 7,
   "metadata": {},
   "outputs": [],
   "source": [
    "def generate(user_query):\n",
    "    messages = [{\"role\": \"user\", \"content\": _user_message + user_query}]\n",
    "    structued_response = _chat_gpt(messages)\n",
    "\n",
    "    return structued_response.filter"
   ]
  },
  {
   "cell_type": "code",
   "execution_count": 8,
   "metadata": {},
   "outputs": [],
   "source": [
    "import json\n",
    "\n",
    "with open(\"sample_query.json\", \"r\") as f:\n",
    "    samples = json.load(f)"
   ]
  },
  {
   "cell_type": "code",
   "execution_count": 9,
   "metadata": {},
   "outputs": [
    {
     "name": "stdout",
     "output_type": "stream",
     "text": [
      "이번 달 3000만원 이상의 품의서를 찾아줘\n",
      "date ge '2025-02-01T09:00:00' and date le '2025-03-01T08:59:59' and amount ge 30000000\n"
     ]
    }
   ],
   "source": [
    "user_query = samples[0][\"query\"]\n",
    "print(user_query)\n",
    "\n",
    "ai_search_filter = generate(user_query)\n",
    "print(ai_search_filter)"
   ]
  },
  {
   "cell_type": "markdown",
   "metadata": {},
   "source": [
    "### Search integrated"
   ]
  },
  {
   "cell_type": "code",
   "execution_count": 10,
   "metadata": {},
   "outputs": [],
   "source": [
    "from azure.core.credentials import AzureKeyCredential  \n",
    "from azure.search.documents import SearchClient   "
   ]
  },
  {
   "cell_type": "code",
   "execution_count": 11,
   "metadata": {},
   "outputs": [],
   "source": [
    "import os\n",
    "service_endpoint = os.getenv(\"AZSCH_ENDPOINT\")  \n",
    "credential = AzureKeyCredential(os.environ[\"AZSCH_KEY\"])\n",
    "\n",
    "#print(service_endpoint)\n",
    "\n",
    "index_name = \"gsexpense-index\"\n",
    "search_client = SearchClient(endpoint=service_endpoint, index_name=index_name, credential=credential)"
   ]
  },
  {
   "cell_type": "code",
   "execution_count": 12,
   "metadata": {},
   "outputs": [],
   "source": [
    "def search_query(query, filter=None):\n",
    "\n",
    "    results = search_client.search(  \n",
    "        search_text=query,\n",
    "        search_fields=[\"content\", \"title\"],\n",
    "        select=[\"id\", \"content\", \"title\", \"date\", \"category\", \"amount\", \"user\"],\n",
    "        filter=filter,\n",
    "        query_language=\"ko-kr\",\n",
    "        top=10 # for limiting text search\n",
    "    ) \n",
    "    \n",
    "    print(\"Search Results:\")\n",
    "    for i, result in enumerate(results, 1): \n",
    "        print(f\"{i}) {result['@search.score']:.3f}: {result['id']}, {result['title']}, {result['date']}, {result['amount']}, {result['category']}, {result['user']['dept']}\")  \n"
   ]
  },
  {
   "cell_type": "code",
   "execution_count": 13,
   "metadata": {},
   "outputs": [
    {
     "name": "stdout",
     "output_type": "stream",
     "text": [
      "이번 달 3000만원 이상의 품의서를 찾아줘\n",
      "Search Results:\n",
      "1) 1.000: ID0005, 공사비 품위서, 2025-02-03T18:00:00Z, 30000000, construction, 개발1팀\n"
     ]
    }
   ],
   "source": [
    "print(user_query)\n",
    "search_query(\"*\", ai_search_filter)"
   ]
  },
  {
   "cell_type": "code",
   "execution_count": 14,
   "metadata": {},
   "outputs": [
    {
     "name": "stdout",
     "output_type": "stream",
     "text": [
      "이번 달 3000만원 이상의 품의서를 찾아줘: date ge '2025-02-01T09:00:00' and date le '2025-03-01T08:59:59' and amount ge 30000000\n",
      "Search Results:\n",
      "1) 1.000: ID0005, 공사비 품위서, 2025-02-03T18:00:00Z, 30000000, construction, 개발1팀\n",
      "\n",
      "지난 달 100만원 이상의 영어 교육비 품의서를 찾아줘: date ge '2025-01-01T09:00:00' and date le '2025-02-01T08:59:59' and amount ge 1000000 and category eq 'tuition'\n",
      "Search Results:\n",
      "1) 1.000: ID0003, 교육비(회계팀) 품위서, 2025-01-11T18:00:00Z, 1100000, tuition, 회계팀\n",
      "\n",
      "오늘 작성된 품의서를 찾아줘: date ge '2025-02-10T09:00:00' and date le '2025-02-11T08:59:59'\n",
      "Search Results:\n",
      "1) 1.000: ID0007, 해외 출장비 품위서, 2025-02-10T20:00:00Z, 5000000, travel, 개발2팀\n",
      "\n",
      "지난 주에 작성된 500만원 이상의 품의서를 찾아줘: date ge '2025-02-02T09:00:00' and date le '2025-02-09T08:59:59' and amount ge 5000000\n",
      "Search Results:\n",
      "1) 1.000: ID0006, 공사비 품위서 2, 2025-02-04T18:00:00Z, 10000000, construction, 개발2팀\n",
      "2) 1.000: ID0005, 공사비 품위서, 2025-02-03T18:00:00Z, 30000000, construction, 개발1팀\n",
      "\n"
     ]
    }
   ],
   "source": [
    "for sample in samples:\n",
    "    user_query = sample['query']\n",
    "    ai_search_filter = generate(user_query)\n",
    "    print(f\"{user_query}: {ai_search_filter}\")\n",
    "\n",
    "    search_query(\"*\", ai_search_filter)\n",
    "    print()"
   ]
  },
  {
   "cell_type": "code",
   "execution_count": null,
   "metadata": {},
   "outputs": [],
   "source": []
  }
 ],
 "metadata": {
  "kernelspec": {
   "display_name": "aisearch",
   "language": "python",
   "name": "python3"
  },
  "language_info": {
   "codemirror_mode": {
    "name": "ipython",
    "version": 3
   },
   "file_extension": ".py",
   "mimetype": "text/x-python",
   "name": "python",
   "nbconvert_exporter": "python",
   "pygments_lexer": "ipython3",
   "version": "3.10.16"
  }
 },
 "nbformat": 4,
 "nbformat_minor": 2
}
