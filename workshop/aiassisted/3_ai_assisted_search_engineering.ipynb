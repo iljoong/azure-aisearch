{
 "cells": [
  {
   "cell_type": "markdown",
   "metadata": {},
   "source": [
    "## 3. AI Assisted Search - Prompt Engineering\n",
    "\n",
    "Extract key information from NL query\n",
    "\n",
    "Prompt engineering:\n",
    "- [Structured output](https://www.youtube.com/watch?v=kE4BkATIl9c&ab_channel=OpenAI)\n",
    "- Evaluation\n",
    "\n",
    "Example: https://github.com/Azure-Samples/azure-openai-entity-extraction"
   ]
  },
  {
   "cell_type": "code",
   "execution_count": 1,
   "metadata": {},
   "outputs": [
    {
     "data": {
      "text/plain": [
       "False"
      ]
     },
     "execution_count": 1,
     "metadata": {},
     "output_type": "execute_result"
    }
   ],
   "source": [
    "from dotenv import load_dotenv\n",
    "load_dotenv(\"../.env\")"
   ]
  },
  {
   "cell_type": "code",
   "execution_count": 2,
   "metadata": {},
   "outputs": [],
   "source": [
    "from openai import AzureOpenAI\n",
    "\n",
    "import os\n",
    "\n",
    "client = AzureOpenAI(\n",
    "  api_key = os.getenv(\"AZURE_OPENAI_KEY\"),  \n",
    "  api_version = \"2025-01-01-preview\",\n",
    "  azure_endpoint = os.getenv(\"AZURE_OPENAI_ENDPOINT\")\n",
    ")"
   ]
  },
  {
   "cell_type": "code",
   "execution_count": 5,
   "metadata": {},
   "outputs": [],
   "source": [
    "import json\n",
    "\n",
    "with open(\"sample_query.json\", \"r\") as f:\n",
    "    samples = json.load(f)"
   ]
  },
  {
   "cell_type": "code",
   "execution_count": 6,
   "metadata": {},
   "outputs": [],
   "source": [
    "from pydantic import BaseModel\n",
    "from typing import List, Any\n",
    "import json\n",
    "\n",
    "class QueryResponse(BaseModel):\n",
    "    date_start: str\n",
    "    date_end: str\n",
    "    amount: int\n",
    "    category: str"
   ]
  },
  {
   "cell_type": "code",
   "execution_count": 7,
   "metadata": {},
   "outputs": [],
   "source": [
    "def _chat_gpt(messages, model=\"gpt-4o\", temp=0, topp=0.1):\n",
    "    response = client.beta.chat.completions.parse(\n",
    "        model=model,\n",
    "        messages=messages,\n",
    "        temperature=temp,\n",
    "        max_tokens=2000,\n",
    "        top_p=topp,\n",
    "        response_format=QueryResponse\n",
    "    )   \n",
    "    \n",
    "    return response.choices[0].message.parsed"
   ]
  },
  {
   "cell_type": "code",
   "execution_count": 14,
   "metadata": {},
   "outputs": [],
   "source": [
    "def compare_values(expected, actual):\n",
    "    print(expected, \"\\t|\", actual)\n",
    "    if (expected == actual):\n",
    "        return True\n",
    "    return False\n",
    "\n",
    "def evaluate(prompt):\n",
    "    passed = 0\n",
    "    for i, sample in enumerate(samples, 1):\n",
    "        user_query = sample[\"query\"]\n",
    "        print(f\"{i}:\", user_query)\n",
    "\n",
    "        messages = [{\"role\": \"user\", \"content\": prompt + user_query}]\n",
    "\n",
    "        structued_response = _chat_gpt(messages)\n",
    "        print(\"expected \\t| actual\")\n",
    "        if compare_values(sample['expected']['date_start'], structued_response.date_start) and \\\n",
    "            compare_values(sample['expected']['date_end'], structued_response.date_end) and \\\n",
    "            compare_values(sample['expected']['amount'], structued_response.amount) and \\\n",
    "            compare_values(sample['expected']['category'], structued_response.category):\n",
    "            print(\"PASS\\n\")\n",
    "            passed += 1\n",
    "        else:\n",
    "            print(\"FAIL\\n\")\n",
    "\n",
    "    accuracy = passed/len(samples)\n",
    "    print(f\"accuracy: {accuracy*100:.0f} %\")\n"
   ]
  },
  {
   "cell_type": "code",
   "execution_count": null,
   "metadata": {},
   "outputs": [],
   "source": [
    "import datetime\n",
    "\n",
    "#today = datetime.datetime.today().strftime('%Y-%m-%dT%H:%M:%S')\n",
    "today = \"2025-02-10T18:00:00\""
   ]
  },
  {
   "cell_type": "code",
   "execution_count": null,
   "metadata": {},
   "outputs": [],
   "source": [
    "_user_message_init = f\"\"\"You are a helpful assistant.\n",
    "\n",
    "Today is {today}.\n",
    "You're task is to extract the key information from the user's search query.\n",
    "\n",
    "Valid categories are:\n",
    "- travel: 출장, 해외출장\n",
    "- tuition: 교육, 영어교육, 외국어 교육\n",
    "- meal: 식대, 식비\n",
    "- office: 사무용품, 사무용품 구입\n",
    "- other: 기타\n",
    "\n",
    "## Example\n",
    "Today: 2022-02-01 10:00:00\n",
    "User query: 지난 달 출장 100만원 이상 비용 품의서를 검색\n",
    "Date start: 2022-01-01\n",
    "Date end: 2022-01-31\n",
    "Amount: 1000000\n",
    "Category: travel\n",
    "\n",
    "User query: \"\"\""
   ]
  },
  {
   "cell_type": "code",
   "execution_count": 16,
   "metadata": {},
   "outputs": [
    {
     "name": "stdout",
     "output_type": "stream",
     "text": [
      "1: 이번 달 3000만원 이상의 품의서를 찾아줘\n",
      "expected \t| actual\n",
      "2025-02-01 \t| 2025-02-01\n",
      "2025-02-28 \t| 2025-02-10\n",
      "FAIL\n",
      "\n",
      "2: 지난 달 100만원 이상의 영어 교육비 품의서를 찾아줘\n",
      "expected \t| actual\n",
      "2025-01-01 \t| 2025-01-01\n",
      "2025-01-31 \t| 2025-01-31\n",
      "1000000 \t| 1000000\n",
      "tuition \t| tuition\n",
      "PASS\n",
      "\n",
      "3: 오늘 작성된 품의서를 찾아줘\n",
      "expected \t| actual\n",
      "2025-02-10 \t| 2025-02-10\n",
      "2025-02-10 \t| 2025-02-10\n",
      "0 \t| 0\n",
      " \t| other\n",
      "FAIL\n",
      "\n",
      "4: 지난 주에 작성된 500만원 이상의 품의서를 찾아줘\n",
      "expected \t| actual\n",
      "2025-02-02 \t| 2025-02-03\n",
      "FAIL\n",
      "\n",
      "accuracy: 25 %\n"
     ]
    }
   ],
   "source": [
    "evaluate(_user_message_init)"
   ]
  },
  {
   "cell_type": "code",
   "execution_count": null,
   "metadata": {},
   "outputs": [],
   "source": [
    "_user_message = f\"\"\"You are a helpful assistant.\n",
    "\n",
    "Today is {today}.\n",
    "You're task is to extract the key information from the user's search query.\n",
    "\n",
    "## Instructions\n",
    "\n",
    "### Date\n",
    "1. Week start from sunday to saturday.\n",
    "2. If date range is not specified, set as today.\n",
    "3. Today day range of date_start and date_end is the same.\n",
    "\n",
    "### Amount\n",
    "1. If amount is not specified, set as 0.\n",
    "\n",
    "### Category\n",
    "1. Valid categories are:\n",
    "    - travel: 출장, 해외출장\n",
    "    - tuition: 교육, 영어교육, 외국어 교육\n",
    "    - meal: 식대, 식비\n",
    "    - office: 사무용품, 사무용품 구입\n",
    "    - other: 기타\n",
    "2. If category is not specified, set as empty string.\n",
    "\n",
    "## Example\n",
    "Today: 2022-02-01 10:00:00\n",
    "User query: 지난 달 출장 100만원 이상 비용 품의서를 검색\n",
    "Date start: 2022-01-01\n",
    "Date end: 2022-01-31\n",
    "Amount: 1000000\n",
    "Category: travel\n",
    "\n",
    "User query: \"\"\""
   ]
  },
  {
   "cell_type": "code",
   "execution_count": 18,
   "metadata": {},
   "outputs": [
    {
     "name": "stdout",
     "output_type": "stream",
     "text": [
      "1: 이번 달 3000만원 이상의 품의서를 찾아줘\n",
      "expected \t| actual\n",
      "2025-02-01 \t| 2025-02-01\n",
      "2025-02-28 \t| 2025-02-28\n",
      "30000000 \t| 30000000\n",
      " \t| \n",
      "PASS\n",
      "\n",
      "2: 지난 달 100만원 이상의 영어 교육비 품의서를 찾아줘\n",
      "expected \t| actual\n",
      "2025-01-01 \t| 2025-01-01\n",
      "2025-01-31 \t| 2025-01-31\n",
      "1000000 \t| 1000000\n",
      "tuition \t| tuition\n",
      "PASS\n",
      "\n",
      "3: 오늘 작성된 품의서를 찾아줘\n",
      "expected \t| actual\n",
      "2025-02-10 \t| 2025-02-10\n",
      "2025-02-10 \t| 2025-02-10\n",
      "0 \t| 0\n",
      " \t| \n",
      "PASS\n",
      "\n",
      "4: 지난 주에 작성된 500만원 이상의 품의서를 찾아줘\n",
      "expected \t| actual\n",
      "2025-02-02 \t| 2025-02-02\n",
      "2025-02-08 \t| 2025-02-08\n",
      "5000000 \t| 5000000\n",
      " \t| \n",
      "PASS\n",
      "\n",
      "accuracy: 100 %\n"
     ]
    }
   ],
   "source": [
    "evaluate(_user_message)"
   ]
  },
  {
   "cell_type": "code",
   "execution_count": null,
   "metadata": {},
   "outputs": [],
   "source": []
  }
 ],
 "metadata": {
  "kernelspec": {
   "display_name": "aisearch",
   "language": "python",
   "name": "python3"
  },
  "language_info": {
   "codemirror_mode": {
    "name": "ipython",
    "version": 3
   },
   "file_extension": ".py",
   "mimetype": "text/x-python",
   "name": "python",
   "nbconvert_exporter": "python",
   "pygments_lexer": "ipython3",
   "version": "3.10.16"
  }
 },
 "nbformat": 4,
 "nbformat_minor": 2
}
