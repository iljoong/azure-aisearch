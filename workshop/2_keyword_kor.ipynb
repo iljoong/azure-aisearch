{
 "cells": [
  {
   "cell_type": "markdown",
   "metadata": {},
   "source": [
    "## 2. Keyword/Text search with Korean Analyzer\n",
    "\n",
    "### Analyzer\n",
    "\n",
    "- https://learn.microsoft.com/en-us/azure/search/search-analyzers\n",
    "- https://learn.microsoft.com/en-us/azure/search/index-add-language-analyzers"
   ]
  },
  {
   "cell_type": "code",
   "execution_count": 2,
   "metadata": {},
   "outputs": [
    {
     "data": {
      "text/plain": [
       "True"
      ]
     },
     "execution_count": 2,
     "metadata": {},
     "output_type": "execute_result"
    }
   ],
   "source": [
    "from dotenv import load_dotenv\n",
    "load_dotenv(\"../.env\")"
   ]
  },
  {
   "cell_type": "code",
   "execution_count": 3,
   "metadata": {},
   "outputs": [],
   "source": [
    "from azure.core.credentials import AzureKeyCredential  \n",
    "from azure.search.documents import SearchClient  \n",
    "from azure.search.documents.indexes import SearchIndexClient  \n",
    "from azure.search.documents.indexes.models import (  \n",
    "    SearchIndex,  \n",
    "    SearchField,  \n",
    "    SearchFieldDataType,  \n",
    "    SimpleField,  \n",
    "    SearchableField,  \n",
    "    SearchIndex,  \n",
    ")"
   ]
  },
  {
   "cell_type": "code",
   "execution_count": 4,
   "metadata": {},
   "outputs": [
    {
     "name": "stdout",
     "output_type": "stream",
     "text": [
      "https://iksch.search.windows.net\n"
     ]
    }
   ],
   "source": [
    "import os\n",
    "service_endpoint = os.getenv(\"AZSCH_ENDPOINT\")  \n",
    "credential = AzureKeyCredential(os.environ[\"AZSCH_KEY\"])\n",
    "\n",
    "print(service_endpoint)"
   ]
  },
  {
   "cell_type": "code",
   "execution_count": 5,
   "metadata": {},
   "outputs": [],
   "source": [
    "# Create a search index\n",
    "def create_search_index(index_name):\n",
    "    index_client = SearchIndexClient(\n",
    "        endpoint=service_endpoint, credential=credential)\n",
    "    fields = [\n",
    "        SimpleField(name=\"id\", type=SearchFieldDataType.String, key=True),\n",
    "        SearchableField(name=\"title\", type=SearchFieldDataType.String,\n",
    "                        searchable=True, retrievable=True,\n",
    "                        analyzer_name=\"ko.microsoft\"),\n",
    "        SearchableField(name=\"body\", type=SearchFieldDataType.String,\n",
    "                        searchable=True, retrievable=True,\n",
    "                        analyzer_name=\"ko.microsoft\"),\n",
    "        SearchableField(name=\"date\", type=SearchFieldDataType.String,\n",
    "                        searchable=False, retrievable=True,\n",
    "                        facetable=False, filterable=True),\n",
    "        SearchableField(name=\"type\", type=SearchFieldDataType.String,\n",
    "                        searchable=False, retrievable=True,\n",
    "                        facetable=True, filterable=True),\n",
    "        SearchableField(name=\"docid\", type=SearchFieldDataType.String)\n",
    "    ]\n",
    "\n",
    "    # Create the search index\n",
    "    index = SearchIndex(name=index_name, fields=fields)\n",
    "    result = index_client.create_or_update_index(index)\n",
    "    print(f' {result.name} created')"
   ]
  },
  {
   "cell_type": "code",
   "execution_count": 6,
   "metadata": {},
   "outputs": [
    {
     "name": "stdout",
     "output_type": "stream",
     "text": [
      " ncevent-kor-index created\n"
     ]
    }
   ],
   "source": [
    "index_name = \"ncevent-kor-index\"\n",
    "create_search_index(index_name)"
   ]
  },
  {
   "cell_type": "code",
   "execution_count": 7,
   "metadata": {},
   "outputs": [],
   "source": [
    "search_client = SearchClient(endpoint=service_endpoint, index_name=index_name, credential=credential)"
   ]
  },
  {
   "cell_type": "code",
   "execution_count": 8,
   "metadata": {},
   "outputs": [],
   "source": [
    "import pandas as pd\n",
    "from tqdm import tqdm"
   ]
  },
  {
   "cell_type": "code",
   "execution_count": 9,
   "metadata": {},
   "outputs": [
    {
     "data": {
      "text/html": [
       "<div>\n",
       "<style scoped>\n",
       "    .dataframe tbody tr th:only-of-type {\n",
       "        vertical-align: middle;\n",
       "    }\n",
       "\n",
       "    .dataframe tbody tr th {\n",
       "        vertical-align: top;\n",
       "    }\n",
       "\n",
       "    .dataframe thead th {\n",
       "        text-align: right;\n",
       "    }\n",
       "</style>\n",
       "<table border=\"1\" class=\"dataframe\">\n",
       "  <thead>\n",
       "    <tr style=\"text-align: right;\">\n",
       "      <th></th>\n",
       "      <th>id</th>\n",
       "      <th>title</th>\n",
       "      <th>date</th>\n",
       "      <th>body</th>\n",
       "    </tr>\n",
       "  </thead>\n",
       "  <tbody>\n",
       "    <tr>\n",
       "      <th>0</th>\n",
       "      <td>520783</td>\n",
       "      <td>설날 기념 마이타임, 핫타임 이벤트</td>\n",
       "      <td>2025-01-24 12:00:00</td>\n",
       "      <td>\\n자유를 향한 검은 날개\\n안녕하세요. 나이트 크로우입니다.\\n설날 기념 마이타임...</td>\n",
       "    </tr>\n",
       "    <tr>\n",
       "      <th>1</th>\n",
       "      <td>520257</td>\n",
       "      <td>설 기념 깜짝 우편 이벤트</td>\n",
       "      <td>2025-01-22 22:10:00</td>\n",
       "      <td>\\n자유를 향한 검은 날개\\n안녕하세요. 나이트 크로우입니다.\\n2025년 설 연휴...</td>\n",
       "    </tr>\n",
       "    <tr>\n",
       "      <th>2</th>\n",
       "      <td>520255</td>\n",
       "      <td>도노반, 에스텔라 전용 이벤트</td>\n",
       "      <td>2025-01-22 22:10:00</td>\n",
       "      <td>\\n자유를 향한 검은 날개\\n안녕하세요. 나이트 크로우입니다.\\n독립된 또 다른 세...</td>\n",
       "    </tr>\n",
       "    <tr>\n",
       "      <th>3</th>\n",
       "      <td>520254</td>\n",
       "      <td>특별한 새해 떡국 이벤트</td>\n",
       "      <td>2025-01-22 22:10:00</td>\n",
       "      <td>\\n자유를 향한 검은 날개\\n안녕하세요. 나이트 크로우입니다.\\n두 번째 설을 기념...</td>\n",
       "    </tr>\n",
       "    <tr>\n",
       "      <th>4</th>\n",
       "      <td>520253</td>\n",
       "      <td>+9 밤까마귀 장비 제작 이벤트</td>\n",
       "      <td>2025-01-22 22:10:00</td>\n",
       "      <td>\\n자유를 향한 검은 날개\\n안녕하세요. 나이트 크로우입니다.\\n+9 밤까마귀 장비...</td>\n",
       "    </tr>\n",
       "  </tbody>\n",
       "</table>\n",
       "</div>"
      ],
      "text/plain": [
       "       id                title                date  \\\n",
       "0  520783  설날 기념 마이타임, 핫타임 이벤트 2025-01-24 12:00:00   \n",
       "1  520257       설 기념 깜짝 우편 이벤트 2025-01-22 22:10:00   \n",
       "2  520255     도노반, 에스텔라 전용 이벤트 2025-01-22 22:10:00   \n",
       "3  520254        특별한 새해 떡국 이벤트 2025-01-22 22:10:00   \n",
       "4  520253    +9 밤까마귀 장비 제작 이벤트 2025-01-22 22:10:00   \n",
       "\n",
       "                                                body  \n",
       "0  \\n자유를 향한 검은 날개\\n안녕하세요. 나이트 크로우입니다.\\n설날 기념 마이타임...  \n",
       "1  \\n자유를 향한 검은 날개\\n안녕하세요. 나이트 크로우입니다.\\n2025년 설 연휴...  \n",
       "2  \\n자유를 향한 검은 날개\\n안녕하세요. 나이트 크로우입니다.\\n독립된 또 다른 세...  \n",
       "3  \\n자유를 향한 검은 날개\\n안녕하세요. 나이트 크로우입니다.\\n두 번째 설을 기념...  \n",
       "4  \\n자유를 향한 검은 날개\\n안녕하세요. 나이트 크로우입니다.\\n+9 밤까마귀 장비...  "
      ]
     },
     "execution_count": 9,
     "metadata": {},
     "output_type": "execute_result"
    }
   ],
   "source": [
    "df = pd.read_json(\"./sample_events.json\")\n",
    "df.head()"
   ]
  },
  {
   "cell_type": "code",
   "execution_count": 11,
   "metadata": {},
   "outputs": [
    {
     "name": "stderr",
     "output_type": "stream",
     "text": [
      "100%|██████████| 7/7 [00:02<00:00,  2.96it/s]\n"
     ]
    }
   ],
   "source": [
    "count = 0\n",
    "batch_size = 40\n",
    "for i in tqdm(range(0, len(df), batch_size)):\n",
    "    # set end position of batch\n",
    "    i_end = min(i+batch_size, len(df))\n",
    "    \n",
    "    documents = df[i:i_end].apply(\n",
    "        lambda row: {'id': str(row.name), \n",
    "                     'title': row['title'], \n",
    "                     'body': row['body'],\n",
    "                     'date': row['date'],\n",
    "                     'type': \"event\",\n",
    "                     \"docid\": str(row[\"id\"])\n",
    "                    }, axis=1).to_list()\n",
    "    \n",
    "    result = search_client.upload_documents(documents)  "
   ]
  },
  {
   "cell_type": "code",
   "execution_count": 12,
   "metadata": {},
   "outputs": [],
   "source": [
    "from azure.search.documents.models import (\n",
    "    QueryType,\n",
    "    SearchMode\n",
    ")\n",
    "\n",
    "import json\n",
    "\n",
    "def azsch_text_query(query, type=QueryType.Simple, mode=SearchMode.Any):\n",
    "\n",
    "    results = search_client.search(  \n",
    "        search_text=query,\n",
    "        query_type=type,\n",
    "        search_mode=mode,\n",
    "        search_fields=[\"body\", \"title\"],\n",
    "        select=[\"docid\", \"body\", \"title\", \"date\", \"type\"],\n",
    "        query_language=\"ko-kr\",\n",
    "        top=10 # for limiting text search\n",
    "    ) \n",
    "    \n",
    "    print(\"Search Results:\")\n",
    "    for i, result in enumerate(results, 1): \n",
    "        print(f\"{i}) {result['@search.score']:.10f}: {result['docid']}, {result['title']}, {result['date']}\")  \n"
   ]
  },
  {
   "cell_type": "markdown",
   "metadata": {},
   "source": [
    "## Demo\n",
    "\n",
    "- basic keyword search\n",
    "- filter\n",
    "- paging\n",
    "- faceting"
   ]
  },
  {
   "cell_type": "markdown",
   "metadata": {},
   "source": [
    "### basic search"
   ]
  },
  {
   "cell_type": "code",
   "execution_count": 13,
   "metadata": {},
   "outputs": [
    {
     "name": "stdout",
     "output_type": "stream",
     "text": [
      "Search Results:\n",
      "1) 11.1939520000: 264647, 출석 이벤트, 2024-03-27T18:30:00Z\n",
      "2) 11.1015680000: 214626, 던전 이벤트, 2023-12-14T03:30:00Z\n",
      "3) 10.7214160000: 474792, 던전 이벤트, 2024-11-07T09:52:00Z\n",
      "4) 10.5787880000: 439637, 던전 이벤트, 2024-09-11T19:30:00Z\n",
      "5) 10.2701640000: 344072, 출석 이벤트, 2024-05-22T18:30:00Z\n",
      "6) 10.1351960000: 336151, 던전 이벤트, 2024-05-15T18:00:00Z\n",
      "7) 9.5821840000: 224612, 던전 이벤트, 2024-01-24T18:30:00Z\n",
      "8) 8.4938910000: 406041, 던전 이벤트, 2024-08-07T18:30:00Z\n",
      "9) 8.0158500000: 336152, 부트캠프 전용 이벤트, 2024-05-15T18:00:00Z\n",
      "10) 7.5101633000: 234729, 던전 이벤트, 2024-03-06T18:00:00Z\n"
     ]
    }
   ],
   "source": [
    "results = azsch_text_query('산코나')"
   ]
  },
  {
   "cell_type": "code",
   "execution_count": 14,
   "metadata": {},
   "outputs": [
    {
     "name": "stdout",
     "output_type": "stream",
     "text": [
      "Search Results:\n",
      "1) 10.5293330000: 214626, 던전 이벤트, 2023-12-14T03:30:00Z\n",
      "2) 10.1513190000: 474792, 던전 이벤트, 2024-11-07T09:52:00Z\n",
      "3) 9.9466170000: 439637, 던전 이벤트, 2024-09-11T19:30:00Z\n",
      "4) 9.8102650000: 264647, 출석 이벤트, 2024-03-27T18:30:00Z\n",
      "5) 9.6310510000: 336151, 던전 이벤트, 2024-05-15T18:00:00Z\n",
      "6) 9.2064100000: 344072, 출석 이벤트, 2024-05-22T18:30:00Z\n",
      "7) 9.1241000000: 224612, 던전 이벤트, 2024-01-24T18:30:00Z\n",
      "8) 8.0789150000: 406041, 던전 이벤트, 2024-08-07T18:30:00Z\n",
      "9) 7.2428640000: 234729, 던전 이벤트, 2024-03-06T18:00:00Z\n",
      "10) 7.0986010000: 376712, 던전 이벤트, 2024-06-26T18:30:00Z\n"
     ]
    }
   ],
   "source": [
    "results = azsch_text_query('산코나유적')"
   ]
  },
  {
   "cell_type": "markdown",
   "metadata": {},
   "source": [
    "### Hightlight"
   ]
  },
  {
   "cell_type": "code",
   "execution_count": 19,
   "metadata": {},
   "outputs": [],
   "source": [
    "def azsch_text_query_highlight(query):\n",
    "\n",
    "    results = search_client.search(  \n",
    "        search_text=query,\n",
    "        query_type=QueryType.Simple,\n",
    "        search_mode=SearchMode.Any,\n",
    "        search_fields=[\"body\", \"title\"],\n",
    "        select=[\"docid\", \"body\", \"title\", \"date\", \"type\"],\n",
    "        highlight_fields=\"body\",\n",
    "        query_language=\"ko-kr\",\n",
    "        top=5 # for limiting text search\n",
    "    ) \n",
    "    \n",
    "    print(\"Search Results:\")\n",
    "    for i, result in enumerate(results, 1):  \n",
    "        if (result[\"@search.highlights\"]):\n",
    "            print(f\"{result['docid']}: {result['@search.score']:.10f}: {result['title']}\")\n",
    "            for highlight in result['@search.highlights']['body']:\n",
    "                print(f\"    {highlight}\")\n",
    "        else:\n",
    "            print(f\"{result['docid']}: {result['@search.score']:.10f}: {result['title']} - {result['body']}\")  "
   ]
  },
  {
   "cell_type": "code",
   "execution_count": 20,
   "metadata": {},
   "outputs": [
    {
     "name": "stdout",
     "output_type": "stream",
     "text": [
      "Search Results:\n",
      "214626: 10.5293330000: 던전 이벤트\n",
      "    이벤트 기간 동안, <em>산코나</em> <em>유적에서</em> 더 많은 경험치와 무기 숙련도를 얻을 수 있게 되었습니다.\n",
      "    지금 이 순간, <em>산코나</em> <em>유적에서</em> 누구보다 값진 성장을 향해 여러분의 여정을 시작하세요. \n",
      "    ■ 던전 이벤트\n",
      "• 이벤트 기간: 12월 14일(목) 업데이트 후 ~ 12월 28일(목) 점검 전까지• 이벤트 내용: 이벤트 기간 동안 <em>산코나</em> <em>유적의</em> 경험치 획득량, 무기 숙련도 획득량이 증가합니다.이벤트 상세 내용이벤트 대상 지역혜택<em>산코나</em> <em>유적</em>경험치 +50%, 무기 숙련도 +100%\n",
      "\n",
      "감사합니다.\n",
      "474792: 10.1513190000: 던전 이벤트\n",
      "    이벤트 기간 동안 <em>산코나</em> <em>유적에서</em> 더 많은 경험치와 무기 숙련도를 얻을 수 있게 되었습니다.\n",
      "    이벤트 기간: 11월 7일(목) 업데이트 후 ~ 11월 21일(목) 업데이트 전까지이벤트 대상: 전체 서버이벤트 내용: 이벤트 기간 동안 <em>산코나</em> <em>유적의</em> 경험치 획득량, 무기 숙련도 획득량이 증가합니다.이벤트 상세 내용이벤트 대상 지역혜택<em>산코나</em> <em>유적</em>경험치 +80%, 무기 숙련도 +100%\n",
      "\n",
      "감사합니다.\n",
      "439637: 9.9466170000: 던전 이벤트\n",
      "    <em>산코나</em> <em>유적과</em> 수련의 숲에서 더 높은 성과를 거두어 보시길 바랍니다.\n",
      "    이벤트 기간: 9월 12일(목) 업데이트 후 ~ 9월 26일(목) 업데이트 전까지이벤트 내용: 이벤트 기간 동안 <em>산코나</em> <em>유적의</em> 경험치 획득량, 무기 숙련도 획득량이 증가합니다.이벤트 상세 내용이벤트 대상 지역혜택<em>산코나</em> <em>유적</em>경험치 +80%, 무기 숙련도 +100%\n",
      "\n",
      "이벤트 기간: 9월 12일(목) 업데이트 후 ~  9월 26일(목) 업데이트 전까지이벤트 내용: 이벤트 기간 동안 수련의 숲 퀘스트 보상이 2배로 지급됩니다.이벤트 상세 내용이벤트 대상 던전\n",
      "추가 혜택\n",
      "수련의 숲수련의 숲 - 일일 퀘스트 보상 '등급별 수련의 숲 상자'가 2배로 지급됩니다.\n",
      "264647: 9.8102650000: 출석 이벤트\n",
      "    .* 게임 화면 상단 [이벤트] 아이콘을 통해 확인할 수 있습니다.불멸의 해방일지 II 출석 보상\n",
      "분류보상 아이템수량1일차해방의 씨앗(귀속)\n",
      "102일차[이벤트] 시간 충전 장치 - <em>산코나</em> <em>유적</em>(귀속)\n",
      "23일차해방의 결정(귀속)\n",
      "34일차해방의 씨앗(귀속)\n",
      "105일차[이벤트] 시간 충전 장치 - <em>산코나</em> <em>유적</em>(귀속)\n",
      "26일차해방의 결정(귀속)\n",
      "37일차해방의 씨앗(귀속)\n",
      "20* [이벤트] 아이템은 4월 18일(목) 08:00까지 사용할 수 있습니다.\n",
      "336151: 9.6310510000: 던전 이벤트\n",
      "    이벤트 기간 동안 <em>산코나</em> <em>유적에서</em> 더 많은 경험치와 무기 숙련도를 얻을 수 있게 되었습니다.\n",
      "    지금 이 순간, <em>산코나</em> <em>유적에서</em> 누구보다 값진 성장을 향해 여러분의 여정을 시작하세요. \n",
      "    이벤트 기간: 5월 16일(목) 업데이트 후 ~ 5월 30일(목) 08:00까지이벤트 내용: 이벤트 기간 동안 <em>산코나</em> <em>유적의</em> 경험치 획득량, 무기 숙련도 획득량이 증가합니다.이벤트 상세 내용이벤트 대상 지역혜택<em>산코나</em> <em>유적</em>경험치 +80%, 무기 숙련도 +100%\n",
      "\n",
      "감사합니다.\n"
     ]
    }
   ],
   "source": [
    "# facets\n",
    "azsch_text_query_highlight(\"산코나유적\")"
   ]
  },
  {
   "cell_type": "code",
   "execution_count": null,
   "metadata": {},
   "outputs": [],
   "source": []
  }
 ],
 "metadata": {
  "kernelspec": {
   "display_name": "aisearch",
   "language": "python",
   "name": "python3"
  },
  "language_info": {
   "codemirror_mode": {
    "name": "ipython",
    "version": 3
   },
   "file_extension": ".py",
   "mimetype": "text/x-python",
   "name": "python",
   "nbconvert_exporter": "python",
   "pygments_lexer": "ipython3",
   "version": "3.10.16"
  }
 },
 "nbformat": 4,
 "nbformat_minor": 2
}
