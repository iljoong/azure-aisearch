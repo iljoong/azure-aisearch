{
 "cells": [
  {
   "cell_type": "markdown",
   "metadata": {},
   "source": [
    "## 3. Semantic Search - Vectorize search (FAQs)\n",
    "\n",
    "Semantic Search - ingest/search"
   ]
  },
  {
   "cell_type": "code",
   "execution_count": 1,
   "metadata": {},
   "outputs": [
    {
     "data": {
      "text/plain": [
       "True"
      ]
     },
     "execution_count": 1,
     "metadata": {},
     "output_type": "execute_result"
    }
   ],
   "source": [
    "from dotenv import load_dotenv\n",
    "load_dotenv(\"../.env\")"
   ]
  },
  {
   "cell_type": "code",
   "execution_count": 2,
   "metadata": {},
   "outputs": [],
   "source": [
    "from azure.core.credentials import AzureKeyCredential  \n",
    "from azure.search.documents import SearchClient  \n",
    "from azure.search.documents.indexes import SearchIndexClient  \n",
    "from azure.search.documents.indexes.models import (  \n",
    "    SearchIndex,  \n",
    "    SearchField,  \n",
    "    SearchFieldDataType,  \n",
    "    SimpleField,  \n",
    "    SearchableField,  \n",
    "    SearchIndex,  \n",
    "    SemanticConfiguration,  \n",
    "    SearchField,  \n",
    "    VectorSearch,\n",
    "    SemanticSearch,\n",
    "    SemanticPrioritizedFields,\n",
    "    SemanticField,\n",
    "    HnswAlgorithmConfiguration,\n",
    "    HnswParameters,\n",
    "    VectorSearchAlgorithmMetric,\n",
    "    VectorSearchProfile,\n",
    "    AzureOpenAIVectorizer,\n",
    "    AzureOpenAIVectorizerParameters\n",
    ")"
   ]
  },
  {
   "cell_type": "code",
   "execution_count": 3,
   "metadata": {},
   "outputs": [
    {
     "name": "stdout",
     "output_type": "stream",
     "text": [
      "https://iksch.search.windows.net\n"
     ]
    }
   ],
   "source": [
    "import os\n",
    "service_endpoint = os.getenv(\"AZSCH_ENDPOINT\")  \n",
    "credential = AzureKeyCredential(os.environ[\"AZSCH_KEY\"])\n",
    "\n",
    "print(service_endpoint)\n",
    "\n",
    "api_key = os.getenv(\"AZURE_OPENAI_KEY\")\n",
    "azure_endpoint = os.getenv(\"AZURE_OPENAI_ENDPOINT\")"
   ]
  },
  {
   "cell_type": "code",
   "execution_count": 4,
   "metadata": {},
   "outputs": [],
   "source": [
    "# Create a search index\n",
    "def create_search_index(index_name, model_name=\"text-embedding-3-large\"):\n",
    "    index_client = SearchIndexClient(\n",
    "        endpoint=service_endpoint, credential=credential)\n",
    "    fields = [\n",
    "        SimpleField(name=\"id\", type=SearchFieldDataType.String, key=True),\n",
    "        SearchableField(name=\"title\", type=SearchFieldDataType.String,\n",
    "                        searchable=True, retrievable=True,\n",
    "                        analyzer_name=\"ko.microsoft\"),\n",
    "        SearchableField(name=\"chunk\", type=SearchFieldDataType.String,\n",
    "                        searchable=True, retrievable=True,\n",
    "                        analyzer_name=\"ko.microsoft\"),\n",
    "        SearchableField(name=\"category\", type=SearchFieldDataType.String,\n",
    "                        searchable=False, retrievable=True,\n",
    "                        facetable=True, filterable=True),\n",
    "        SearchableField(name=\"type\", type=SearchFieldDataType.String,\n",
    "                        searchable=False, retrievable=True,\n",
    "                        facetable=True, filterable=True),\n",
    "        SimpleField(name=\"parent_id\", type=SearchFieldDataType.String),\n",
    "        SimpleField(name=\"chunk_id\", type=SearchFieldDataType.String),\n",
    "        SearchField(name=\"vector\", type=SearchFieldDataType.Collection(SearchFieldDataType.Single),\n",
    "                    searchable=True, vector_search_dimensions=3072,\n",
    "                    vector_search_profile_name=\"myHnswProfile\")\n",
    "    ]\n",
    "\n",
    "    vector_search = VectorSearch(  \n",
    "        algorithms=[  \n",
    "            HnswAlgorithmConfiguration(  \n",
    "                name=\"myHnsw\",  \n",
    "                parameters=HnswParameters(  \n",
    "                    m=4,  \n",
    "                    ef_construction=400,  \n",
    "                    ef_search=500,  \n",
    "                    metric=VectorSearchAlgorithmMetric.COSINE,  \n",
    "                ),  \n",
    "            )\n",
    "        ],  \n",
    "        profiles=[  \n",
    "            VectorSearchProfile(  \n",
    "                name=\"myHnswProfile\",  \n",
    "                algorithm_configuration_name=\"myHnsw\",\n",
    "                vectorizer_name=\"vectorizer\"\n",
    "            )\n",
    "        ],\n",
    "        vectorizers=[\n",
    "            AzureOpenAIVectorizer(\n",
    "                vectorizer_name=\"vectorizer\",\n",
    "                kind=\"azureOpenAI\",\n",
    "                parameters = AzureOpenAIVectorizerParameters(\n",
    "                    resource_url=azure_endpoint,\n",
    "                    api_key=api_key,\n",
    "                    deployment_name=model_name,\n",
    "                    model_name=model_name\n",
    "                ),\n",
    "            )\n",
    "        ]\n",
    "    )  \n",
    "\n",
    "    semantic_config = SemanticConfiguration(  \n",
    "        name=\"semantic-config\",  \n",
    "        prioritized_fields=SemanticPrioritizedFields(  \n",
    "            title_field=SemanticField(field_name=\"title\"),\n",
    "            content_fields=[SemanticField(field_name=\"chunk\")]  \n",
    "        )\n",
    "    )\n",
    "\n",
    "    # Create the semantic search with the configuration  \n",
    "    semantic_search = SemanticSearch(configurations=[semantic_config]) \n",
    "\n",
    "    # Create the search index\n",
    "    index = SearchIndex(name=index_name, fields=fields,\n",
    "                        vector_search=vector_search, semantic_search=semantic_search)\n",
    "    result = index_client.create_or_update_index(index)\n",
    "    print(f' {result.name} created')"
   ]
  },
  {
   "cell_type": "code",
   "execution_count": 5,
   "metadata": {},
   "outputs": [
    {
     "name": "stdout",
     "output_type": "stream",
     "text": [
      " ncfaqs-kor-index created\n"
     ]
    }
   ],
   "source": [
    "index_name = \"ncfaqs-kor-index\"\n",
    "create_search_index(index_name, 'text-embedding-3-large')"
   ]
  },
  {
   "cell_type": "code",
   "execution_count": 6,
   "metadata": {},
   "outputs": [],
   "source": [
    "search_client = SearchClient(endpoint=service_endpoint, index_name=index_name, credential=credential)"
   ]
  },
  {
   "cell_type": "code",
   "execution_count": 7,
   "metadata": {},
   "outputs": [],
   "source": [
    "import pandas as pd\n",
    "from tqdm import tqdm"
   ]
  },
  {
   "cell_type": "code",
   "execution_count": 8,
   "metadata": {},
   "outputs": [
    {
     "data": {
      "text/html": [
       "<div>\n",
       "<style scoped>\n",
       "    .dataframe tbody tr th:only-of-type {\n",
       "        vertical-align: middle;\n",
       "    }\n",
       "\n",
       "    .dataframe tbody tr th {\n",
       "        vertical-align: top;\n",
       "    }\n",
       "\n",
       "    .dataframe thead th {\n",
       "        text-align: right;\n",
       "    }\n",
       "</style>\n",
       "<table border=\"1\" class=\"dataframe\">\n",
       "  <thead>\n",
       "    <tr style=\"text-align: right;\">\n",
       "      <th></th>\n",
       "      <th>title</th>\n",
       "      <th>chunk</th>\n",
       "      <th>category</th>\n",
       "      <th>parent_id</th>\n",
       "      <th>chunk_id</th>\n",
       "      <th>embeddings</th>\n",
       "    </tr>\n",
       "  </thead>\n",
       "  <tbody>\n",
       "    <tr>\n",
       "      <th>0</th>\n",
       "      <td>계정 인증을 해제하고 싶어요.</td>\n",
       "      <td>계정 인증 해제는 아래의 방법을 참고해 주시길 바랍니다.\\n■ 계정 인증 해제 방법...</td>\n",
       "      <td>계정</td>\n",
       "      <td>469829</td>\n",
       "      <td>0</td>\n",
       "      <td>[-0.009334231726825237, -0.07371649891138077, ...</td>\n",
       "    </tr>\n",
       "    <tr>\n",
       "      <th>1</th>\n",
       "      <td>밤까마귀 장비를 강화했는데 이벤트 및 업적 카운트에 반영되지 않아요.</td>\n",
       "      <td>강화를 시도해도 파괴되지 않는 '보호의 밤까마귀 강화 주문서'로 강화했을 경우, 이...</td>\n",
       "      <td>게임</td>\n",
       "      <td>412428</td>\n",
       "      <td>0</td>\n",
       "      <td>[-0.0031998935155570507, -0.034888189285993576...</td>\n",
       "    </tr>\n",
       "    <tr>\n",
       "      <th>2</th>\n",
       "      <td>웹 상점 - 결제 취소는 되었지만, 결제 금액이 환불되지 않았어요.</td>\n",
       "      <td>결제 수단인 카드사 혹은 결제사의 정책에 따라 최종 결제 환불까지 영업일 기준 1~...</td>\n",
       "      <td>결제(PC)</td>\n",
       "      <td>398796</td>\n",
       "      <td>0</td>\n",
       "      <td>[-0.032882701605558395, -0.028877221047878265,...</td>\n",
       "    </tr>\n",
       "    <tr>\n",
       "      <th>3</th>\n",
       "      <td>웹 상점 - 결제 수단 별 한도가 궁금해요.</td>\n",
       "      <td>결제 수단 별 한도는 각 카드사 및 결제사의 정책에 따라 변동될 수 있습니다.\\n▶...</td>\n",
       "      <td>결제(PC)</td>\n",
       "      <td>398795</td>\n",
       "      <td>0</td>\n",
       "      <td>[-0.03583231195807457, -0.005664754193276167, ...</td>\n",
       "    </tr>\n",
       "    <tr>\n",
       "      <th>4</th>\n",
       "      <td>웹 상점 - 상품을 구매했지만 보관함에 들어오지 않았어요.</td>\n",
       "      <td>웹 상점에서 상품을 구매하면, 공식 사이트 내 대표 캐릭터로 설정된 캐릭터에게 지급...</td>\n",
       "      <td>결제(PC)</td>\n",
       "      <td>398794</td>\n",
       "      <td>0</td>\n",
       "      <td>[-0.030095618218183517, -0.008123816922307014,...</td>\n",
       "    </tr>\n",
       "  </tbody>\n",
       "</table>\n",
       "</div>"
      ],
      "text/plain": [
       "                                    title  \\\n",
       "0                        계정 인증을 해제하고 싶어요.   \n",
       "1  밤까마귀 장비를 강화했는데 이벤트 및 업적 카운트에 반영되지 않아요.   \n",
       "2   웹 상점 - 결제 취소는 되었지만, 결제 금액이 환불되지 않았어요.   \n",
       "3                웹 상점 - 결제 수단 별 한도가 궁금해요.   \n",
       "4        웹 상점 - 상품을 구매했지만 보관함에 들어오지 않았어요.   \n",
       "\n",
       "                                               chunk category parent_id  \\\n",
       "0  계정 인증 해제는 아래의 방법을 참고해 주시길 바랍니다.\\n■ 계정 인증 해제 방법...       계정    469829   \n",
       "1  강화를 시도해도 파괴되지 않는 '보호의 밤까마귀 강화 주문서'로 강화했을 경우, 이...       게임    412428   \n",
       "2  결제 수단인 카드사 혹은 결제사의 정책에 따라 최종 결제 환불까지 영업일 기준 1~...   결제(PC)    398796   \n",
       "3  결제 수단 별 한도는 각 카드사 및 결제사의 정책에 따라 변동될 수 있습니다.\\n▶...   결제(PC)    398795   \n",
       "4  웹 상점에서 상품을 구매하면, 공식 사이트 내 대표 캐릭터로 설정된 캐릭터에게 지급...   결제(PC)    398794   \n",
       "\n",
       "  chunk_id                                         embeddings  \n",
       "0        0  [-0.009334231726825237, -0.07371649891138077, ...  \n",
       "1        0  [-0.0031998935155570507, -0.034888189285993576...  \n",
       "2        0  [-0.032882701605558395, -0.028877221047878265,...  \n",
       "3        0  [-0.03583231195807457, -0.005664754193276167, ...  \n",
       "4        0  [-0.030095618218183517, -0.008123816922307014,...  "
      ]
     },
     "execution_count": 8,
     "metadata": {},
     "output_type": "execute_result"
    }
   ],
   "source": [
    "df = pd.read_pickle('./sample_faqs_chunked.pkl')\n",
    "df.head()"
   ]
  },
  {
   "cell_type": "code",
   "execution_count": 9,
   "metadata": {},
   "outputs": [
    {
     "name": "stderr",
     "output_type": "stream",
     "text": [
      "100%|██████████| 20/20 [00:14<00:00,  1.34it/s]\n"
     ]
    }
   ],
   "source": [
    "count = 0\n",
    "batch_size = 20\n",
    "for i in tqdm(range(0, len(df), batch_size)):\n",
    "    # set end position of batch\n",
    "    i_end = min(i+batch_size, len(df))\n",
    "    \n",
    "    documents = df[i:i_end].apply(\n",
    "        lambda row: {'id': str(row.name), \n",
    "                     'title': row['title'], \n",
    "                     'chunk': row['chunk'],\n",
    "                     'category': row['category'],\n",
    "                     'type': 'faq',\n",
    "                     #'vector': generate_embeddings(row['chunk'])\n",
    "                     'parent_id': str(row['parent_id']),\n",
    "                     'chunk_id': str(row['chunk_id']),\n",
    "                     'vector': row['embeddings']\n",
    "                    }, axis=1).to_list()\n",
    "    \n",
    "    result = search_client.upload_documents(documents)  "
   ]
  },
  {
   "cell_type": "markdown",
   "metadata": {},
   "source": [
    "### Vector Search"
   ]
  },
  {
   "cell_type": "code",
   "execution_count": 10,
   "metadata": {},
   "outputs": [],
   "source": [
    "from azure.search.documents.models import (\n",
    "    VectorizableTextQuery,\n",
    "    VectorQuery,\n",
    "    VectorizedQuery,\n",
    "    QueryType,\n",
    "    QueryCaptionType,\n",
    "    QueryAnswerType)"
   ]
  },
  {
   "cell_type": "code",
   "execution_count": 11,
   "metadata": {},
   "outputs": [],
   "source": [
    "def azsch_vector_query(query):\n",
    "    #vector_query = VectorizedQuery(vector=generate_embeddings(query), k_nearest_neighbors=3, fields=\"vector\")\n",
    "    vector_query = VectorizableTextQuery(text=query, k_nearest_neighbors=50, fields=\"vector\", exhaustive=True)\n",
    "\n",
    "    results = search_client.search(  \n",
    "        search_text=None,  \n",
    "        vector_queries=[vector_query],\n",
    "        select=[\"title\", \"chunk\", \"category\", \"type\", \"parent_id\"],\n",
    "        query_language=\"ko-kr\",\n",
    "        top=10 # for limiting text search\n",
    "    ) \n",
    "\n",
    "    for i, result in enumerate(results, 1): \n",
    "        print(f\"{i}: {result['@search.score']:.10f}: {result['parent_id']}, {result['title']}, {result['category']}\")  "
   ]
  },
  {
   "cell_type": "code",
   "execution_count": 12,
   "metadata": {},
   "outputs": [
    {
     "name": "stdout",
     "output_type": "stream",
     "text": [
      "1: 0.6034120300: 8, 나이트크로우를 해외에서 플레이할 수 있나요?, 설치/실행(MO)\n",
      "2: 0.5733986000: 93, 구글 연동 계정 로그인 시, \"Google에서 이 계정이 본인 계정이라는 것을 확인하지 못했습니다.\"라는 메시지와 함께 로그인이 불가합니다., 계정\n",
      "3: 0.5728779000: 20, 상품 결제 중 오류가 발생했어요., 결제(MO)\n",
      "4: 0.5709528300: 117, 이용 중인 계정이 환불 제재 되었어요., 계정\n",
      "5: 0.5664265000: 19, 같은 상품인데 스토어별 구매 가격이 다릅니다., 결제(MO)\n",
      "6: 0.5629176500: 25, PC에서 문의/신고 글 등록이 되지 않아요., 건의/신고\n",
      "7: 0.5620746600: 398794, 웹 상점 - 상품을 구매했지만 보관함에 들어오지 않았어요., 결제(PC)\n",
      "8: 0.5613286000: 63, 결제 내역(영수증)은 어디서 확인하나요?, 결제(MO)\n",
      "9: 0.5591763000: 229992, 상품 구매에 실패하였습니다.(P:-477) 에러가 발생해요., 결제(PC)\n",
      "10: 0.5584575000: 116, 기기 변경 또는 재설치한 후에도 이용하던 게임 정보를 불러올 수 있나요?, 계정\n"
     ]
    }
   ],
   "source": [
    "azsch_vector_query('해외에서도 사용한가요?')"
   ]
  },
  {
   "cell_type": "markdown",
   "metadata": {},
   "source": [
    "### Hybrid Search"
   ]
  },
  {
   "cell_type": "code",
   "execution_count": 13,
   "metadata": {},
   "outputs": [],
   "source": [
    "def azsch_hybrid_query(query):\n",
    "    #vector_query = VectorizedQuery(vector=generate_embeddings(query), k_nearest_neighbors=3, fields=\"vector\")\n",
    "    vector_query = VectorizableTextQuery(text=query, k_nearest_neighbors=50, fields=\"vector\", exhaustive=True)\n",
    "\n",
    "    results = search_client.search(  \n",
    "        search_text=query,  \n",
    "        vector_queries=[vector_query],\n",
    "        select=[\"title\", \"chunk\", \"category\", \"type\", \"parent_id\"],\n",
    "        query_language=\"ko-kr\",\n",
    "        top=10 # for limiting text search\n",
    "    ) \n",
    "\n",
    "    for i, result in enumerate(results, 1): \n",
    "        print(f\"{i}: {result['@search.score']:.10f}: {result['parent_id']}, {result['title']}, {result['category']}\")  "
   ]
  },
  {
   "cell_type": "code",
   "execution_count": 14,
   "metadata": {},
   "outputs": [
    {
     "name": "stdout",
     "output_type": "stream",
     "text": [
      "1: 0.0333333351: 8, 나이트크로우를 해외에서 플레이할 수 있나요?, 설치/실행(MO)\n",
      "2: 0.0325224735: 20, 상품 결제 중 오류가 발생했어요., 결제(MO)\n",
      "3: 0.0278097428: 60, 상품을 환불하고 싶어요., 결제(MO)\n",
      "4: 0.0275297612: 122, 단말기 설정을 무음으로 했는데도 게임 소리가 들려요., 시스템(MO)\n",
      "5: 0.0274436101: 398796, 웹 상점 - 결제 취소는 되었지만, 결제 금액이 환불되지 않았어요., 결제(PC)\n",
      "6: 0.0270319637: 74, 아이템 버리기는 어떤 기능인가요?, 게임\n",
      "7: 0.0270319637: 14, 네트워크 오류로 이용 중 접속이 끊기는 현상이 발생합니다., 시스템(MO)\n",
      "8: 0.0268301349: 63, 결제 내역(영수증)은 어디서 확인하나요?, 결제(MO)\n",
      "9: 0.0267857146: 9, 단말기 OS 정보는 어떻게 확인할 수 있나요?, 설치/실행(MO)\n",
      "10: 0.0266205706: 38231, 밤까마귀 장비 세공 확률이 궁금해요., 게임\n"
     ]
    }
   ],
   "source": [
    "azsch_hybrid_query('해외에서도 사용한가요?')"
   ]
  },
  {
   "cell_type": "markdown",
   "metadata": {},
   "source": [
    "### Semantic rerank\n",
    "\n",
    "combination of `title(description)` text + `meaning` text + `meaning` vector search result"
   ]
  },
  {
   "cell_type": "code",
   "execution_count": 15,
   "metadata": {},
   "outputs": [],
   "source": [
    "def azsch_rerank_query(query):\n",
    "    #vector_query = VectorizedQuery(vector=generate_embeddings(query), k_nearest_neighbors=3, fields=\"vector\")\n",
    "    vector_query = VectorizableTextQuery(text=query, k_nearest_neighbors=50, fields=\"vector\", exhaustive=True)\n",
    "\n",
    "    results = search_client.search(  \n",
    "        search_text=query,  \n",
    "        vector_queries=[vector_query],\n",
    "        select=[\"title\", \"chunk\", \"category\", \"type\", \"parent_id\"],\n",
    "        query_type=QueryType.SEMANTIC,\n",
    "        semantic_configuration_name='semantic-config',\n",
    "        query_caption=QueryCaptionType.EXTRACTIVE,\n",
    "        #query_answer=QueryAnswerType.EXTRACTIVE,\n",
    "        query_language=\"ko-kr\",\n",
    "        top=10 # for limiting text search\n",
    "    ) \n",
    "\n",
    "    for result in results:  \n",
    "        if result[\"@search.captions\"]:\n",
    "            caption = result[\"@search.captions\"][0]\n",
    "            print(f\"{result['@search.reranker_score']:.5f}/{result['@search.score']:.5f}: {result['parent_id']}, {result['title']}\")\n",
    "            print(f\"\\t{caption.highlights}\")  \n",
    "        else:\n",
    "            print(f\"{result['@search.reranker_score']:.5f}/{result['@search.score']:.5f}: {result['parent_id']}, {result['title']}\")  \n",
    " "
   ]
  },
  {
   "cell_type": "code",
   "execution_count": 16,
   "metadata": {},
   "outputs": [
    {
     "name": "stdout",
     "output_type": "stream",
     "text": [
      "2.49927/0.03333: 8, 나이트크로우를 해외에서 플레이할 수 있나요?\n",
      "\t<em>현재 나이트크로우는 국내 서비스만을 지원하고 있습니다.</em> 그러므로<em> 해외에서 다운로드 및 플레이는 어려울 수 있는 점 양해 부탁드립니다.</em>\n",
      "2.48793/0.03252: 20, 상품 결제 중 오류가 발생했어요.\n",
      "\t결제 오류가 발생하는 대표적인 사례는 다음과 같습니다. 1. 연결된 네트워크/통신 환경이 불안정한 경우- 통신 환경이 원활한 곳에서 게임을 이용해주세요. ※ 다수의 인원이 모여있는 환경에서 Wi-fi를 이용하신다면 LTE 등의 데이터 환경으로 전환하여 진행해주시기 바랍니다. 2. 결제 수단으로 연결한 카드 정보가 비정상적으로 인식되는 경우- 등록된 카드가 아닌 다른 카드로의 등록 및 사용해주세요. 3. <em>해외 결제 신용카드가 아닌 경우- 안정적인 결제가 가능하도록 해외 결제가 가능한 신용카드로 등록 및 사용해주세요.</em> 4. 이용 한도가 초과되었을 경우- 카드 이용한도 증액을 요청하시거나 통신사의 결제 내용을 확인해주세요..\n",
      "1.88515/0.01149: 140, 나이트크로우에 접속할 수 없어요.\n",
      "\t나이트크로<em>우는 온라인 환경에서 이용할 수 있는 </em>멀티<em> 플랫폼 게임이므</em>로,네트워크 환경이 좋지 않을 경우 게임 이용이 불가하거나 끊기는 현상이 발생할 수 있습니다. 쾌적한 게임 이용을 위해 통신 상태가 원활한 곳에서 플레이 해주시기 바랍니다.\n",
      "1.75932/0.01538: 25, PC에서 문의/신고 글 등록이 되지 않아요.\n",
      "\tPC 환경에서<em> 인터넷 익스플로러(Internet Explorer) 브라우저를</em><em> 통하여 문의를 남겨주실 경우 정상적인 이용이 불가할 수 있습니다.</em> 이 경우<em> 구글 크롬(Chorme) 브라우저를 통하여 고객센터 문의 접수를 권장드립니다.</em>\n",
      "1.64447/0.01613: 18, 물약을 구매하였는데 사용할 수 없어요.\n",
      "\t나이트크로우의<em> 체력 회복 물약 사용에</em>는<em> 레벨 제한 조건이 </em>존재합니다.  ■<em> 물약 사용 레벨 제한 </em>1. 일반 생명력 물약 : 레벨 제한 없음 2. 고급 생명력 물약 : 레벨 제한 40 3. 상급 생명력 물약 : 레벨 제한 60.\n",
      "1.64128/0.02781: 60, 상품을 환불하고 싶어요.\n",
      "\t<em>결제하신 상품은</em><em> 구매일로</em>부터 7일<em> 이내 </em>상점 내<em> 상품 </em>보관함에서 수령하지 않은 상품에 한하여<em> 청약 철회가 </em>가능합니다.청약 철회를 위해서는 서버, 캐릭터명과 결제를 진행하신 스토어, 구매 일시, 주문번호를 포함하여 문의 접수를 부탁드립니다.※. <em>결제한 상품을 이미 수령/사용했거나 결제 즉시 적용되는 상품의</em> 경우,<em> 상품의 구매 취소 및 환불이 제한됩니다.</em> <em>[스토어별 결제 내역(영수증) 확인 방법 안내 바로가기]</em>.\n",
      "1.63277/0.01639: 93, 구글 연동 계정 로그인 시, \"Google에서 이 계정이 본인 계정이라는 것을 확인하지 못했습니다.\"라는 메시지와 함께 로그인이 불가합니다.\n",
      "\t해당<em> 메시지는</em><em> 구글 계정을 </em>여러<em> 기기에 로그인을 시도할 때 발생합니다.</em> <em>다음 링크를 통해 구글 측에 문의하시어 복구를 진행해주시기 바랍니다.</em> [구글 계정<em> 고객센터].</em>\n",
      "1.62568/0.02703: 14, 네트워크 오류로 이용 중 접속이 끊기는 현상이 발생합니다.\n",
      "\t이용 도중 네트워크 오류가 자주 발생한다면 이용 중인 단말기의 통신 상태를 확인해보시기 바랍니다.다수의 사람들이 모여 공용으로 사용하는 Wi-Fi 환경이거나 밀폐된 공간(지하철 등)에서는 정상적인 이용이 어려울 수 있습니다. <em>나이트크로우는 온라인 게임이</em>므로 가급<em>적 쾌적한</em><em> 네트워크 환경에서의 이용을</em><em> 권장</em><em>해 </em>드립니다.\n",
      "1.61753/0.01282: 22, PC버전에서 결제를 진행할 수는 없나요?\n",
      "\t나이트 크로우에서는<em> 구글 플레이를 통한 PC버전에서의 결제를 지원하</em>고 있습니다. 상세한<em> 결제 방법은</em> 아래 안내드리는 가이드 경로에서 확인하실 수 있습니다. <em>[PC 버전 결제 (구글</em>플레이<em>) 가이드 바로가기]</em>.\n",
      "1.60264/0.02744: 398796, 웹 상점 - 결제 취소는 되었지만, 결제 금액이 환불되지 않았어요.\n",
      "\t결제 수단인 카드사 혹은 결제사의 정책에 따라 최종<em> 결제 환불까</em>지 영업<em>일 </em>기준<em> 1~3일이</em> 소요될 수 있습니다.환불에 대한 더욱 자세한 안내를 원하실 경우, 결제에 사용된 카드사 또는 결제사의 고객센터로 문의해주시기 바랍니다.\n"
     ]
    }
   ],
   "source": [
    "azsch_rerank_query('해외에서도 사용한가요?')"
   ]
  },
  {
   "cell_type": "code",
   "execution_count": 17,
   "metadata": {},
   "outputs": [
    {
     "name": "stdout",
     "output_type": "stream",
     "text": [
      "2.47357/0.03333: 8, 나이트크로우를 해외에서 플레이할 수 있나요?\n",
      "\t<em>현재 나이트크로우는 국내 서비스만을 지원하고 있습니다.</em> 그러므로<em> 해외에서 다운로드 및 플레이는 어려울 수 있는 점 양해 부탁드립니다.</em>\n",
      "2.20843/0.03102: 20, 상품 결제 중 오류가 발생했어요.\n",
      "\t결제 오류가 발생하는 대표적인 사례는 다음과 같습니다. 1. 연결된 네트워크/통신 환경이 불안정한 경우- 통신 환경이 원활한 곳에서 게임을 이용해주세요. ※ 다수의 인원이 모여있는 환경에서 Wi-fi를 이용하신다면 LTE 등의 데이터 환경으로 전환하여 진행해주시기 바랍니다. 2. 결제 수단으로 연결한 카드 정보가 비정상적으로 인식되는 경우- 등록된 카드가 아닌 다른 카드로의 등록 및 사용해주세요. 3. <em>해외 결제 신용카드가 아닌 경우- 안정적인 결제가 가능하도록 해외 결제가 가능한 신용카드로 등록 및 사용해주세요.</em> 4. 이용 한도가 초과되었을 경우- 카드 이용한도 증액을 요청하시거나 통신사의 결제 내용을 확인해주세요..\n",
      "2.03775/0.02743: 140, 나이트크로우에 접속할 수 없어요.\n",
      "\t나이<em>트크</em>로<em>우는 온라인 환경에서 이용할 수 있는 </em>멀티<em> 플랫폼 게임이므</em>로,네트워크 환경이 좋지 않을 경우 게임 이용이 불가하거나 끊기는 현상이 발생할 수 있습니다. 쾌적한 게임 이용을 위해 통신 상태가 원활한 곳에서 플레이 해주시기 바랍니다.\n",
      "1.83429/0.02028: 72, 퀘스트 진행 시 순간이동 방법을 알고싶어요.\n",
      "\t<em>퀘스트 목적지로 순간이동을 </em>원하시면 화면 우측 상단의<em> 퀘스트 목록에</em>서<em> 순간이동 아이콘을 클릭하</em>시<em>거나,</em> [메뉴] -<em> [퀘스트]탭에</em>서<em> 자동 이동 및 순간 이동이 가능합니다.</em>\n",
      "1.79299/0.02963: 142, 나이트크로우 이용 중 강제 종료, 끊김, 지연 현상으로 이용이 어렵습니다.\n",
      "\t<em>나이트크로우의 게임 접속이 원활치 않다면 </em>아래 내용을 확인해주시길 바랍니다. 1. 실행 중인 앱을 모두 종료하여 메모리 공간을 확보해주세요. ＊작업 관리자 → 실행 중인 모든 애플리케이션 종료 2. 네트워크 상태를 확인해주세요. ＊다수의 사람들이 모여있는 장소 혹은 밀폐된 공간에서는 네트워크 접속이 원활하지 않습니다. ＊다수의 사람들이 사용하는 Wifi, 핫스팟을 사용하게 되면 연결 상태가 원활하지 않을 수 있습니다. 3. 나이트크로우 인게임 그래픽 설정을 확인해주세요. ＊[메뉴] &gt; [설정] &gt; [환경] &gt; [그래픽]에서 [텍스쳐 품질], [그림자 품질], [이펙트 품질], [안티 앨리어싱 품질].\n",
      "1.75967/0.01250: 135, PC 버전(웹 런처)은 어떻게 이용할 수 있나요?\n",
      "\t나이트 크로우 공식 커뮤니티에서<em> \"GAME START\" 버튼을</em><em> 눌러</em><em> PC용 웹 런처를 실행,</em> 설치하신 뒤 게임을<em> 이용하실 </em>수 있습니다. <em>PC버전의 설치 가이드는</em> 아래 링크를 참고 바랍니다.[나이트 크로우 설치 가이드 바로가기].\n",
      "1.73982/0.02830: 118, 게임을 탈퇴하고 싶어요.\n",
      "\t나이트크로우의 계정 탈퇴를 위해서는 먼저 게임<em> 내 접속이 </em>이루어져야 합니다.접속 후 [메뉴] &gt; [설정] &gt; [계정] 순으로 이동한 뒤, 최하단에 위치한 [게임탈퇴] 버튼을 눌러 진행하실 수 있습니다. ※ 게임 탈퇴는 72시간의 대기 시간이 적용됩니다. 72시간이 지나지 않은 상태에서 탈퇴 신청한 계정으로 재접속할 시에는 [게임 탈퇴 철회] 팝업창이 노출됩니다.※. 게임 탈퇴 대기 시간이 지난 후에는 게임 내 모든 정보가 삭제되며 복구가 불가능하오니 신중히 선택하시길 바랍니다.\n",
      "1.73592/0.02920: 141, 스토어에서 업데이트하라고 하지만 스토어에서는 업데이트되지 않아요.\n",
      "\t<em>나이트크로우의 게임 접속이 원활치 않다면</em> 아래 내용을 확인해주시길 바랍니다. 1. 실행 중인 앱을 모두 종료하여 메모리 공간을 확보해주세요. ＊작업 관리자 → 실행 중인 모든 애플리케이션 종료 2. 네트워크 상태를 확인해주세요. ＊다수의 사람들이 모여있는 장소 혹은 밀폐된 공간에서는 네트워크 접속이 원활하지 않습니다. ＊다수의 사람들이 사용하는 Wifi, 핫스팟을 사용하게 되면 연결 상태가 원활하지 않을 수 있습니다. 3. 나이트크로우 인게임 그래픽 설정을 확인해주세요. ＊[메뉴] &gt; [설정] &gt; [환경] &gt; [그래픽]에서 [텍스쳐 품질], [그림자 품질], [이펙트 품질], [안티 앨리어싱 품질].\n",
      "1.68594/0.01266: 136, 공식 커뮤니티에서 \"GAME START\" 버튼을 눌러도 반응이 없어요.\n",
      "\t공식 커뮤니티에서<em> \"GAME START\" 버튼을 눌러도 반응이 없는 경우,</em> 다음과 같은<em> 원인이 </em>있을 수<em> 있습니다.</em> 1. 네트워크 연결 상태를 확인해 주세요. 네트워크 연결 상태가 불안정하거나 연결되지 않은 경우, \"GAME START\" 버튼이 작동하지 않을 수 있습니다. 아울러, 원활한 게임 이용을 위해서는 무선(W... 2. PC 권장 사양을 확인해 주세요. <em>나이트 크로우의 PC 권장 사양에 충족되지 않을 경우, 게임 설치 및 실행이 제한될 수 있습니다.</em>아래 링크를 통해 PC 권장 사양을 확인하시고, PC 권장 사양을 충족하는 환경에서 게임을 이용해 주시기 바랍니다.[FAQ - PC 권장 사양을 알고 싶어요..\n",
      "1.68169/0.02881: 16, 계정 연동은 어떻게 하나요?\n",
      "\t나이트크로우에서는 게스트 계정 이용을 지원하지 않고 있기 때문에 최초 실행 시<em> 소셜 계정으로 연동하셔야 게임 이용이 가능합니다.</em> 덧붙여 게임에 연동할 수 있는<em> 소셜 계정은</em><em> 구글/애플/카카오 </em>총 3개 종류이며, 게임 내 [메뉴] &gt; [설정] &gt; [계정] 순으로<em> 이동해</em> 최초 연동한 소셜 계정만 이용할 수 있습니다. ※ 한 번 연동한 소셜 계정(구글/애플/카카오)은 시스템 상 해제가 불가능하오니, 소셜 계정 관리에 각별히 유의해주시기 바랍니다.\n"
     ]
    }
   ],
   "source": [
    "azsch_rerank_query('해외에서도 접속 가능한가요?')"
   ]
  },
  {
   "cell_type": "code",
   "execution_count": null,
   "metadata": {},
   "outputs": [],
   "source": []
  }
 ],
 "metadata": {
  "kernelspec": {
   "display_name": "aisearch",
   "language": "python",
   "name": "python3"
  },
  "language_info": {
   "codemirror_mode": {
    "name": "ipython",
    "version": 3
   },
   "file_extension": ".py",
   "mimetype": "text/x-python",
   "name": "python",
   "nbconvert_exporter": "python",
   "pygments_lexer": "ipython3",
   "version": "3.10.16"
  }
 },
 "nbformat": 4,
 "nbformat_minor": 2
}
