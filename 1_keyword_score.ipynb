{
 "cells": [
  {
   "cell_type": "markdown",
   "metadata": {},
   "source": [
    "## 1. Keyword/Text Search - scoring\n",
    "\n",
    "- custom score: https://learn.microsoft.com/en-us/azure/search/index-add-scoring-profiles\n",
    "- https://learn.microsoft.com/en-us/python/api/azure-search-documents/azure.search.documents.indexes.models.searchindex?view=azure-python"
   ]
  },
  {
   "cell_type": "code",
   "execution_count": 1,
   "metadata": {},
   "outputs": [
    {
     "data": {
      "text/plain": [
       "True"
      ]
     },
     "execution_count": 1,
     "metadata": {},
     "output_type": "execute_result"
    }
   ],
   "source": [
    "from dotenv import load_dotenv\n",
    "load_dotenv()"
   ]
  },
  {
   "cell_type": "code",
   "execution_count": 2,
   "metadata": {},
   "outputs": [],
   "source": [
    "from azure.core.credentials import AzureKeyCredential  \n",
    "from azure.search.documents import SearchClient  \n",
    "from azure.search.documents.indexes import SearchIndexClient  \n",
    "from azure.search.documents.indexes.models import (  \n",
    "    SearchIndex,  \n",
    "    SearchField,  \n",
    "    SearchFieldDataType,  \n",
    "    SimpleField,  \n",
    "    SearchableField,  \n",
    "    SearchIndex,  \n",
    "    SemanticConfiguration, \n",
    "    SemanticSearch,\n",
    "    SemanticPrioritizedFields,\n",
    "    SemanticField,\n",
    "    ScoringProfile,\n",
    "    TextWeights\n",
    ")"
   ]
  },
  {
   "cell_type": "code",
   "execution_count": 3,
   "metadata": {},
   "outputs": [
    {
     "name": "stdout",
     "output_type": "stream",
     "text": [
      "https://ikaisch.search.windows.net\n"
     ]
    }
   ],
   "source": [
    "import os\n",
    "service_endpoint = os.getenv(\"AZSCH_ENDPOINT\")  \n",
    "credential = AzureKeyCredential(os.environ[\"AZSCH_KEY\"])\n",
    "\n",
    "print(service_endpoint)"
   ]
  },
  {
   "cell_type": "code",
   "execution_count": 32,
   "metadata": {},
   "outputs": [],
   "source": [
    "# Create a search index\n",
    "def create_search_index(index_name):\n",
    "    index_client = SearchIndexClient(\n",
    "        endpoint=service_endpoint, credential=credential)\n",
    "    fields = [\n",
    "        SimpleField(name=\"id\", type=SearchFieldDataType.String, key=True),\n",
    "        SearchableField(name=\"proverb\", type=SearchFieldDataType.String,\n",
    "                        searchable=True, retrievable=True,\n",
    "                        analyzer_name=\"ko.microsoft\"),\n",
    "        SearchableField(name=\"meaning\", type=SearchFieldDataType.String,\n",
    "                        searchable=True, retrievable=True,\n",
    "                        analyzer_name=\"ko.microsoft\"),\n",
    "        SearchableField(name=\"source\", type=SearchFieldDataType.String,\n",
    "                        searchable=False, retrievable=True),\n",
    "        SearchableField(name=\"type\", type=SearchFieldDataType.String,\n",
    "                        searchable=False, retrievable=True) \n",
    "    ]\n",
    "\n",
    "    custom_scores = [\n",
    "        ScoringProfile(\n",
    "            name=\"custom-score1\",\n",
    "            text_weights=TextWeights(weights={\n",
    "                \"proverb\": 1,\n",
    "                \"meaning\": 9\n",
    "            })\n",
    "        ),\n",
    "        ScoringProfile(\n",
    "            name=\"custom-score2\",\n",
    "            text_weights=TextWeights(weights={\n",
    "                \"proverb\": 5,\n",
    "                \"meaning\": 5\n",
    "            })\n",
    "        )\n",
    "    ]\n",
    "\n",
    "    semantic_config = SemanticConfiguration(  \n",
    "        name=\"semantic-config\",  \n",
    "        prioritized_fields=SemanticPrioritizedFields(  \n",
    "            content_fields=[SemanticField(field_name=\"meaning\")]  \n",
    "        )\n",
    "    )\n",
    "\n",
    "    # Create the semantic search with the configuration  \n",
    "    semantic_search = SemanticSearch(configurations=[semantic_config]) \n",
    "\n",
    "    # Create the search index\n",
    "    index = SearchIndex(name=index_name, fields=fields,\n",
    "                        semantic_search=semantic_search,\n",
    "                        scoring_profiles=custom_scores,\n",
    "                        default_scoring_profile=\"custom-score1\")\n",
    "    result = index_client.create_or_update_index(index)\n",
    "    print(f' {result.name} created')"
   ]
  },
  {
   "cell_type": "code",
   "execution_count": 33,
   "metadata": {},
   "outputs": [
    {
     "name": "stdout",
     "output_type": "stream",
     "text": [
      " korproverb-score-index created\n"
     ]
    }
   ],
   "source": [
    "index_name = \"korproverb-score-index\"\n",
    "create_search_index(index_name)"
   ]
  },
  {
   "cell_type": "code",
   "execution_count": 6,
   "metadata": {},
   "outputs": [],
   "source": [
    "search_client = SearchClient(endpoint=service_endpoint, index_name=index_name, credential=credential)"
   ]
  },
  {
   "cell_type": "code",
   "execution_count": 7,
   "metadata": {},
   "outputs": [],
   "source": [
    "import pandas as pd\n",
    "from tqdm import tqdm"
   ]
  },
  {
   "cell_type": "code",
   "execution_count": 10,
   "metadata": {},
   "outputs": [
    {
     "data": {
      "text/html": [
       "<div>\n",
       "<style scoped>\n",
       "    .dataframe tbody tr th:only-of-type {\n",
       "        vertical-align: middle;\n",
       "    }\n",
       "\n",
       "    .dataframe tbody tr th {\n",
       "        vertical-align: top;\n",
       "    }\n",
       "\n",
       "    .dataframe thead th {\n",
       "        text-align: right;\n",
       "    }\n",
       "</style>\n",
       "<table border=\"1\" class=\"dataframe\">\n",
       "  <thead>\n",
       "    <tr style=\"text-align: right;\">\n",
       "      <th></th>\n",
       "      <th>Description</th>\n",
       "      <th>Meaning</th>\n",
       "      <th>Source</th>\n",
       "      <th>Type</th>\n",
       "    </tr>\n",
       "  </thead>\n",
       "  <tbody>\n",
       "    <tr>\n",
       "      <th>0</th>\n",
       "      <td>가갸 뒤 자〔뒷다리〕도 모른다</td>\n",
       "      <td>글자를 모르는 사람을 비유적으로 이르는 말.,사리에 어두운 사람을 놀림조로 이르는 말.</td>\n",
       "      <td>고려대 한국어대사전</td>\n",
       "      <td>속담</td>\n",
       "    </tr>\n",
       "    <tr>\n",
       "      <th>1</th>\n",
       "      <td>가까운 남이 먼 일가보다 낫다</td>\n",
       "      <td>이웃끼리 서로 친하게 지내다 보면 먼 곳에 있는 일가보다 더 친하게 되어 서로 도우...</td>\n",
       "      <td>표준국어대사전</td>\n",
       "      <td>속담</td>\n",
       "    </tr>\n",
       "    <tr>\n",
       "      <th>2</th>\n",
       "      <td>가까운 데 집은 깎이고 먼 데 절은 비친다</td>\n",
       "      <td>가까운 데 있는 절이나 집은 자잘한 흠도 잘 드러나서 좋지 않아 보이고 먼 곳에 윤...</td>\n",
       "      <td>표준국어대사전</td>\n",
       "      <td>속담</td>\n",
       "    </tr>\n",
       "    <tr>\n",
       "      <th>3</th>\n",
       "      <td>가까운 무당보다 먼 데 무당이 영하다</td>\n",
       "      <td>흔히 사람은 자신이 잘 알고 가까이 있는 것보다는 잘 모르고 멀리 있는 것을 더 좋...</td>\n",
       "      <td>표준국어대사전</td>\n",
       "      <td>속담</td>\n",
       "    </tr>\n",
       "    <tr>\n",
       "      <th>4</th>\n",
       "      <td>가까운 집 며느리일수록 흉이 많다</td>\n",
       "      <td>늘 가까이 있고 잘 아는 사이일수록 상대편의 결점이 눈에 더 많이 띈다는 말.</td>\n",
       "      <td>표준국어대사전</td>\n",
       "      <td>속담</td>\n",
       "    </tr>\n",
       "  </tbody>\n",
       "</table>\n",
       "</div>"
      ],
      "text/plain": [
       "               Description                                            Meaning  \\\n",
       "0         가갸 뒤 자〔뒷다리〕도 모른다   글자를 모르는 사람을 비유적으로 이르는 말.,사리에 어두운 사람을 놀림조로 이르는 말.   \n",
       "1         가까운 남이 먼 일가보다 낫다  이웃끼리 서로 친하게 지내다 보면 먼 곳에 있는 일가보다 더 친하게 되어 서로 도우...   \n",
       "2  가까운 데 집은 깎이고 먼 데 절은 비친다  가까운 데 있는 절이나 집은 자잘한 흠도 잘 드러나서 좋지 않아 보이고 먼 곳에 윤...   \n",
       "3     가까운 무당보다 먼 데 무당이 영하다  흔히 사람은 자신이 잘 알고 가까이 있는 것보다는 잘 모르고 멀리 있는 것을 더 좋...   \n",
       "4       가까운 집 며느리일수록 흉이 많다        늘 가까이 있고 잘 아는 사이일수록 상대편의 결점이 눈에 더 많이 띈다는 말.   \n",
       "\n",
       "       Source Type  \n",
       "0  고려대 한국어대사전   속담  \n",
       "1     표준국어대사전   속담  \n",
       "2     표준국어대사전   속담  \n",
       "3     표준국어대사전   속담  \n",
       "4     표준국어대사전   속담  "
      ]
     },
     "execution_count": 10,
     "metadata": {},
     "output_type": "execute_result"
    }
   ],
   "source": [
    "df = pd.read_csv('./source/idioms.csv')\n",
    "df.head()"
   ]
  },
  {
   "cell_type": "code",
   "execution_count": 11,
   "metadata": {},
   "outputs": [
    {
     "name": "stderr",
     "output_type": "stream",
     "text": [
      "100%|██████████| 164/164 [00:27<00:00,  6.05it/s]\n"
     ]
    }
   ],
   "source": [
    "count = 0\n",
    "batch_size = 40\n",
    "for i in tqdm(range(0, len(df), batch_size)):\n",
    "    # set end position of batch\n",
    "    i_end = min(i+batch_size, len(df))\n",
    "    \n",
    "    documents = df[i:i_end].apply(\n",
    "        lambda row: {'id': str(row.name), \n",
    "                     'proverb': row['Description'], \n",
    "                     'meaning': row['Meaning'],\n",
    "                     'source': row['Source'],\n",
    "                     'type': str(row['Type'])\n",
    "                    }, axis=1).to_list()\n",
    "    \n",
    "    result = search_client.upload_documents(documents)  "
   ]
  },
  {
   "cell_type": "markdown",
   "metadata": {},
   "source": [
    "### Semantic rerank\n",
    "\n",
    "combination of `title(description)` text + `meaning` text search result"
   ]
  },
  {
   "cell_type": "code",
   "execution_count": 12,
   "metadata": {},
   "outputs": [],
   "source": [
    "from azure.search.documents.models import (\n",
    "    QueryType,\n",
    "    QueryCaptionType,\n",
    "    QueryAnswerType)"
   ]
  },
  {
   "cell_type": "code",
   "execution_count": 44,
   "metadata": {},
   "outputs": [],
   "source": [
    "def azsch_rerank_query(query, scoring_profile=\"custom-score1\"):\n",
    "    results = search_client.search(  \n",
    "        search_text=query,\n",
    "        select=[\"proverb\", \"meaning\", \"source\", \"type\"],\n",
    "        query_type=QueryType.SEMANTIC,\n",
    "        semantic_configuration_name='semantic-config',\n",
    "        #query_caption=QueryCaptionType.EXTRACTIVE,\n",
    "        #query_answer=QueryAnswerType.EXTRACTIVE,\n",
    "        scoring_profile=scoring_profile,\n",
    "        query_language=\"ko-kr\",\n",
    "        top=10 # for limiting text search\n",
    "    ) \n",
    "\n",
    "    for result in results:  \n",
    "        print(f\"{result['@search.reranker_score']:.5f}/{result['@search.score']:.5f}: {result['proverb']} - {result['meaning']}, {result['source']}\")   \n",
    " \n",
    "def azsch_textscore_query(query, scoring_profile=\"custom-score1\"):\n",
    "    results = search_client.search(  \n",
    "        search_text=query,\n",
    "        select=[\"proverb\", \"meaning\", \"source\", \"type\"],\n",
    "        scoring_profile=scoring_profile,\n",
    "        query_language=\"ko-kr\",\n",
    "        top=10 # for limiting text search\n",
    "    ) \n",
    "\n",
    "    for result in results:  \n",
    "        print(f\"{result['@search.score']:.5f}: {result['proverb']} - {result['meaning']}, {result['source']}\")  \n"
   ]
  },
  {
   "cell_type": "code",
   "execution_count": 39,
   "metadata": {},
   "outputs": [
    {
     "name": "stdout",
     "output_type": "stream",
     "text": [
      "2.47481/38.23729: 소같이 벌어서 쥐같이 먹어라 - 소같이 꾸준하고 힘써 일하여 많이 벌어서는 쥐같이 조금씩 먹으라는 뜻으로, 일은 열심히 하여서 돈은 많이 벌고 생활은 아껴서 검소하게 하라는 말., 표준국어대사전\n",
      "2.46595/111.33922: 십 년 적공이면 한 가지 성공을 한다 - 무슨 일이든지 오랫동안 꾸준히 노력하면 마침내는 성공하게 됨을 이르는 말., 우리말샘\n",
      "2.45425/55.11280: 골나면 보리방아 더 잘 찧는다〔찧듯 한다〕 - 골나면 화가 치밀어 올라 그것을 해소하느라고 오히려 일을 더 힘차고 열심히 하게 된다는 말., 고려대 한국어대사전\n",
      "2.43440/130.47287: 누구는 날 때부터 안다더냐 - 사람이면 누구나 똑같으므로 열심히 노력하면 배울 수 있다는 말., 고려대 한국어대사전\n",
      "2.41703/38.23729: 가는 말에 채찍질 - 열심히 하고 있는데도 더 빨리하라고 독촉함을 비유적으로 이르는 말.,형편이나 힘이 한창 좋을 때라도 더욱 마음을 써서 힘써야 함을 비유적으로 이르는 말., 표준국어대사전\n",
      "2.39293/52.40345: 깊은 물이라야 큰 고기가 논다 - 깊은 물에 큰 고기가 놀듯이 포부가 큰 사람이라야 큰일을 이루고 성공을 하게 된다는 말., 고려대 한국어대사전\n",
      "2.39080/50.00365: 구르는 돌은 이끼가 안 낀다 - 부지런하고 꾸준히 노력하는 사람은 침체되지 않고 계속 발전한다는 말., 표준국어대사전\n",
      "2.36971/60.38869: 쥐도 한몫 보면 락이 있다 - 한길로 전심전력하면 성공할 때가 있음을 비유적으로 이르는 말., 표준국어대사전\n",
      "2.36191/37.57111: 굼벵이도 제 일 하려면 한 길은 판다 - 미련한 사람이나 하찮은 미물이라도 제가 필요하면 얼마든지 나름대로 노력을 하게 된다는 말. (=굼벵이도 제 일 하는 날은 열 번 재주를 넘는다.), 고려대 한국어대사전\n",
      "2.35518/64.21277: 피땀 흘리다 - 온갖 힘과 정성을 쏟아 노력하다., 표준국어대사전\n"
     ]
    }
   ],
   "source": [
    "azsch_rerank_query('열심히 노력하면 성공한다', scoring_profile=\"custom-score1\")"
   ]
  },
  {
   "cell_type": "code",
   "execution_count": 40,
   "metadata": {},
   "outputs": [
    {
     "name": "stdout",
     "output_type": "stream",
     "text": [
      "2.47481/21.24294: 소같이 벌어서 쥐같이 먹어라 - 소같이 꾸준하고 힘써 일하여 많이 벌어서는 쥐같이 조금씩 먹으라는 뜻으로, 일은 열심히 하여서 돈은 많이 벌고 생활은 아껴서 검소하게 하라는 말., 표준국어대사전\n",
      "2.46595/86.46639: 십 년 적공이면 한 가지 성공을 한다 - 무슨 일이든지 오랫동안 꾸준히 노력하면 마침내는 성공하게 됨을 이르는 말., 우리말샘\n",
      "2.45425/30.61822: 골나면 보리방아 더 잘 찧는다〔찧듯 한다〕 - 골나면 화가 치밀어 올라 그것을 해소하느라고 오히려 일을 더 힘차고 열심히 하게 된다는 말., 고려대 한국어대사전\n",
      "2.43440/72.48492: 누구는 날 때부터 안다더냐 - 사람이면 누구나 똑같으므로 열심히 노력하면 배울 수 있다는 말., 고려대 한국어대사전\n",
      "2.41703/21.24294: 가는 말에 채찍질 - 열심히 하고 있는데도 더 빨리하라고 독촉함을 비유적으로 이르는 말.,형편이나 힘이 한창 좋을 때라도 더욱 마음을 써서 힘써야 함을 비유적으로 이르는 말., 표준국어대사전\n",
      "2.39293/29.11303: 깊은 물이라야 큰 고기가 논다 - 깊은 물에 큰 고기가 놀듯이 포부가 큰 사람이라야 큰일을 이루고 성공을 하게 된다는 말., 고려대 한국어대사전\n",
      "2.39080/27.77980: 구르는 돌은 이끼가 안 낀다 - 부지런하고 꾸준히 노력하는 사람은 침체되지 않고 계속 발전한다는 말., 표준국어대사전\n",
      "2.36971/33.54927: 쥐도 한몫 보면 락이 있다 - 한길로 전심전력하면 성공할 때가 있음을 비유적으로 이르는 말., 표준국어대사전\n",
      "2.36191/20.87283: 굼벵이도 제 일 하려면 한 길은 판다 - 미련한 사람이나 하찮은 미물이라도 제가 필요하면 얼마든지 나름대로 노력을 하게 된다는 말. (=굼벵이도 제 일 하는 날은 열 번 재주를 넘는다.), 고려대 한국어대사전\n",
      "2.35518/35.67376: 피땀 흘리다 - 온갖 힘과 정성을 쏟아 노력하다., 표준국어대사전\n"
     ]
    }
   ],
   "source": [
    "azsch_rerank_query('열심히 노력하면 성공한다', scoring_profile=\"custom-score2\")"
   ]
  },
  {
   "cell_type": "code",
   "execution_count": 45,
   "metadata": {},
   "outputs": [
    {
     "name": "stdout",
     "output_type": "stream",
     "text": [
      "130.47287: 누구는 날 때부터 안다더냐 - 사람이면 누구나 똑같으므로 열심히 노력하면 배울 수 있다는 말., 고려대 한국어대사전\n",
      "111.33922: 십 년 적공이면 한 가지 성공을 한다 - 무슨 일이든지 오랫동안 꾸준히 노력하면 마침내는 성공하게 됨을 이르는 말., 우리말샘\n",
      "71.23980: 몸부림 치다 - (사람이) 온갖 노력을 다하다., 고려대 한국어대사전\n",
      "69.54827: 둔한 말이 열 수레를 끈다 - 미련하고 둔한 사람이라 하더라도 쉬지 않고 노력하면 큰일을 할 수 있다는 말., 고려대 한국어대사전\n",
      "68.10518: 눈과 귀가 쏠리다 - 마음이 끌리어 열심히 듣거나 보다., 표준국어대사전\n",
      "64.21277: 피땀 흘리다 - 온갖 힘과 정성을 쏟아 노력하다., 표준국어대사전\n",
      "63.26539: 절뚝발이 말이 천리 간다 - 누구나 꾸준히 노력하면 무슨 일이든 이룰 수 있다는 말. (=둔한 말도 열흘 가면 천리를 간다.), 고려대 한국어대사전\n",
      "60.83084: 소매가 길면 춤을 잘 추고 돈이 많으면 장사를 잘한다 - 수단이나 밑천이 든든하면 성공하기 쉽다는 말., 표준국어대사전\n",
      "60.71473: 힘을 돌리다 - 어떤 일을 이루려고 거기에 노력을 들이다., 표준국어대사전\n",
      "60.38869: 쥐도 한몫 보면 락이 있다 - 한길로 전심전력하면 성공할 때가 있음을 비유적으로 이르는 말., 표준국어대사전\n"
     ]
    }
   ],
   "source": [
    "azsch_textscore_query('열심히 노력하면 성공한다', scoring_profile=\"custom-score1\")"
   ]
  },
  {
   "cell_type": "code",
   "execution_count": 46,
   "metadata": {},
   "outputs": [
    {
     "name": "stdout",
     "output_type": "stream",
     "text": [
      "86.46639: 십 년 적공이면 한 가지 성공을 한다 - 무슨 일이든지 오랫동안 꾸준히 노력하면 마침내는 성공하게 됨을 이르는 말., 우리말샘\n",
      "72.48492: 누구는 날 때부터 안다더냐 - 사람이면 누구나 똑같으므로 열심히 노력하면 배울 수 있다는 말., 고려대 한국어대사전\n",
      "39.57767: 몸부림 치다 - (사람이) 온갖 노력을 다하다., 고려대 한국어대사전\n",
      "38.63793: 둔한 말이 열 수레를 끈다 - 미련하고 둔한 사람이라 하더라도 쉬지 않고 노력하면 큰일을 할 수 있다는 말., 고려대 한국어대사전\n",
      "37.83621: 눈과 귀가 쏠리다 - 마음이 끌리어 열심히 듣거나 보다., 표준국어대사전\n",
      "35.67376: 피땀 흘리다 - 온갖 힘과 정성을 쏟아 노력하다., 표준국어대사전\n",
      "35.14744: 절뚝발이 말이 천리 간다 - 누구나 꾸준히 노력하면 무슨 일이든 이룰 수 있다는 말. (=둔한 말도 열흘 가면 천리를 간다.), 고려대 한국어대사전\n",
      "33.79491: 소매가 길면 춤을 잘 추고 돈이 많으면 장사를 잘한다 - 수단이나 밑천이 든든하면 성공하기 쉽다는 말., 표준국어대사전\n",
      "33.73040: 힘을 돌리다 - 어떤 일을 이루려고 거기에 노력을 들이다., 표준국어대사전\n",
      "33.54927: 쥐도 한몫 보면 락이 있다 - 한길로 전심전력하면 성공할 때가 있음을 비유적으로 이르는 말., 표준국어대사전\n"
     ]
    }
   ],
   "source": [
    "azsch_textscore_query('열심히 노력하면 성공한다', scoring_profile=\"custom-score2\")"
   ]
  },
  {
   "cell_type": "code",
   "execution_count": null,
   "metadata": {},
   "outputs": [],
   "source": []
  }
 ],
 "metadata": {
  "kernelspec": {
   "display_name": "aisearch",
   "language": "python",
   "name": "python3"
  },
  "language_info": {
   "codemirror_mode": {
    "name": "ipython",
    "version": 3
   },
   "file_extension": ".py",
   "mimetype": "text/x-python",
   "name": "python",
   "nbconvert_exporter": "python",
   "pygments_lexer": "ipython3",
   "version": "3.10.16"
  }
 },
 "nbformat": 4,
 "nbformat_minor": 2
}
