{
 "cells": [
  {
   "cell_type": "markdown",
   "metadata": {},
   "source": [
    "## 1. Keyword/Text search - Default(Standard) Analyzer\n",
    "\n",
    "- SDK doc: https://learn.microsoft.com/en-us/python/api/azure-search-documents/azure.search.documents.searchclient?view=azure-python"
   ]
  },
  {
   "cell_type": "code",
   "execution_count": 1,
   "metadata": {},
   "outputs": [
    {
     "data": {
      "text/plain": [
       "True"
      ]
     },
     "execution_count": 1,
     "metadata": {},
     "output_type": "execute_result"
    }
   ],
   "source": [
    "from dotenv import load_dotenv\n",
    "load_dotenv()"
   ]
  },
  {
   "cell_type": "code",
   "execution_count": 2,
   "metadata": {},
   "outputs": [],
   "source": [
    "from azure.core.credentials import AzureKeyCredential  \n",
    "from azure.search.documents import SearchClient  \n",
    "from azure.search.documents.indexes import SearchIndexClient  \n",
    "from azure.search.documents.indexes.models import (  \n",
    "    SearchIndex,  \n",
    "    SearchField,  \n",
    "    SearchFieldDataType,  \n",
    "    SimpleField,  \n",
    "    SearchableField,  \n",
    "    SearchIndex,  \n",
    ")"
   ]
  },
  {
   "cell_type": "code",
   "execution_count": 3,
   "metadata": {},
   "outputs": [
    {
     "name": "stdout",
     "output_type": "stream",
     "text": [
      "https://ikaisch.search.windows.net\n"
     ]
    }
   ],
   "source": [
    "import os\n",
    "service_endpoint = os.getenv(\"AZSCH_ENDPOINT\")  \n",
    "credential = AzureKeyCredential(os.environ[\"AZSCH_KEY\"])\n",
    "\n",
    "print(service_endpoint)"
   ]
  },
  {
   "cell_type": "code",
   "execution_count": 4,
   "metadata": {},
   "outputs": [],
   "source": [
    "# Create a search index\n",
    "def create_search_index(index_name):\n",
    "    index_client = SearchIndexClient(\n",
    "        endpoint=service_endpoint, credential=credential)\n",
    "    fields = [\n",
    "        SimpleField(name=\"id\", type=SearchFieldDataType.String, key=True),\n",
    "        SearchableField(name=\"proverb\", type=SearchFieldDataType.String,\n",
    "                        searchable=True, retrievable=True),\n",
    "        SearchableField(name=\"meaning\", type=SearchFieldDataType.String,\n",
    "                        searchable=True, retrievable=True),\n",
    "        SearchableField(name=\"source\", type=SearchFieldDataType.String,\n",
    "                        searchable=False, retrievable=True),\n",
    "        SearchableField(name=\"type\", type=SearchFieldDataType.String,\n",
    "                        searchable=False, retrievable=True),\n",
    "    ]\n",
    "\n",
    "    # Create the search index\n",
    "    index = SearchIndex(name=index_name, fields=fields)\n",
    "    result = index_client.create_or_update_index(index)\n",
    "    print(f' {result.name} created')"
   ]
  },
  {
   "cell_type": "code",
   "execution_count": 5,
   "metadata": {},
   "outputs": [
    {
     "name": "stdout",
     "output_type": "stream",
     "text": [
      " korproverb-keywordstd-index created\n"
     ]
    }
   ],
   "source": [
    "index_name = \"korproverb-keywordstd-index\"\n",
    "create_search_index(index_name)"
   ]
  },
  {
   "cell_type": "code",
   "execution_count": 6,
   "metadata": {},
   "outputs": [],
   "source": [
    "search_client = SearchClient(endpoint=service_endpoint, index_name=index_name, credential=credential)"
   ]
  },
  {
   "cell_type": "code",
   "execution_count": 7,
   "metadata": {},
   "outputs": [],
   "source": [
    "import pandas as pd\n",
    "from tqdm import tqdm"
   ]
  },
  {
   "cell_type": "code",
   "execution_count": 8,
   "metadata": {},
   "outputs": [
    {
     "data": {
      "text/html": [
       "<div>\n",
       "<style scoped>\n",
       "    .dataframe tbody tr th:only-of-type {\n",
       "        vertical-align: middle;\n",
       "    }\n",
       "\n",
       "    .dataframe tbody tr th {\n",
       "        vertical-align: top;\n",
       "    }\n",
       "\n",
       "    .dataframe thead th {\n",
       "        text-align: right;\n",
       "    }\n",
       "</style>\n",
       "<table border=\"1\" class=\"dataframe\">\n",
       "  <thead>\n",
       "    <tr style=\"text-align: right;\">\n",
       "      <th></th>\n",
       "      <th>Description</th>\n",
       "      <th>Meaning</th>\n",
       "      <th>Source</th>\n",
       "      <th>Type</th>\n",
       "    </tr>\n",
       "  </thead>\n",
       "  <tbody>\n",
       "    <tr>\n",
       "      <th>0</th>\n",
       "      <td>가갸 뒤 자〔뒷다리〕도 모른다</td>\n",
       "      <td>글자를 모르는 사람을 비유적으로 이르는 말.,사리에 어두운 사람을 놀림조로 이르는 말.</td>\n",
       "      <td>고려대 한국어대사전</td>\n",
       "      <td>속담</td>\n",
       "    </tr>\n",
       "    <tr>\n",
       "      <th>1</th>\n",
       "      <td>가까운 남이 먼 일가보다 낫다</td>\n",
       "      <td>이웃끼리 서로 친하게 지내다 보면 먼 곳에 있는 일가보다 더 친하게 되어 서로 도우...</td>\n",
       "      <td>표준국어대사전</td>\n",
       "      <td>속담</td>\n",
       "    </tr>\n",
       "    <tr>\n",
       "      <th>2</th>\n",
       "      <td>가까운 데 집은 깎이고 먼 데 절은 비친다</td>\n",
       "      <td>가까운 데 있는 절이나 집은 자잘한 흠도 잘 드러나서 좋지 않아 보이고 먼 곳에 윤...</td>\n",
       "      <td>표준국어대사전</td>\n",
       "      <td>속담</td>\n",
       "    </tr>\n",
       "    <tr>\n",
       "      <th>3</th>\n",
       "      <td>가까운 무당보다 먼 데 무당이 영하다</td>\n",
       "      <td>흔히 사람은 자신이 잘 알고 가까이 있는 것보다는 잘 모르고 멀리 있는 것을 더 좋...</td>\n",
       "      <td>표준국어대사전</td>\n",
       "      <td>속담</td>\n",
       "    </tr>\n",
       "    <tr>\n",
       "      <th>4</th>\n",
       "      <td>가까운 집 며느리일수록 흉이 많다</td>\n",
       "      <td>늘 가까이 있고 잘 아는 사이일수록 상대편의 결점이 눈에 더 많이 띈다는 말.</td>\n",
       "      <td>표준국어대사전</td>\n",
       "      <td>속담</td>\n",
       "    </tr>\n",
       "  </tbody>\n",
       "</table>\n",
       "</div>"
      ],
      "text/plain": [
       "               Description                                            Meaning  \\\n",
       "0         가갸 뒤 자〔뒷다리〕도 모른다   글자를 모르는 사람을 비유적으로 이르는 말.,사리에 어두운 사람을 놀림조로 이르는 말.   \n",
       "1         가까운 남이 먼 일가보다 낫다  이웃끼리 서로 친하게 지내다 보면 먼 곳에 있는 일가보다 더 친하게 되어 서로 도우...   \n",
       "2  가까운 데 집은 깎이고 먼 데 절은 비친다  가까운 데 있는 절이나 집은 자잘한 흠도 잘 드러나서 좋지 않아 보이고 먼 곳에 윤...   \n",
       "3     가까운 무당보다 먼 데 무당이 영하다  흔히 사람은 자신이 잘 알고 가까이 있는 것보다는 잘 모르고 멀리 있는 것을 더 좋...   \n",
       "4       가까운 집 며느리일수록 흉이 많다        늘 가까이 있고 잘 아는 사이일수록 상대편의 결점이 눈에 더 많이 띈다는 말.   \n",
       "\n",
       "       Source Type  \n",
       "0  고려대 한국어대사전   속담  \n",
       "1     표준국어대사전   속담  \n",
       "2     표준국어대사전   속담  \n",
       "3     표준국어대사전   속담  \n",
       "4     표준국어대사전   속담  "
      ]
     },
     "execution_count": 8,
     "metadata": {},
     "output_type": "execute_result"
    }
   ],
   "source": [
    "df = pd.read_csv('./source/idioms.csv')\n",
    "df.head()"
   ]
  },
  {
   "cell_type": "code",
   "execution_count": 9,
   "metadata": {},
   "outputs": [
    {
     "name": "stderr",
     "output_type": "stream",
     "text": [
      "  0%|          | 0/164 [00:00<?, ?it/s]"
     ]
    },
    {
     "name": "stderr",
     "output_type": "stream",
     "text": [
      "100%|██████████| 164/164 [00:26<00:00,  6.13it/s]\n"
     ]
    }
   ],
   "source": [
    "count = 0\n",
    "batch_size = 40\n",
    "for i in tqdm(range(0, len(df), batch_size)):\n",
    "    # set end position of batch\n",
    "    i_end = min(i+batch_size, len(df))\n",
    "    \n",
    "    documents = df[i:i_end].apply(\n",
    "        lambda row: {'id': str(row.name), \n",
    "                     'proverb': row['Description'], \n",
    "                     'meaning': row['Meaning'],\n",
    "                     'source': row['Source'],\n",
    "                     'type': str(row['Type'])\n",
    "                    }, axis=1).to_list()\n",
    "    \n",
    "    result = search_client.upload_documents(documents)  "
   ]
  },
  {
   "cell_type": "code",
   "execution_count": 10,
   "metadata": {},
   "outputs": [],
   "source": [
    "from azure.search.documents.models import (\n",
    "    QueryType,\n",
    "    SearchMode\n",
    ")\n",
    "\n",
    "import json\n",
    "\n",
    "def azsch_text_query(query, type=QueryType.Simple, mode=SearchMode.Any):\n",
    "\n",
    "    results = search_client.search(  \n",
    "        search_text=query,\n",
    "        query_type=type,\n",
    "        search_mode=mode,\n",
    "        search_fields=[\"meaning\"],\n",
    "        select=[\"proverb\", \"meaning\", \"source\", \"type\"],\n",
    "        query_language=\"ko-kr\",\n",
    "        top=10 # for limiting text search\n",
    "    ) \n",
    "    \n",
    "    print(\"Search Results:\")\n",
    "    for i, result in enumerate(results, 1): \n",
    "        print(f\"{i}: {result['@search.score']:.10f}: {result['proverb']} - {result['meaning']}, {result['type']}\")  \n"
   ]
  },
  {
   "cell_type": "markdown",
   "metadata": {},
   "source": [
    "## Basic search issues with Standard Analyzer"
   ]
  },
  {
   "cell_type": "code",
   "execution_count": 13,
   "metadata": {},
   "outputs": [
    {
     "name": "stdout",
     "output_type": "stream",
     "text": [
      "Search Results:\n",
      "1: 6.2826767000: 힘을 넣다 - 어떤 일을 이루려고 시간, 노력, 자금 따위를 투입하다., 관용구\n",
      "2: 3.9428840000: 소불알 떨어지면 구워 먹겠다고 소금 가지고 따라다닌다 - 노력은 안 하고 산 소의 불알이 저절로 떨어지기를 마냥 기다리기만 한다는 뜻으로, 노력 없이 요행만 바라는 헛된 짓을 비유적으로 이르는 말., 속담\n"
     ]
    }
   ],
   "source": [
    "# Expected search results include '노력', '노력을', '노력하면', ...\n",
    "results = azsch_text_query('노력')"
   ]
  },
  {
   "cell_type": "code",
   "execution_count": 14,
   "metadata": {},
   "outputs": [
    {
     "name": "stdout",
     "output_type": "stream",
     "text": [
      "Search Results:\n",
      "1: 1.0000000000: 굴을 파야 금을 얻는다 - 목적을 이루기 위하여서는 거기에 필요한 조건을 갖추거나 노력을 하여야 함을 교훈적으로 이르는 말., 속담\n",
      "2: 1.0000000000: 절뚝발이 말이 천리 간다 - 누구나 꾸준히 노력하면 무슨 일이든 이룰 수 있다는 말. (=둔한 말도 열흘 가면 천리를 간다.), 속담\n",
      "3: 1.0000000000: 옥도 갈아야 빛이 난다 - 아무리 소질이 좋아도 이것을 잘 닦고 기르지 아니하면 훌륭한 것이 되지 못한다는 말.,고생을 겪으며 노력을 기울여야 뜻한 바를 이룰 수 있다는 말., 속담\n",
      "4: 1.0000000000: 산에 가야 범을 잡는다 - 어떤 일을 이루기 위한 방향을 제대로 잡고 노력하여야만 그 일을 이룰 수 있음을 비유적으로 이르는 말.,무슨 일을 하려면 발 벗고 나서서 실제로 힘들여 해야 함을 비유적으로 이르는 말. (=산에 가야 꿩..., 속담\n",
      "5: 1.0000000000: 옥도 갈아야〔닦아야〕 빛이 난다 - 아무리 소질이 좋아도 그것을 잘 수양하지 않으면 훌륭해질 수 없음을 이르는 말.,고생을 겪으면서 노력해야 뜻한 바를 이룰 수 있다는 말., 속담\n",
      "6: 1.0000000000: 옥석도 닦아야 빛이 난다 - 아무리 소질이 좋아도 이것을 잘 닦고 기르지 아니하면 훌륭한 것이 되지 못한다는 말.,고생을 겪으며 노력을 기울여야 뜻한 바를 이룰 수 있다는 말., 속담\n",
      "7: 1.0000000000: 빈손 털다 - (사람이) 들인 노력이 헛일이 되어 아무 소득이 없다.,(사람이) 가지고 있던 것을 몽땅 털다., 관용구\n",
      "8: 1.0000000000: 쌀 한 알 보고 뜨물 한 동이 마신다 - 적은 이익을 위하여 노력이나 경비가 지나치게 많이 들어감을 비유적으로 이르는 말., 속담\n",
      "9: 1.0000000000: 하늘에서  떨어지다 - (어떠한 성과가) 별로 노력을 들이지 않았는데 저절로 얻어지다., 관용구\n",
      "10: 1.0000000000: 하늘을 보아야 별을 따지 - 어떤 성과를 거두려면 그에 상당한 노력과 준비가 있어야 한다는 말.,무슨 일이 이루어질 기회나 조건이 전혀 없음을 이르는 말., 속담\n"
     ]
    }
   ],
   "source": [
    "azsch_text_query('노력*')"
   ]
  },
  {
   "cell_type": "code",
   "execution_count": 16,
   "metadata": {},
   "outputs": [
    {
     "name": "stdout",
     "output_type": "stream",
     "text": [
      "Search Results:\n"
     ]
    }
   ],
   "source": [
    "azsch_text_query('+노력 +준비')"
   ]
  },
  {
   "cell_type": "code",
   "execution_count": 17,
   "metadata": {},
   "outputs": [
    {
     "name": "stdout",
     "output_type": "stream",
     "text": [
      "Search Results:\n",
      "1: 2.0000000000: 하늘을 보아야 별을 따지 - 어떤 성과를 거두려면 그에 상당한 노력과 준비가 있어야 한다는 말.,무슨 일이 이루어질 기회나 조건이 전혀 없음을 이르는 말., 속담\n",
      "2: 2.0000000000: 잠을 자야 꿈을 꾸지 - 어떤 성과를 거두려면 그에 상당한 노력과 준비가 있어야 한다는 말.,원인 없이 결과를 바랄 수 없음을 이르는 말., 속담\n",
      "3: 2.0000000000: 새도 날려면 움츠린다 - 무슨 일이든 사전에 준비할 틈과 노력이 필요하다는 말. (=개구리도 옴쳐야 뛴다.), 속담\n",
      "4: 2.0000000000: 눈을 떠야 별을 보지 - 어떤 성과를 거두려면 그에 상당한 노력과 준비가 있어야 한다는 말., 속담\n"
     ]
    }
   ],
   "source": [
    "azsch_text_query('+노력* +준비*')"
   ]
  },
  {
   "cell_type": "code",
   "execution_count": 18,
   "metadata": {},
   "outputs": [
    {
     "name": "stdout",
     "output_type": "stream",
     "text": [
      "Search Results:\n",
      "1: 2.0000000000: 굴을 파야 금을 얻는다 - 목적을 이루기 위하여서는 거기에 필요한 조건을 갖추거나 노력을 하여야 함을 교훈적으로 이르는 말., 속담\n",
      "2: 2.0000000000: 절뚝발이 말이 천리 간다 - 누구나 꾸준히 노력하면 무슨 일이든 이룰 수 있다는 말. (=둔한 말도 열흘 가면 천리를 간다.), 속담\n",
      "3: 2.0000000000: 옥도 갈아야 빛이 난다 - 아무리 소질이 좋아도 이것을 잘 닦고 기르지 아니하면 훌륭한 것이 되지 못한다는 말.,고생을 겪으며 노력을 기울여야 뜻한 바를 이룰 수 있다는 말., 속담\n",
      "4: 2.0000000000: 산에 가야 범을 잡는다 - 어떤 일을 이루기 위한 방향을 제대로 잡고 노력하여야만 그 일을 이룰 수 있음을 비유적으로 이르는 말.,무슨 일을 하려면 발 벗고 나서서 실제로 힘들여 해야 함을 비유적으로 이르는 말. (=산에 가야 꿩..., 속담\n",
      "5: 2.0000000000: 옥도 갈아야〔닦아야〕 빛이 난다 - 아무리 소질이 좋아도 그것을 잘 수양하지 않으면 훌륭해질 수 없음을 이르는 말.,고생을 겪으면서 노력해야 뜻한 바를 이룰 수 있다는 말., 속담\n",
      "6: 2.0000000000: 옥석도 닦아야 빛이 난다 - 아무리 소질이 좋아도 이것을 잘 닦고 기르지 아니하면 훌륭한 것이 되지 못한다는 말.,고생을 겪으며 노력을 기울여야 뜻한 바를 이룰 수 있다는 말., 속담\n",
      "7: 2.0000000000: 빈손 털다 - (사람이) 들인 노력이 헛일이 되어 아무 소득이 없다.,(사람이) 가지고 있던 것을 몽땅 털다., 관용구\n",
      "8: 2.0000000000: 쌀 한 알 보고 뜨물 한 동이 마신다 - 적은 이익을 위하여 노력이나 경비가 지나치게 많이 들어감을 비유적으로 이르는 말., 속담\n",
      "9: 2.0000000000: 하늘에서  떨어지다 - (어떠한 성과가) 별로 노력을 들이지 않았는데 저절로 얻어지다., 관용구\n",
      "10: 2.0000000000: 겉보리 한 말 주고 푸닥거리하기보다 낫다 - 들인 노력에 비하여 결과가 만족스럽다는 것을 비유적으로 이르는 말., 속담\n"
     ]
    }
   ],
   "source": [
    "azsch_text_query('+노력* -준비*')"
   ]
  },
  {
   "cell_type": "code",
   "execution_count": null,
   "metadata": {},
   "outputs": [],
   "source": []
  }
 ],
 "metadata": {
  "kernelspec": {
   "display_name": "aisearch",
   "language": "python",
   "name": "python3"
  },
  "language_info": {
   "codemirror_mode": {
    "name": "ipython",
    "version": 3
   },
   "file_extension": ".py",
   "mimetype": "text/x-python",
   "name": "python",
   "nbconvert_exporter": "python",
   "pygments_lexer": "ipython3",
   "version": "3.10.16"
  }
 },
 "nbformat": 4,
 "nbformat_minor": 2
}
