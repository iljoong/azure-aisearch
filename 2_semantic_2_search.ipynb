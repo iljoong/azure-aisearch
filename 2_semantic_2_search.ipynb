{
 "cells": [
  {
   "cell_type": "markdown",
   "metadata": {},
   "source": [
    "## 2. Semantic Search - ingest/search"
   ]
  },
  {
   "cell_type": "code",
   "execution_count": 1,
   "metadata": {},
   "outputs": [
    {
     "data": {
      "text/plain": [
       "True"
      ]
     },
     "execution_count": 1,
     "metadata": {},
     "output_type": "execute_result"
    }
   ],
   "source": [
    "from dotenv import load_dotenv\n",
    "load_dotenv()"
   ]
  },
  {
   "cell_type": "code",
   "execution_count": 2,
   "metadata": {},
   "outputs": [],
   "source": [
    "from azure.core.credentials import AzureKeyCredential  \n",
    "from azure.search.documents import SearchClient  \n",
    "from azure.search.documents.indexes import SearchIndexClient  \n",
    "from azure.search.documents.indexes.models import (  \n",
    "    SearchIndex,  \n",
    "    SearchField,  \n",
    "    SearchFieldDataType,  \n",
    "    SimpleField,  \n",
    "    SearchableField,  \n",
    "    SearchIndex,  \n",
    "    SemanticConfiguration,  \n",
    "    SearchField,  \n",
    "    VectorSearch,\n",
    "    SemanticSearch,\n",
    "    SemanticPrioritizedFields,\n",
    "    SemanticField,\n",
    "    HnswAlgorithmConfiguration,\n",
    "    HnswParameters,\n",
    "    VectorSearchAlgorithmMetric,\n",
    "    VectorSearchProfile,\n",
    "    AzureOpenAIVectorizer,\n",
    "    AzureOpenAIVectorizerParameters\n",
    ")"
   ]
  },
  {
   "cell_type": "code",
   "execution_count": 3,
   "metadata": {},
   "outputs": [],
   "source": [
    "import os\n",
    "service_endpoint = os.getenv(\"AZSCH_ENDPOINT\")  \n",
    "credential = AzureKeyCredential(os.environ[\"AZSCH_KEY\"])\n",
    "\n",
    "#print(service_endpoint)\n",
    "\n",
    "api_key = os.getenv(\"AZURE_OPENAI_KEY\")\n",
    "azure_endpoint = os.getenv(\"AZURE_OPENAI_ENDPOINT\")"
   ]
  },
  {
   "cell_type": "code",
   "execution_count": 4,
   "metadata": {},
   "outputs": [],
   "source": [
    "# Create a search index\n",
    "def create_search_index(index_name, model_name='text-embedding-ada-002'):\n",
    "    index_client = SearchIndexClient(\n",
    "        endpoint=service_endpoint, credential=credential)\n",
    "    fields = [\n",
    "        SimpleField(name=\"id\", type=SearchFieldDataType.String, key=True),\n",
    "        SearchableField(name=\"proverb\", type=SearchFieldDataType.String,\n",
    "                        searchable=True, retrievable=True,\n",
    "                        analyzer_name=\"ko.microsoft\"),\n",
    "        SearchableField(name=\"meaning\", type=SearchFieldDataType.String,\n",
    "                        searchable=True, retrievable=True,\n",
    "                        analyzer_name=\"ko.microsoft\"),\n",
    "        SearchableField(name=\"source\", type=SearchFieldDataType.String,\n",
    "                        searchable=False, retrievable=True),\n",
    "        SearchableField(name=\"type\", type=SearchFieldDataType.String,\n",
    "                        searchable=False, retrievable=True),\n",
    "        SearchField(name=\"vector\", type=SearchFieldDataType.Collection(SearchFieldDataType.Single),\n",
    "                    searchable=True, vector_search_dimensions=1536 if model_name == 'text-embedding-ada-002' else 3072,\n",
    "                    #stored=False,\n",
    "                    vector_search_profile_name=\"myHnswProfile\")  \n",
    "    ]\n",
    "\n",
    "    vector_search = VectorSearch(  \n",
    "        algorithms=[  \n",
    "            HnswAlgorithmConfiguration(  \n",
    "                name=\"myHnsw\",  \n",
    "                parameters=HnswParameters(  \n",
    "                    m=4,  \n",
    "                    ef_construction=400,  \n",
    "                    ef_search=500,  \n",
    "                    metric=VectorSearchAlgorithmMetric.COSINE,  \n",
    "                ),  \n",
    "            )\n",
    "        ],  \n",
    "        profiles=[  \n",
    "            VectorSearchProfile(  \n",
    "                name=\"myHnswProfile\",  \n",
    "                algorithm_configuration_name=\"myHnsw\",\n",
    "                vectorizer_name=\"vectorizer\"\n",
    "            )\n",
    "        ],\n",
    "        vectorizers=[\n",
    "            AzureOpenAIVectorizer(\n",
    "                vectorizer_name=\"vectorizer\",\n",
    "                kind=\"azureOpenAI\",\n",
    "                parameters = AzureOpenAIVectorizerParameters(\n",
    "                    resource_url=azure_endpoint,\n",
    "                    api_key=api_key,\n",
    "                    deployment_name=model_name,\n",
    "                    model_name=model_name\n",
    "                ),\n",
    "            )\n",
    "        ]\n",
    "    )  \n",
    "\n",
    "    semantic_config = SemanticConfiguration(  \n",
    "        name=\"semantic-config\",  \n",
    "        prioritized_fields=SemanticPrioritizedFields(  \n",
    "            title_field=SemanticField(field_name=\"proverb\"),\n",
    "            content_fields=[SemanticField(field_name=\"meaning\")]  \n",
    "        )\n",
    "    )\n",
    "\n",
    "    # Create the semantic search with the configuration  \n",
    "    semantic_search = SemanticSearch(configurations=[semantic_config]) \n",
    "\n",
    "    # Create the search index\n",
    "    index = SearchIndex(name=index_name, fields=fields,\n",
    "                        vector_search=vector_search, semantic_search=semantic_search)\n",
    "    result = index_client.create_or_update_index(index)\n",
    "    print(f' {result.name} created')\n",
    "\n",
    "def update_search_index_rank(index_name, include_title=False, model_name='text-embedding-3-large'):\n",
    "    index_client = SearchIndexClient(\n",
    "        endpoint=service_endpoint, credential=credential)\n",
    "    fields = [\n",
    "        SimpleField(name=\"id\", type=SearchFieldDataType.String, key=True),\n",
    "        SearchableField(name=\"proverb\", type=SearchFieldDataType.String,\n",
    "                        searchable=True, retrievable=True,\n",
    "                        analyzer_name=\"ko.microsoft\"),\n",
    "        SearchableField(name=\"meaning\", type=SearchFieldDataType.String,\n",
    "                        searchable=True, retrievable=True,\n",
    "                        analyzer_name=\"ko.microsoft\"),\n",
    "        SearchableField(name=\"source\", type=SearchFieldDataType.String,\n",
    "                        searchable=False, retrievable=True),\n",
    "        SearchableField(name=\"type\", type=SearchFieldDataType.String,\n",
    "                        searchable=False, retrievable=True),\n",
    "        SearchField(name=\"vector\", type=SearchFieldDataType.Collection(SearchFieldDataType.Single),\n",
    "                    searchable=True, vector_search_dimensions=1536 if model_name == 'text-embedding-ada-002' else 3072,\n",
    "                    vector_search_profile_name=\"myHnswProfile\")  \n",
    "    ]\n",
    "    semantic_config = SemanticConfiguration(  \n",
    "        name=\"semantic-config\",  \n",
    "        prioritized_fields=SemanticPrioritizedFields(  \n",
    "            title_field=SemanticField(field_name=\"proverb\") if include_title else None,\n",
    "            content_fields=[SemanticField(field_name=\"meaning\")]  \n",
    "        )\n",
    "    )\n",
    "\n",
    "    # Create the semantic search with the configuration  \n",
    "    semantic_search = SemanticSearch(configurations=[semantic_config]) \n",
    "\n",
    "    # Create the search index\n",
    "    index = SearchIndex(name=index_name, fields=fields, semantic_search=semantic_search)\n",
    "    result = index_client.create_or_update_index(index)\n",
    "    print(f' {result.name} updated')"
   ]
  },
  {
   "cell_type": "code",
   "execution_count": 5,
   "metadata": {},
   "outputs": [
    {
     "name": "stdout",
     "output_type": "stream",
     "text": [
      " korproverb-semantic-index created\n"
     ]
    }
   ],
   "source": [
    "index_name = \"korproverb-semantic-index\"\n",
    "#create_search_index(index_name, 'text-embedding-ada-002')\n",
    "create_search_index(index_name, 'text-embedding-3-large')"
   ]
  },
  {
   "cell_type": "code",
   "execution_count": 6,
   "metadata": {},
   "outputs": [],
   "source": [
    "search_client = SearchClient(endpoint=service_endpoint, index_name=index_name, credential=credential)"
   ]
  },
  {
   "cell_type": "code",
   "execution_count": 7,
   "metadata": {},
   "outputs": [],
   "source": [
    "import pandas as pd\n",
    "from tqdm import tqdm"
   ]
  },
  {
   "cell_type": "code",
   "execution_count": 8,
   "metadata": {},
   "outputs": [
    {
     "data": {
      "text/html": [
       "<div>\n",
       "<style scoped>\n",
       "    .dataframe tbody tr th:only-of-type {\n",
       "        vertical-align: middle;\n",
       "    }\n",
       "\n",
       "    .dataframe tbody tr th {\n",
       "        vertical-align: top;\n",
       "    }\n",
       "\n",
       "    .dataframe thead th {\n",
       "        text-align: right;\n",
       "    }\n",
       "</style>\n",
       "<table border=\"1\" class=\"dataframe\">\n",
       "  <thead>\n",
       "    <tr style=\"text-align: right;\">\n",
       "      <th></th>\n",
       "      <th>Description</th>\n",
       "      <th>Meaning</th>\n",
       "      <th>Source</th>\n",
       "      <th>Embeddings2</th>\n",
       "      <th>Type</th>\n",
       "      <th>Embeddings3</th>\n",
       "    </tr>\n",
       "  </thead>\n",
       "  <tbody>\n",
       "    <tr>\n",
       "      <th>0</th>\n",
       "      <td>가갸 뒤 자〔뒷다리〕도 모른다</td>\n",
       "      <td>글자를 모르는 사람을 비유적으로 이르는 말.,사리에 어두운 사람을 놀림조로 이르는 말.</td>\n",
       "      <td>고려대 한국어대사전</td>\n",
       "      <td>[0.005334234796464443, -0.014505433849990368, ...</td>\n",
       "      <td>속담</td>\n",
       "      <td>[0.017118478193879128, -0.024258537217974663, ...</td>\n",
       "    </tr>\n",
       "    <tr>\n",
       "      <th>1</th>\n",
       "      <td>가까운 남이 먼 일가보다 낫다</td>\n",
       "      <td>이웃끼리 서로 친하게 지내다 보면 먼 곳에 있는 일가보다 더 친하게 되어 서로 도우...</td>\n",
       "      <td>표준국어대사전</td>\n",
       "      <td>[-0.007843011058866978, -0.018381033092737198,...</td>\n",
       "      <td>속담</td>\n",
       "      <td>[-0.028828121721744537, -0.00209252187050879, ...</td>\n",
       "    </tr>\n",
       "    <tr>\n",
       "      <th>2</th>\n",
       "      <td>가까운 데 집은 깎이고 먼 데 절은 비친다</td>\n",
       "      <td>가까운 데 있는 절이나 집은 자잘한 흠도 잘 드러나서 좋지 않아 보이고 먼 곳에 윤...</td>\n",
       "      <td>표준국어대사전</td>\n",
       "      <td>[-0.0012391135096549988, -0.012439466081559658...</td>\n",
       "      <td>속담</td>\n",
       "      <td>[-0.0034362655133008957, 0.012371719814836979,...</td>\n",
       "    </tr>\n",
       "    <tr>\n",
       "      <th>3</th>\n",
       "      <td>가까운 무당보다 먼 데 무당이 영하다</td>\n",
       "      <td>흔히 사람은 자신이 잘 알고 가까이 있는 것보다는 잘 모르고 멀리 있는 것을 더 좋...</td>\n",
       "      <td>표준국어대사전</td>\n",
       "      <td>[0.012985464185476303, -0.0004005177761428058,...</td>\n",
       "      <td>속담</td>\n",
       "      <td>[0.023922793567180634, -0.011181957088410854, ...</td>\n",
       "    </tr>\n",
       "    <tr>\n",
       "      <th>4</th>\n",
       "      <td>가까운 집 며느리일수록 흉이 많다</td>\n",
       "      <td>늘 가까이 있고 잘 아는 사이일수록 상대편의 결점이 눈에 더 많이 띈다는 말.</td>\n",
       "      <td>표준국어대사전</td>\n",
       "      <td>[-0.0019731209613382816, -0.02421422116458416,...</td>\n",
       "      <td>속담</td>\n",
       "      <td>[0.012853839434683323, -0.039608076214790344, ...</td>\n",
       "    </tr>\n",
       "  </tbody>\n",
       "</table>\n",
       "</div>"
      ],
      "text/plain": [
       "               Description                                            Meaning  \\\n",
       "0         가갸 뒤 자〔뒷다리〕도 모른다   글자를 모르는 사람을 비유적으로 이르는 말.,사리에 어두운 사람을 놀림조로 이르는 말.   \n",
       "1         가까운 남이 먼 일가보다 낫다  이웃끼리 서로 친하게 지내다 보면 먼 곳에 있는 일가보다 더 친하게 되어 서로 도우...   \n",
       "2  가까운 데 집은 깎이고 먼 데 절은 비친다  가까운 데 있는 절이나 집은 자잘한 흠도 잘 드러나서 좋지 않아 보이고 먼 곳에 윤...   \n",
       "3     가까운 무당보다 먼 데 무당이 영하다  흔히 사람은 자신이 잘 알고 가까이 있는 것보다는 잘 모르고 멀리 있는 것을 더 좋...   \n",
       "4       가까운 집 며느리일수록 흉이 많다        늘 가까이 있고 잘 아는 사이일수록 상대편의 결점이 눈에 더 많이 띈다는 말.   \n",
       "\n",
       "       Source                                        Embeddings2 Type  \\\n",
       "0  고려대 한국어대사전  [0.005334234796464443, -0.014505433849990368, ...   속담   \n",
       "1     표준국어대사전  [-0.007843011058866978, -0.018381033092737198,...   속담   \n",
       "2     표준국어대사전  [-0.0012391135096549988, -0.012439466081559658...   속담   \n",
       "3     표준국어대사전  [0.012985464185476303, -0.0004005177761428058,...   속담   \n",
       "4     표준국어대사전  [-0.0019731209613382816, -0.02421422116458416,...   속담   \n",
       "\n",
       "                                         Embeddings3  \n",
       "0  [0.017118478193879128, -0.024258537217974663, ...  \n",
       "1  [-0.028828121721744537, -0.00209252187050879, ...  \n",
       "2  [-0.0034362655133008957, 0.012371719814836979,...  \n",
       "3  [0.023922793567180634, -0.011181957088410854, ...  \n",
       "4  [0.012853839434683323, -0.039608076214790344, ...  "
      ]
     },
     "execution_count": 8,
     "metadata": {},
     "output_type": "execute_result"
    }
   ],
   "source": [
    "df = pd.read_pickle('kor_proverbs_embeddings.pkl')\n",
    "df.head()"
   ]
  },
  {
   "cell_type": "code",
   "execution_count": 9,
   "metadata": {},
   "outputs": [
    {
     "name": "stderr",
     "output_type": "stream",
     "text": [
      "  0%|          | 0/224 [00:00<?, ?it/s]"
     ]
    },
    {
     "name": "stderr",
     "output_type": "stream",
     "text": [
      "100%|██████████| 224/224 [02:36<00:00,  1.43it/s]\n"
     ]
    }
   ],
   "source": [
    "count = 0\n",
    "batch_size = 20\n",
    "for i in tqdm(range(0, len(df), batch_size)):\n",
    "    # set end position of batch\n",
    "    i_end = min(i+batch_size, len(df))\n",
    "    \n",
    "    documents = df[i:i_end].apply(\n",
    "        lambda row: {'id': str(row.name), \n",
    "                     'proverb': row['Description'], \n",
    "                     'meaning': row['Meaning'],\n",
    "                     'source': row['Source'],\n",
    "                     'type': str(row['Type']),\n",
    "                     #'vector': generate_embeddings(row['chunk'])\n",
    "                     'vector': row['Embeddings3']\n",
    "                    }, axis=1).to_list()\n",
    "    \n",
    "    result = search_client.upload_documents(documents)  "
   ]
  },
  {
   "cell_type": "markdown",
   "metadata": {},
   "source": [
    "### Vector Search"
   ]
  },
  {
   "cell_type": "code",
   "execution_count": 10,
   "metadata": {},
   "outputs": [],
   "source": [
    "from azure.search.documents.models import (\n",
    "    VectorizableTextQuery,\n",
    "    VectorQuery,\n",
    "    VectorizedQuery,\n",
    "    QueryType,\n",
    "    QueryCaptionType,\n",
    "    QueryAnswerType)"
   ]
  },
  {
   "cell_type": "code",
   "execution_count": 11,
   "metadata": {},
   "outputs": [],
   "source": [
    "def azsch_vector_query(query):\n",
    "    #vector_query = VectorizedQuery(vector=generate_embeddings(query), k_nearest_neighbors=3, fields=\"vector\")\n",
    "    vector_query = VectorizableTextQuery(text=query, k_nearest_neighbors=50, fields=\"vector\", exhaustive=True)\n",
    "\n",
    "    results = search_client.search(  \n",
    "        search_text=None,  \n",
    "        vector_queries=[vector_query],\n",
    "        select=[\"proverb\", \"meaning\", \"source\", \"type\"],\n",
    "        query_language=\"ko-kr\",\n",
    "        top=10 # for limiting text search\n",
    "    ) \n",
    "\n",
    "    for i, result in enumerate(results, 1): \n",
    "        print(f\"{i}: {result['@search.score']:.10f}: {result['proverb']} - {result['meaning']}, {result['source']}\")  "
   ]
  },
  {
   "cell_type": "code",
   "execution_count": 12,
   "metadata": {},
   "outputs": [
    {
     "name": "stdout",
     "output_type": "stream",
     "text": [
      "1: 0.6639138000: 드나드는 개가 꿩을 문다 - 꾸준하게 열성적으로 노력하는 사람이 일을 이루고 재물을 얻을 수 있다는 말., 표준국어대사전\n",
      "2: 0.6578187000: 십 년 적공이면 한 가지 성공을 한다 - 무슨 일이든지 오랫동안 꾸준히 노력하면 마침내는 성공하게 됨을 이르는 말., 우리말샘\n",
      "3: 0.6566128000: 절뚝발이 말이 천리 간다 - 누구나 꾸준히 노력하면 무슨 일이든 이룰 수 있다는 말. (=둔한 말도 열흘 가면 천리를 간다.), 고려대 한국어대사전\n",
      "4: 0.6485814000: 눈을 떠야 별을 보지 - 어떤 성과를 거두려면 그에 상당한 노력과 준비가 있어야 한다는 말., 표준국어대사전\n",
      "5: 0.6459018000: 옥도 갈아야〔닦아야〕 빛이 난다 - 아무리 소질이 좋아도 그것을 잘 수양하지 않으면 훌륭해질 수 없음을 이르는 말.,고생을 겪으면서 노력해야 뜻한 바를 이룰 수 있다는 말., 고려대 한국어대사전\n",
      "6: 0.6447277000: 내 침 발라 꼰 새끼가 제일 - 자기의 노력을 들여 이룩한 성과가 귀중함을 비유적으로 이르는 말., 표준국어대사전\n",
      "7: 0.6434084000: 잠을 자야 꿈을 꾸지 - 어떤 성과를 거두려면 그에 상당한 노력과 준비가 있어야 한다는 말.,원인 없이 결과를 바랄 수 없음을 이르는 말., 표준국어대사전\n",
      "8: 0.6410484000: 굴을 파야 금을 얻는다 - 목적을 이루기 위하여서는 거기에 필요한 조건을 갖추거나 노력을 하여야 함을 교훈적으로 이르는 말., 우리말샘\n",
      "9: 0.6397308000: 정성이 지극하면 돌 위에도 풀이 난다 - 진심으로 정성을 다하면 불가능해 보이는 일도 이루어질 수 있다는 말., 고려대 한국어대사전\n",
      "10: 0.6392494400: 쥐도 한몫 보면 락이 있다 - 한길로 전심전력하면 성공할 때가 있음을 비유적으로 이르는 말., 표준국어대사전\n"
     ]
    }
   ],
   "source": [
    "azsch_vector_query('노력')"
   ]
  },
  {
   "cell_type": "code",
   "execution_count": 13,
   "metadata": {},
   "outputs": [
    {
     "name": "stdout",
     "output_type": "stream",
     "text": [
      "1: 0.7986873000: 십 년 적공이면 한 가지 성공을 한다 - 무슨 일이든지 오랫동안 꾸준히 노력하면 마침내는 성공하게 됨을 이르는 말., 우리말샘\n",
      "2: 0.7708126000: 절뚝발이 말이 천리 간다 - 누구나 꾸준히 노력하면 무슨 일이든 이룰 수 있다는 말. (=둔한 말도 열흘 가면 천리를 간다.), 고려대 한국어대사전\n",
      "3: 0.7679819000: 드나드는 개가 꿩을 문다 - 꾸준하게 열성적으로 노력하는 사람이 일을 이루고 재물을 얻을 수 있다는 말., 표준국어대사전\n",
      "4: 0.7645953000: 쥐도 한몫 보면 락이 있다 - 한길로 전심전력하면 성공할 때가 있음을 비유적으로 이르는 말., 표준국어대사전\n",
      "5: 0.7573927600: 정성이 지극하면 돌 위에도 풀이 난다 - 진심으로 정성을 다하면 불가능해 보이는 일도 이루어질 수 있다는 말., 고려대 한국어대사전\n",
      "6: 0.7284254400: 옥도 갈아야〔닦아야〕 빛이 난다 - 아무리 소질이 좋아도 그것을 잘 수양하지 않으면 훌륭해질 수 없음을 이르는 말.,고생을 겪으면서 노력해야 뜻한 바를 이룰 수 있다는 말., 고려대 한국어대사전\n",
      "7: 0.7237236000: 논 자취는 없어도 공부한 공은 남는다 - 놀지 않고 힘써 공부하면 훗날 그 공적이 반드시 드러난다는 말., 고려대 한국어대사전\n",
      "8: 0.7237153000: 하자고 결심하면 못 해낼 일이 없다 - 결심과 각오만 단단하다면 무슨 일이든 성사할 수 있다는 말., 표준국어대사전\n",
      "9: 0.7185617700: 입만 가지면 서울 이 서방 집도 찾아간다 - 말만 잘하면 아무리 힘든 일이라도 할 수 있음을 이르는 말., 표준국어대사전\n",
      "10: 0.7147143500: 정성이 지극하면 돌 위에 풀이 난다 - 정성을 다하면 어려운 일도 해낼 수 있음을 비유적으로 이르는 말., 표준국어대사전\n"
     ]
    }
   ],
   "source": [
    "azsch_vector_query('열심히 노력하면 성공한다는 말')"
   ]
  },
  {
   "cell_type": "code",
   "execution_count": 14,
   "metadata": {},
   "outputs": [
    {
     "name": "stdout",
     "output_type": "stream",
     "text": [
      "1: 0.6816839000: 십 년 적공이면 한 가지 성공을 한다 - 무슨 일이든지 오랫동안 꾸준히 노력하면 마침내는 성공하게 됨을 이르는 말., 우리말샘\n",
      "2: 0.6753309000: 드나드는 개가 꿩을 문다 - 꾸준하게 열성적으로 노력하는 사람이 일을 이루고 재물을 얻을 수 있다는 말., 표준국어대사전\n",
      "3: 0.6654892600: 논 자취는 없어도 공부한 공은 남는다 - 놀지 않고 힘써 공부하면 훗날 그 공적이 반드시 드러난다는 말., 고려대 한국어대사전\n",
      "4: 0.6603259000: 절뚝발이 말이 천리 간다 - 누구나 꾸준히 노력하면 무슨 일이든 이룰 수 있다는 말. (=둔한 말도 열흘 가면 천리를 간다.), 고려대 한국어대사전\n",
      "5: 0.6429871000: 옥도 갈아야 빛이 난다 - 아무리 소질이 좋아도 이것을 잘 닦고 기르지 아니하면 훌륭한 것이 되지 못한다는 말.,고생을 겪으며 노력을 기울여야 뜻한 바를 이룰 수 있다는 말., 표준국어대사전\n",
      "6: 0.6429871000: 옥석도 닦아야 빛이 난다 - 아무리 소질이 좋아도 이것을 잘 닦고 기르지 아니하면 훌륭한 것이 되지 못한다는 말.,고생을 겪으며 노력을 기울여야 뜻한 바를 이룰 수 있다는 말., 표준국어대사전\n",
      "7: 0.6427337000: 옥도 갈아야〔닦아야〕 빛이 난다 - 아무리 소질이 좋아도 그것을 잘 수양하지 않으면 훌륭해질 수 없음을 이르는 말.,고생을 겪으면서 노력해야 뜻한 바를 이룰 수 있다는 말., 고려대 한국어대사전\n",
      "8: 0.6418832000: 쥐도 한몫 보면 락이 있다 - 한길로 전심전력하면 성공할 때가 있음을 비유적으로 이르는 말., 표준국어대사전\n",
      "9: 0.6308156000: 몸을 구부리는 자벌레는 장차 곧게 펴려는 것이다 - 미래에 성공을 하기 위해서는 현재의 어려움은 참아 내야 한다는 말., 고려대 한국어대사전\n",
      "10: 0.6281932000: 둔한 말이 열 수레를 끈다 - 미련하고 둔한 사람이라 하더라도 쉬지 않고 노력하면 큰일을 할 수 있다는 말., 고려대 한국어대사전\n"
     ]
    }
   ],
   "source": [
    "azsch_vector_query('Work hard and you will succeed')"
   ]
  },
  {
   "cell_type": "markdown",
   "metadata": {},
   "source": [
    "### Hybrid Search"
   ]
  },
  {
   "cell_type": "code",
   "execution_count": 15,
   "metadata": {},
   "outputs": [],
   "source": [
    "def azsch_hybrid_query(query):\n",
    "    #vector_query = VectorizedQuery(vector=generate_embeddings(query), k_nearest_neighbors=3, fields=\"vector\")\n",
    "    vector_query = VectorizableTextQuery(text=query, k_nearest_neighbors=50, fields=\"vector\", exhaustive=True)\n",
    "\n",
    "    results = search_client.search(  \n",
    "        search_text=query,  \n",
    "        vector_queries=[vector_query],\n",
    "        select=[\"proverb\", \"meaning\", \"source\", \"type\"],\n",
    "        query_language=\"ko-kr\",\n",
    "        top=10 # for limiting text search\n",
    "    ) \n",
    "\n",
    "    for i, result in enumerate(results, 1): \n",
    "        print(f\"{i}: {result['@search.score']:.10f}: {result['proverb']} - {result['meaning']}, {result['source']}\")  "
   ]
  },
  {
   "cell_type": "code",
   "execution_count": 16,
   "metadata": {},
   "outputs": [
    {
     "name": "stdout",
     "output_type": "stream",
     "text": [
      "1: 0.0333333351: 십 년 적공이면 한 가지 성공을 한다 - 무슨 일이든지 오랫동안 꾸준히 노력하면 마침내는 성공하게 됨을 이르는 말., 우리말샘\n",
      "2: 0.0322664604: 절뚝발이 말이 천리 간다 - 누구나 꾸준히 노력하면 무슨 일이든 이룰 수 있다는 말. (=둔한 말도 열흘 가면 천리를 간다.), 고려대 한국어대사전\n",
      "3: 0.0305789001: 쥐도 한몫 보면 락이 있다 - 한길로 전심전력하면 성공할 때가 있음을 비유적으로 이르는 말., 표준국어대사전\n",
      "4: 0.0298276618: 둔한 말이 열 수레를 끈다 - 미련하고 둔한 사람이라 하더라도 쉬지 않고 노력하면 큰일을 할 수 있다는 말., 고려대 한국어대사전\n",
      "5: 0.0290516689: 누구는 날 때부터 안다더냐 - 사람이면 누구나 똑같으므로 열심히 노력하면 배울 수 있다는 말., 고려대 한국어대사전\n",
      "6: 0.0285714287: 눈을 떠야 별을 보지 - 어떤 성과를 거두려면 그에 상당한 노력과 준비가 있어야 한다는 말., 표준국어대사전\n",
      "7: 0.0284747109: 드나드는 개가 꿩을 문다 - 꾸준하게 열성적으로 노력하는 사람이 일을 이루고 재물을 얻을 수 있다는 말., 표준국어대사전\n",
      "8: 0.0278846156: 가는 말에 채찍질 - 열심히 하고 있는데도 더 빨리하라고 독촉함을 비유적으로 이르는 말.,형편이나 힘이 한창 좋을 때라도 더욱 마음을 써서 힘써야 함을 비유적으로 이르는 말., 표준국어대사전\n",
      "9: 0.0277777780: 천 리 길을 찾아와서 문턱 넘어 죽는다 - 오랫동안 고생하며 추진하여 오던 일이 성공을 눈앞에 놓고 덜컥 잘못되는 경우를 비유적으로 이르는 말., 표준국어대사전\n",
      "10: 0.0271204934: 소매가 길면 춤을 잘 추고 돈이 많으면 장사를 잘한다 - 수단이나 밑천이 든든하면 성공하기 쉽다는 말., 표준국어대사전\n"
     ]
    }
   ],
   "source": [
    "azsch_hybrid_query('열심히 노력하면 성공한다는 말')"
   ]
  },
  {
   "cell_type": "markdown",
   "metadata": {},
   "source": [
    "### Semantic rerank\n",
    "\n",
    "combination of `title(description)` text + `meaning` text + `meaning` vector search result"
   ]
  },
  {
   "cell_type": "code",
   "execution_count": 17,
   "metadata": {},
   "outputs": [],
   "source": [
    "def azsch_rerank_query(query):\n",
    "    #vector_query = VectorizedQuery(vector=generate_embeddings(query), k_nearest_neighbors=3, fields=\"vector\")\n",
    "    vector_query = VectorizableTextQuery(text=query, k_nearest_neighbors=50, fields=\"vector\", exhaustive=True)\n",
    "\n",
    "    results = search_client.search(  \n",
    "        search_text=query,  \n",
    "        vector_queries=[vector_query],\n",
    "        select=[\"proverb\", \"meaning\", \"source\", \"type\"],\n",
    "        query_type=QueryType.SEMANTIC,\n",
    "        semantic_configuration_name='semantic-config',\n",
    "        query_caption=QueryCaptionType.EXTRACTIVE,\n",
    "        #query_answer=QueryAnswerType.EXTRACTIVE,\n",
    "        query_language=\"ko-kr\",\n",
    "        top=10 # for limiting text search\n",
    "    ) \n",
    "\n",
    "    for result in results:  \n",
    "        if result[\"@search.captions\"]:\n",
    "            caption = result[\"@search.captions\"][0]\n",
    "            print(f\"{result['@search.reranker_score']:.5f}/{result['@search.score']:.5f}: {result['proverb']} - {caption.highlights}, {result['source']}\")  \n",
    "        else:\n",
    "            print(f\"{result['@search.reranker_score']:.5f}/{result['@search.score']:.5f}: {result['proverb']} - {result['meaning']}, {result['source']}\")  \n",
    " "
   ]
  },
  {
   "cell_type": "code",
   "execution_count": 18,
   "metadata": {},
   "outputs": [
    {
     "name": "stdout",
     "output_type": "stream",
     "text": [
      "2.56431/0.02599: 구르는 돌은 이끼가 안 낀다 - <em>부지런하고 꾸준히 노력하는 사람은 </em>침체<em>되지 않고 계속 발전한다는 말.</em>, 표준국어대사전\n",
      "2.52001/0.02905: 누구는 날 때부터 안다더냐 - 사람이면 누구나 똑같으므로<em> 열심히 노력하면 배울 수 있다는 </em>말., 고려대 한국어대사전\n",
      "2.51433/0.02857: 눈을 떠야 별을 보지 - <em>어떤 성과를 거두려면 그에 상당한 노력과 준비가 있어야 한다는 말.</em>, 표준국어대사전\n",
      "2.50919/0.02471: 내 침 발라 꼰 새끼가 제일 - <em>자기의 노력을 들여 이룩한 성과가 귀중함을 </em>비유적으로 이르<em>는 </em>말., 표준국어대사전\n",
      "2.48261/0.02788: 가는 말에 채찍질 - <em>열심히 하고 있는데도 더 빨리하라고 독촉함을 비유적으로 이르는 </em>말.,형편이나 힘이 한창 좋을 때라도 더욱 마음을 써서 힘써야 함을 비유적으로 이르는 말., 표준국어대사전\n",
      "2.45744/0.02712: 소매가 길면 춤을 잘 추고 돈이 많으면 장사를 잘한다 - 수단이나 밑천이<em> 든든하면 성공하기 쉽다는 말.</em>, 표준국어대사전\n",
      "2.45656/0.02411: 잠을 자야 꿈을 꾸지 - <em>어떤 성과를 거두려면 그에 상당한 노력과 준비가 있어야 한다는 말.</em>,원인 없이 결과를 바랄 수 없음을 이르는 말., 표준국어대사전\n",
      "2.45230/0.03333: 십 년 적공이면 한 가지 성공을 한다 - <em>무슨 일이든지 오랫동안 꾸준히 노력하면 마침내는 성공하게 됨을 </em>이르<em>는 </em>말., 우리말샘\n",
      "2.44486/0.01331: 잘 걷던 놈도 말만 보면 타고 가련다 - <em>자기 힘만으로 할 수 있는 일도 어떤 유리한 </em>조건<em>이 만들어지면 </em>그것<em>에 </em>의지하고 자신의 힘을 쓰지 아니하려 함을 이르는 말.  ‘걸어가다가도 말만 보면 타고 가자고 한다’., 우리말샘\n",
      "2.44025/0.02367: 하늘을 보아야 별을 따지 - <em>어떤 성과를 거두려면 그에 상당한 노력과 준비가 있어야 한다는 말.</em>,무슨 일이 이루어질 기회나 조건이 전혀 없음을 이르는 말., 표준국어대사전\n"
     ]
    }
   ],
   "source": [
    "#update_search_index_rank(include_title=True)\n",
    "azsch_rerank_query('열심히 노력하면 성공한다는 말')"
   ]
  },
  {
   "cell_type": "markdown",
   "metadata": {},
   "source": [
    "#### Modify semantic configuration"
   ]
  },
  {
   "cell_type": "code",
   "execution_count": 19,
   "metadata": {},
   "outputs": [
    {
     "name": "stdout",
     "output_type": "stream",
     "text": [
      " korproverb-semantic-index updated\n",
      "2.65187/0.02905: 누구는 날 때부터 안다더냐 - 사람이면<em> 누구나 똑같으므로 열심히 노력하면 배울 수 있다는 말.</em>, 고려대 한국어대사전\n",
      "2.61642/0.03333: 십 년 적공이면 한 가지 성공을 한다 - 무슨 일이든지<em> 오랫동안 꾸준히 노력하면 마침내는 성공하게 됨을 이르는 </em>말., 우리말샘\n",
      "2.54482/0.01316: 골나면 보리방아 더 잘 찧는다〔찧듯 한다〕 - 골나면 화가 치밀어 올라 그것을 해소하느라고 오히려 일을 더<em> 힘차</em><em>고 열심히 하게 된다는 </em>말., 고려대 한국어대사전\n",
      "2.53277/0.01373: 산에 가야 꿩을 잡고 바다엘 가야 고기를 잡는다 - 무엇인가<em>를 이루기 위해서는 그 방향을 제대로 잡고 노력하여야만 그 목적을 제대로 이룰 수 있음을 </em>비유적으로 이르<em>는 </em>말.,무슨 일이든지 가만히 앉아 있어서는 이루어지지 않고 발 벗고 나서서 힘을 들여야 이루어짐을 비유적으로 이르는 말., 고려대 한국어대사전\n",
      "2.53046/0.03058: 쥐도 한몫 보면 락이 있다 - <em>한길로 전심전력하면 성공할 때가 있음을 비유</em>적으로<em> 이르는 </em>말., 표준국어대사전\n",
      "2.51345/0.02598: 진 꽃은 또 피지만 꺾인 꽃은 다시 피지 못한다 - 아무리 형편이 어렵더라도 뜻을<em> 굳게 </em>가지고<em> 굽히지 아니하여야 끝내 성공할 수 있음을</em> 비유적으로 이르는 말., 표준국어대사전\n",
      "2.51203/0.02599: 구르는 돌은 이끼가 안 낀다 - <em>부지런하고 꾸준히 노력하는 사람은 침체되지 않고 계속 발전한다는 말.</em>, 표준국어대사전\n",
      "2.48279/0.02712: 소매가 길면 춤을 잘 추고 돈이 많으면 장사를 잘한다 - 수단이나 밑천<em>이 든든하면 성공하기 쉽다는 말.</em>, 표준국어대사전\n",
      "2.46754/0.01333: 깊은 물이라야 큰 고기가 논다 - <em>깊은</em> 물<em>에 큰 고기가 놀듯이 포부가 큰 사람이라야 큰일을 이루고 성공을 하게 된다는 </em>말., 고려대 한국어대사전\n",
      "2.44610/0.01480: 말 한마디에 천 냥 빚도 갚는다 - 말<em>만 잘하면 어려운 일이나 불가능해 보이는 일도 해결할 수 </em>있다는 말., 표준국어대사전\n"
     ]
    }
   ],
   "source": [
    "update_search_index_rank(index_name, include_title=False)\n",
    "azsch_rerank_query('열심히 노력하면 성공한다는 말')"
   ]
  },
  {
   "cell_type": "code",
   "execution_count": 20,
   "metadata": {},
   "outputs": [
    {
     "name": "stdout",
     "output_type": "stream",
     "text": [
      " korproverb-semantic-index updated\n"
     ]
    }
   ],
   "source": [
    "update_search_index_rank(index_name, include_title=True)"
   ]
  },
  {
   "cell_type": "code",
   "execution_count": null,
   "metadata": {},
   "outputs": [],
   "source": []
  }
 ],
 "metadata": {
  "kernelspec": {
   "display_name": "aisearch",
   "language": "python",
   "name": "python3"
  },
  "language_info": {
   "codemirror_mode": {
    "name": "ipython",
    "version": 3
   },
   "file_extension": ".py",
   "mimetype": "text/x-python",
   "name": "python",
   "nbconvert_exporter": "python",
   "pygments_lexer": "ipython3",
   "version": "3.10.16"
  }
 },
 "nbformat": 4,
 "nbformat_minor": 2
}
